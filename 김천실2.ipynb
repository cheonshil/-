{
  "nbformat": 4,
  "nbformat_minor": 0,
  "metadata": {
    "colab": {
      "name": "김천실2.ipynb",
      "version": "0.3.2",
      "provenance": [],
      "collapsed_sections": [],
      "include_colab_link": true
    },
    "kernelspec": {
      "name": "python3",
      "display_name": "Python 3"
    }
  },
  "cells": [
    {
      "cell_type": "markdown",
      "metadata": {
        "id": "view-in-github",
        "colab_type": "text"
      },
      "source": [
        "<a href=\"https://colab.research.google.com/github/cheonshil/python/blob/master/%EA%B9%80%EC%B2%9C%EC%8B%A42.ipynb\" target=\"_parent\"><img src=\"https://colab.research.google.com/assets/colab-badge.svg\" alt=\"Open In Colab\"/></a>"
      ]
    },
    {
      "cell_type": "markdown",
      "metadata": {
        "id": "Oa6UY3vSO5HC",
        "colab_type": "text"
      },
      "source": [
        "# 리스트\n"
      ]
    },
    {
      "cell_type": "markdown",
      "metadata": {
        "id": "GXfZRZIQPsc_",
        "colab_type": "text"
      },
      "source": [
        "## 리스트란?\n",
        "리스트는 여러값을 담을 수 있는 변수입니다."
      ]
    },
    {
      "cell_type": "markdown",
      "metadata": {
        "id": "qwkuJByCP42N",
        "colab_type": "text"
      },
      "source": [
        "### 1. 리스트 만들기 \n",
        "방법은 2가지"
      ]
    },
    {
      "cell_type": "markdown",
      "metadata": {
        "id": "-nAKtqyoQBDb",
        "colab_type": "text"
      },
      "source": [
        "#### 방법 1\n"
      ]
    },
    {
      "cell_type": "code",
      "metadata": {
        "id": "W-pi26dcQyn3",
        "colab_type": "code",
        "colab": {}
      },
      "source": [
        "# list1 이라는 빈 리스트를 만들어 보겠습니다.\n",
        "list1=[]"
      ],
      "execution_count": 0,
      "outputs": []
    },
    {
      "cell_type": "code",
      "metadata": {
        "id": "xMz8AF8aTRjS",
        "colab_type": "code",
        "colab": {}
      },
      "source": [
        "del(print)"
      ],
      "execution_count": 0,
      "outputs": []
    },
    {
      "cell_type": "code",
      "metadata": {
        "id": "VEva-rPtTU37",
        "colab_type": "code",
        "colab": {
          "base_uri": "https://localhost:8080/",
          "height": 89
        },
        "outputId": "ce2566cf-d00b-4ec2-e54a-ab001762646d"
      },
      "source": [
        "%whos"
      ],
      "execution_count": 26,
      "outputs": [
        {
          "output_type": "stream",
          "text": [
            "Variable   Type    Data/Info\n",
            "----------------------------\n",
            "list1      list    n=0\n",
            "list2      list    n=2\n"
          ],
          "name": "stdout"
        }
      ]
    },
    {
      "cell_type": "code",
      "metadata": {
        "id": "JxfQc5h3TkZw",
        "colab_type": "code",
        "colab": {
          "base_uri": "https://localhost:8080/",
          "height": 35
        },
        "outputId": "b9469ebd-623c-4ce8-c420-7f78f8736492"
      },
      "source": [
        "print(list1)"
      ],
      "execution_count": 27,
      "outputs": [
        {
          "output_type": "stream",
          "text": [
            "[]\n"
          ],
          "name": "stdout"
        }
      ]
    },
    {
      "cell_type": "code",
      "metadata": {
        "id": "h4Zly6YnT-VI",
        "colab_type": "code",
        "colab": {}
      },
      "source": [
        "list4=list([1, '철수', True])"
      ],
      "execution_count": 0,
      "outputs": []
    },
    {
      "cell_type": "code",
      "metadata": {
        "id": "iijMzwTWVCLM",
        "colab_type": "code",
        "colab": {
          "base_uri": "https://localhost:8080/",
          "height": 35
        },
        "outputId": "e714998d-4d37-4b86-e623-d7e898c09b41"
      },
      "source": [
        "print(list4)"
      ],
      "execution_count": 35,
      "outputs": [
        {
          "output_type": "stream",
          "text": [
            "[1, '철수', True]\n"
          ],
          "name": "stdout"
        }
      ]
    },
    {
      "cell_type": "code",
      "metadata": {
        "id": "S6E0_QagUg6M",
        "colab_type": "code",
        "colab": {}
      },
      "source": [
        "list3=[1, '철수', True]"
      ],
      "execution_count": 0,
      "outputs": []
    },
    {
      "cell_type": "code",
      "metadata": {
        "id": "VKEUjNyHUqAE",
        "colab_type": "code",
        "colab": {
          "base_uri": "https://localhost:8080/",
          "height": 35
        },
        "outputId": "e664aa8c-eb4e-4b0b-8026-a0109aa8dc6f"
      },
      "source": [
        "print(list3)"
      ],
      "execution_count": 30,
      "outputs": [
        {
          "output_type": "stream",
          "text": [
            "[1, '철수', True]\n"
          ],
          "name": "stdout"
        }
      ]
    },
    {
      "cell_type": "code",
      "metadata": {
        "id": "n_TfLZs6UsZ5",
        "colab_type": "code",
        "colab": {}
      },
      "source": [
        ""
      ],
      "execution_count": 0,
      "outputs": []
    }
  ]
}