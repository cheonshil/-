{
  "nbformat": 4,
  "nbformat_minor": 0,
  "metadata": {
    "colab": {
      "name": "리스트_김천실",
      "version": "0.3.2",
      "provenance": [],
      "collapsed_sections": [],
      "include_colab_link": true
    },
    "kernelspec": {
      "name": "python3",
      "display_name": "Python 3"
    }
  },
  "cells": [
    {
      "cell_type": "markdown",
      "metadata": {
        "id": "view-in-github",
        "colab_type": "text"
      },
      "source": [
        "<a href=\"https://colab.research.google.com/github/cheonshil/python/blob/master/%EB%A6%AC%EC%8A%A4%ED%8A%B8_%EA%B9%80%EC%B2%9C%EC%8B%A4.ipynb\" target=\"_parent\"><img src=\"https://colab.research.google.com/assets/colab-badge.svg\" alt=\"Open In Colab\"/></a>"
      ]
    },
    {
      "cell_type": "markdown",
      "metadata": {
        "id": "1I6mj-LbAMgF",
        "colab_type": "text"
      },
      "source": [
        "# 2.리스트\n",
        "여러개의 값을 담고 있는 변수."
      ]
    },
    {
      "cell_type": "markdown",
      "metadata": {
        "id": "QPfwUB3nAa1G",
        "colab_type": "text"
      },
      "source": [
        "## 2-1. 리스트 형식\n",
        "<pre>\n",
        "* 리스트 이름 = [값1, 값2, 값3,...]\n",
        "  리스트 이름 = []\n",
        "  \n",
        "\n",
        "* 리스트 이름으로 안되는 것들 : \n",
        "  - if, def, class, while, for, else 등의 예약어.\n",
        "  - 숫자로 시작하는 것\n",
        "  ex) 1a, 3name, ...\n",
        "  \n",
        "  \n",
        "* 리스트 특징\n",
        "  1. 순서가 존재\n",
        "  2. 값을 인덱스로 불러옴.\n",
        "  3. 값 수정 가능.\n",
        "\n",
        "\n"
      ]
    },
    {
      "cell_type": "code",
      "metadata": {
        "id": "g7m1y-kQCcjp",
        "colab_type": "code",
        "colab": {}
      },
      "source": [
        "a=[10, 20, 30]\n",
        "name=('철수')"
      ],
      "execution_count": 0,
      "outputs": []
    },
    {
      "cell_type": "markdown",
      "metadata": {
        "id": "3w1D7a4uEAht",
        "colab_type": "text"
      },
      "source": [
        "## 2-2. 리스트 인덱스\n",
        "<pre>\n",
        "* 형식 :\n",
        "  리스트명[인덱스]\n",
        "\n",
        "\n",
        "* 사용법 :\n",
        "  첫 번째 값: [0]\n",
        "  두 번째 값: [1]\n",
        "  마지막 값 : [끝 인덱스] or [-1]"
      ]
    },
    {
      "cell_type": "code",
      "metadata": {
        "id": "RafT_WMEEPiQ",
        "colab_type": "code",
        "outputId": "e6f96a55-3c88-49fc-b56c-ca92b137354d",
        "colab": {
          "base_uri": "https://localhost:8080/",
          "height": 71
        }
      },
      "source": [
        "print(a[0])\n",
        "print(a[1])\n",
        "print(a[-1])"
      ],
      "execution_count": 0,
      "outputs": [
        {
          "output_type": "stream",
          "text": [
            "10\n",
            "20\n",
            "30\n"
          ],
          "name": "stdout"
        }
      ]
    },
    {
      "cell_type": "code",
      "metadata": {
        "id": "Wb6y_Qb1IMIS",
        "colab_type": "code",
        "colab": {}
      },
      "source": [
        ""
      ],
      "execution_count": 0,
      "outputs": []
    },
    {
      "cell_type": "markdown",
      "metadata": {
        "id": "ETPEbbObI5zr",
        "colab_type": "text"
      },
      "source": [
        "### 리스트 내부 리스트의 인덱스"
      ]
    },
    {
      "cell_type": "code",
      "metadata": {
        "id": "H16z3JshIc0X",
        "colab_type": "code",
        "colab": {}
      },
      "source": [
        "z=[11,['a','b']]\n"
      ],
      "execution_count": 0,
      "outputs": []
    },
    {
      "cell_type": "code",
      "metadata": {
        "id": "H0mplNBSJLhp",
        "colab_type": "code",
        "outputId": "1ec4180a-637e-4a58-91ad-55bd2404b04a",
        "colab": {
          "base_uri": "https://localhost:8080/",
          "height": 53
        }
      },
      "source": [
        "print(z[0])\n",
        "print(z[1])"
      ],
      "execution_count": 0,
      "outputs": [
        {
          "output_type": "stream",
          "text": [
            "11\n",
            "['a', 'b']\n"
          ],
          "name": "stdout"
        }
      ]
    },
    {
      "cell_type": "code",
      "metadata": {
        "id": "fk-1Jt-DKXQb",
        "colab_type": "code",
        "colab": {}
      },
      "source": [
        "a = [3, 7, ['수박', '참외',['사과', '딸기']]]"
      ],
      "execution_count": 0,
      "outputs": []
    },
    {
      "cell_type": "code",
      "metadata": {
        "id": "TSlHK0ykcbW4",
        "colab_type": "code",
        "outputId": "04f72968-55aa-4aa9-cf15-3893c4f16e45",
        "colab": {
          "base_uri": "https://localhost:8080/",
          "height": 53
        }
      },
      "source": [
        "print(a[:])\n",
        "print(a[2:3])"
      ],
      "execution_count": 0,
      "outputs": [
        {
          "output_type": "stream",
          "text": [
            "[3, 7, ['수박', '참외', ['사과', '딸기']]]\n",
            "[['수박', '참외', ['사과', '딸기']]]\n"
          ],
          "name": "stdout"
        }
      ]
    },
    {
      "cell_type": "markdown",
      "metadata": {
        "id": "1JS8VyCMKZKe",
        "colab_type": "text"
      },
      "source": [
        "## 2-3.리스트 슬라이스\n",
        "<pre>\n",
        "사용법 :\n",
        "\n",
        "리스트명[시작인덱스:원하는인덱스+1]"
      ]
    },
    {
      "cell_type": "code",
      "metadata": {
        "id": "nL7WdQ3VLsLK",
        "colab_type": "code",
        "colab": {}
      },
      "source": [
        "z=[1,2,3,4,5,6,7,8,9]"
      ],
      "execution_count": 0,
      "outputs": []
    },
    {
      "cell_type": "code",
      "metadata": {
        "id": "I2520GHKdxTn",
        "colab_type": "code",
        "outputId": "ef4623d3-9f9f-49ea-e5c9-5bd46524e92e",
        "colab": {
          "base_uri": "https://localhost:8080/",
          "height": 35
        }
      },
      "source": [
        "# 0번부터 1번 포함 슬라이스 하려면?\n",
        "print(z[:2])"
      ],
      "execution_count": 0,
      "outputs": [
        {
          "output_type": "stream",
          "text": [
            "[1, 2]\n"
          ],
          "name": "stdout"
        }
      ]
    },
    {
      "cell_type": "code",
      "metadata": {
        "id": "yo7ijDEzeUQ2",
        "colab_type": "code",
        "outputId": "46dd65a4-c53d-42cf-c282-a204a17c7e49",
        "colab": {
          "base_uri": "https://localhost:8080/",
          "height": 35
        }
      },
      "source": [
        "# 시작인덱스가 0이라면 생략 가능\n",
        "print(z[:2])"
      ],
      "execution_count": 0,
      "outputs": [
        {
          "output_type": "stream",
          "text": [
            "[1, 2]\n"
          ],
          "name": "stdout"
        }
      ]
    },
    {
      "cell_type": "code",
      "metadata": {
        "id": "wysoIyDTMRAF",
        "colab_type": "code",
        "outputId": "3c226459-7f41-48ff-eb44-7b43a64535d3",
        "colab": {
          "base_uri": "https://localhost:8080/",
          "height": 35
        }
      },
      "source": [
        "# 2번부터 4번 포함 슬라이스 하려면?\n",
        "print(z[1:4])"
      ],
      "execution_count": 0,
      "outputs": [
        {
          "output_type": "stream",
          "text": [
            "[2, 3, 4]\n"
          ],
          "name": "stdout"
        }
      ]
    },
    {
      "cell_type": "code",
      "metadata": {
        "id": "QcBaeL2hNM13",
        "colab_type": "code",
        "outputId": "969298b6-aefd-41b2-c032-ae4e0bccb471",
        "colab": {
          "base_uri": "https://localhost:8080/",
          "height": 35
        }
      },
      "source": [
        "# 마지막 인덱스까지 하려한다면 생략가능\n",
        "print(z[:])"
      ],
      "execution_count": 0,
      "outputs": [
        {
          "output_type": "stream",
          "text": [
            "[1, 2, 3, 4, 5, 6, 7, 8, 9]\n"
          ],
          "name": "stdout"
        }
      ]
    },
    {
      "cell_type": "markdown",
      "metadata": {
        "id": "yKCCD2IzhEYa",
        "colab_type": "text"
      },
      "source": [
        "### 슬라이스로 나타낸 리스트\n",
        "<pre>\n",
        "사용법 :\n",
        "리스트명[:] "
      ]
    },
    {
      "cell_type": "code",
      "metadata": {
        "id": "ywwTIPFORqMj",
        "colab_type": "code",
        "colab": {}
      },
      "source": [
        "z=[1,2,3,4,5,6,7,8,9]"
      ],
      "execution_count": 0,
      "outputs": []
    },
    {
      "cell_type": "code",
      "metadata": {
        "id": "gmVmjO4-hkYx",
        "colab_type": "code",
        "outputId": "4548bc61-2ff9-4c71-9a2d-50497fff3467",
        "colab": {
          "base_uri": "https://localhost:8080/",
          "height": 35
        }
      },
      "source": [
        "print(z[:])"
      ],
      "execution_count": 0,
      "outputs": [
        {
          "output_type": "stream",
          "text": [
            "[1, 2, 3, 4, 5, 6, 7, 8, 9]\n"
          ],
          "name": "stdout"
        }
      ]
    },
    {
      "cell_type": "code",
      "metadata": {
        "id": "1ppNQZVOiEJm",
        "colab_type": "code",
        "outputId": "a46ab104-dd3f-4223-f0ff-0fb4dc87de2f",
        "colab": {
          "base_uri": "https://localhost:8080/",
          "height": 89
        }
      },
      "source": [
        "print(z[::]) # : 첫값 : 원하는거 +1 : 몇개씩 띄울거냐\n",
        "print(z[::2])\n",
        "print(z[::3])\n",
        "print(z[::4])"
      ],
      "execution_count": 0,
      "outputs": [
        {
          "output_type": "stream",
          "text": [
            "[1, 2, 3, 4, 5, 6, 7, 8, 9]\n",
            "[1, 3, 5, 7, 9]\n",
            "[1, 4, 7]\n",
            "[1, 5, 9]\n"
          ],
          "name": "stdout"
        }
      ]
    },
    {
      "cell_type": "markdown",
      "metadata": {
        "id": "htNRq2T0yYpe",
        "colab_type": "text"
      },
      "source": [
        "#### 슬라이스 증감폭 부여\n",
        "<pre>\n",
        "사용법:\n",
        "\n",
        "리스트명[::]\n",
        "\n",
        "리스트명[시작인덱스:원하는인덱스+1:증감폭]\n"
      ]
    },
    {
      "cell_type": "code",
      "metadata": {
        "id": "PLg9rZk3ysCG",
        "colab_type": "code",
        "colab": {}
      },
      "source": [
        "z=[1,2,3,4,5,6,7,8,9]"
      ],
      "execution_count": 0,
      "outputs": []
    },
    {
      "cell_type": "code",
      "metadata": {
        "id": "_Gl6i4wDgzuh",
        "colab_type": "code",
        "outputId": "fd799e6f-32a9-4807-ca14-c0627ad6b1c0",
        "colab": {
          "base_uri": "https://localhost:8080/",
          "height": 35
        }
      },
      "source": [
        "# 증감폭 1 = 전체 다 가져오기\n",
        "print(z[::1])"
      ],
      "execution_count": 0,
      "outputs": [
        {
          "output_type": "stream",
          "text": [
            "[1, 2, 3, 4, 5, 6, 7, 8, 9]\n"
          ],
          "name": "stdout"
        }
      ]
    },
    {
      "cell_type": "code",
      "metadata": {
        "id": "KS1zQvA1jVyw",
        "colab_type": "code",
        "outputId": "134dcaa9-0945-4aa0-aa0f-e582b85d941e",
        "colab": {
          "base_uri": "https://localhost:8080/",
          "height": 35
        }
      },
      "source": [
        "# 같은 결과? 1생략되어 있음.\n",
        "print(z[::])"
      ],
      "execution_count": 0,
      "outputs": [
        {
          "output_type": "stream",
          "text": [
            "[1, 2, 3, 4, 5, 6, 7, 8, 9]\n"
          ],
          "name": "stdout"
        }
      ]
    },
    {
      "cell_type": "code",
      "metadata": {
        "id": "evLugoVzicet",
        "colab_type": "code",
        "outputId": "d5e291ec-db32-4bf1-f3f2-b4a95119a8af",
        "colab": {
          "base_uri": "https://localhost:8080/",
          "height": 35
        }
      },
      "source": [
        "# 한 개씩 건너 띄기\n",
        "print(z[::2])"
      ],
      "execution_count": 0,
      "outputs": [
        {
          "output_type": "stream",
          "text": [
            "[1, 3, 5, 7, 9]\n"
          ],
          "name": "stdout"
        }
      ]
    },
    {
      "cell_type": "code",
      "metadata": {
        "id": "Mq9H4vL3zw98",
        "colab_type": "code",
        "outputId": "9f72373d-ecc2-4e7f-f0c8-6df05a775b06",
        "colab": {
          "base_uri": "https://localhost:8080/",
          "height": 35
        }
      },
      "source": [
        "# 짝수만 가져오려면?\n",
        "print(z[1::2])"
      ],
      "execution_count": 0,
      "outputs": [
        {
          "output_type": "stream",
          "text": [
            "[2, 4, 6, 8]\n"
          ],
          "name": "stdout"
        }
      ]
    },
    {
      "cell_type": "code",
      "metadata": {
        "id": "BvMiSC-pz2GG",
        "colab_type": "code",
        "outputId": "a13821fb-560e-4a02-e21f-d2031642fa52",
        "colab": {
          "base_uri": "https://localhost:8080/",
          "height": 35
        }
      },
      "source": [
        "# 2개씩 건너띄기\n",
        "print(z[::3])"
      ],
      "execution_count": 0,
      "outputs": [
        {
          "output_type": "stream",
          "text": [
            "[1, 4, 7]\n"
          ],
          "name": "stdout"
        }
      ]
    },
    {
      "cell_type": "code",
      "metadata": {
        "id": "7oYR33Hw0iv8",
        "colab_type": "code",
        "outputId": "8c7ad983-a274-45ff-ecaf-178b59d68146",
        "colab": {
          "base_uri": "https://localhost:8080/",
          "height": 35
        }
      },
      "source": [
        "# 인덱스 1번부터 3번까지 한 개씩 건너띄기\n",
        "print(z[:3:2])"
      ],
      "execution_count": 0,
      "outputs": [
        {
          "output_type": "stream",
          "text": [
            "[1, 3]\n"
          ],
          "name": "stdout"
        }
      ]
    },
    {
      "cell_type": "markdown",
      "metadata": {
        "id": "X14m-esINwOX",
        "colab_type": "text"
      },
      "source": [
        "## 2-4.리스트 연산\n"
      ]
    },
    {
      "cell_type": "markdown",
      "metadata": {
        "id": "9ckHCAHeSgXV",
        "colab_type": "text"
      },
      "source": [
        "### 리스트 더하기\n",
        "'+' 연산자 사용"
      ]
    },
    {
      "cell_type": "code",
      "metadata": {
        "id": "el2_Kv8zSNvK",
        "colab_type": "code",
        "colab": {}
      },
      "source": [
        "a= ['철수', '영희']\n",
        "b= ['민수', '영수']"
      ],
      "execution_count": 0,
      "outputs": []
    },
    {
      "cell_type": "code",
      "metadata": {
        "id": "yM-awlS8kR0U",
        "colab_type": "code",
        "outputId": "a3f15290-b99a-4fce-90f3-95d2331bd7bc",
        "colab": {
          "base_uri": "https://localhost:8080/",
          "height": 35
        }
      },
      "source": [
        "# 리스트 a와 리스트 b를 더해서 리스트 c 만들기\n",
        "list_c=a+b\n",
        "print(list_c)"
      ],
      "execution_count": 0,
      "outputs": [
        {
          "output_type": "stream",
          "text": [
            "['철수', '영희', '민수', '영수']\n"
          ],
          "name": "stdout"
        }
      ]
    },
    {
      "cell_type": "markdown",
      "metadata": {
        "id": "dynxiMB6SsA5",
        "colab_type": "text"
      },
      "source": [
        "### 리스트 반복하기\n",
        "'*' 연산자 사용"
      ]
    },
    {
      "cell_type": "code",
      "metadata": {
        "id": "DxGJJJU1S4hc",
        "colab_type": "code",
        "outputId": "eabb75de-d1c2-4185-f1b5-f9d53ea682c7",
        "colab": {
          "base_uri": "https://localhost:8080/",
          "height": 35
        }
      },
      "source": [
        "# 리스트 a의 값 3번 반복\n",
        "print(a*3)"
      ],
      "execution_count": 0,
      "outputs": [
        {
          "output_type": "stream",
          "text": [
            "['철수', '영희', '철수', '영희', '철수', '영희']\n"
          ],
          "name": "stdout"
        }
      ]
    },
    {
      "cell_type": "markdown",
      "metadata": {
        "id": "81u5VbxzS7UT",
        "colab_type": "text"
      },
      "source": [
        "### 리스트 길이 구하기(len() 함수)\n",
        "<pre>\n",
        "사용법:\n",
        "len(리스트명)"
      ]
    },
    {
      "cell_type": "code",
      "metadata": {
        "id": "dtK247SoTEkH",
        "colab_type": "code",
        "outputId": "63d91c50-d4a6-42a2-8cdb-3c4921d6266d",
        "colab": {
          "base_uri": "https://localhost:8080/",
          "height": 35
        }
      },
      "source": [
        "# 리스트 a의 길이\n",
        "print(len(a))"
      ],
      "execution_count": 0,
      "outputs": [
        {
          "output_type": "stream",
          "text": [
            "2\n"
          ],
          "name": "stdout"
        }
      ]
    },
    {
      "cell_type": "markdown",
      "metadata": {
        "id": "acZ3MOdwTGjK",
        "colab_type": "text"
      },
      "source": [
        "## 2-5.리스트 수정하기\n"
      ]
    },
    {
      "cell_type": "markdown",
      "metadata": {
        "id": "vEaeDI2aThLk",
        "colab_type": "text"
      },
      "source": [
        "### 리스트에 값 추가하기(append 함수)\n",
        "<pre>\n",
        "* 사용법:\n",
        "  리스트명.append(값)\n",
        "  \n",
        "* 결과:\n",
        "  값이 마지막 인덱스로 들어감."
      ]
    },
    {
      "cell_type": "code",
      "metadata": {
        "id": "Sehdzi7CWiml",
        "colab_type": "code",
        "colab": {}
      },
      "source": [
        "a = ['철수', '영희', '민지']"
      ],
      "execution_count": 0,
      "outputs": []
    },
    {
      "cell_type": "code",
      "metadata": {
        "id": "ASH7353ZldNd",
        "colab_type": "code",
        "colab": {}
      },
      "source": [
        "# '남준' 추가\n",
        "a.append('남준')"
      ],
      "execution_count": 0,
      "outputs": []
    },
    {
      "cell_type": "code",
      "metadata": {
        "id": "IEuhZfpDWshT",
        "colab_type": "code",
        "outputId": "b1a5f689-8cd3-4c0e-e104-adf0aa5704ea",
        "colab": {
          "base_uri": "https://localhost:8080/",
          "height": 35
        }
      },
      "source": [
        "print(a)"
      ],
      "execution_count": 0,
      "outputs": [
        {
          "output_type": "stream",
          "text": [
            "['철수', '영희', '민지', '남준']\n"
          ],
          "name": "stdout"
        }
      ]
    },
    {
      "cell_type": "code",
      "metadata": {
        "id": "DS3rFaX1W_xG",
        "colab_type": "code",
        "colab": {}
      },
      "source": [
        "# 리스트를 넣는 경우\n",
        "b= ['경수', '희철']\n",
        "a.append(b)"
      ],
      "execution_count": 0,
      "outputs": []
    },
    {
      "cell_type": "code",
      "metadata": {
        "id": "cLBH8c_IXFtj",
        "colab_type": "code",
        "outputId": "86cbe4e1-4175-4eae-a18e-214d764b3c3c",
        "colab": {
          "base_uri": "https://localhost:8080/",
          "height": 35
        }
      },
      "source": [
        "print(a)"
      ],
      "execution_count": 0,
      "outputs": [
        {
          "output_type": "stream",
          "text": [
            "['철수', '영희', '민지', '남준', ['경수', '희철']]\n"
          ],
          "name": "stdout"
        }
      ]
    },
    {
      "cell_type": "markdown",
      "metadata": {
        "id": "hrWm9rLNXOkF",
        "colab_type": "text"
      },
      "source": [
        "### 리스트에 여러 값들만 추가(extend 함수)\n",
        "<pre>\n",
        "* 사용법\n",
        "리스트명.extend(다른 리스트)"
      ]
    },
    {
      "cell_type": "code",
      "metadata": {
        "id": "ko1nMeO-XWP4",
        "colab_type": "code",
        "colab": {}
      },
      "source": [
        "b = ['경수', '희철']\n",
        "c = ['대희', '수민']"
      ],
      "execution_count": 0,
      "outputs": []
    },
    {
      "cell_type": "code",
      "metadata": {
        "id": "V1m8XpOzmLWF",
        "colab_type": "code",
        "colab": {}
      },
      "source": [
        "# 리스트 b에 리스트 c의 값들만 추가\n",
        "b.extend(c)"
      ],
      "execution_count": 0,
      "outputs": []
    },
    {
      "cell_type": "code",
      "metadata": {
        "id": "SkuQI8PRX263",
        "colab_type": "code",
        "outputId": "8c1b3980-0da7-473e-b868-b5226a7ffd48",
        "colab": {
          "base_uri": "https://localhost:8080/",
          "height": 35
        }
      },
      "source": [
        "print(b)"
      ],
      "execution_count": 0,
      "outputs": [
        {
          "output_type": "stream",
          "text": [
            "['경수', '희철', '대희', '수민']\n"
          ],
          "name": "stdout"
        }
      ]
    },
    {
      "cell_type": "markdown",
      "metadata": {
        "id": "6oO8coyxX4b4",
        "colab_type": "text"
      },
      "source": [
        "### 원하는 인덱스(순번)에 값 넣기(insert 함수)\n",
        "<pre>\n",
        "사용법:\n",
        "리스트명.insert(원하는 인덱스, 값)"
      ]
    },
    {
      "cell_type": "code",
      "metadata": {
        "id": "R-xEU3j_YYE9",
        "colab_type": "code",
        "colab": {}
      },
      "source": [
        "z=[1, 2, 3, 4]"
      ],
      "execution_count": 0,
      "outputs": []
    },
    {
      "cell_type": "code",
      "metadata": {
        "id": "fg0k2OPOmyQB",
        "colab_type": "code",
        "colab": {}
      },
      "source": [
        "# 2번째 인덱스에 7넣기\n",
        "z.insert(2, 7)"
      ],
      "execution_count": 0,
      "outputs": []
    },
    {
      "cell_type": "code",
      "metadata": {
        "id": "-SANKNu7Yair",
        "colab_type": "code",
        "outputId": "cfc2cdaf-5ed4-4698-f106-432bc91abdc5",
        "colab": {
          "base_uri": "https://localhost:8080/",
          "height": 35
        }
      },
      "source": [
        "print(z)"
      ],
      "execution_count": 0,
      "outputs": [
        {
          "output_type": "stream",
          "text": [
            "[1, 2, 7, 3, 4]\n"
          ],
          "name": "stdout"
        }
      ]
    },
    {
      "cell_type": "markdown",
      "metadata": {
        "id": "se3wZBwLYbwP",
        "colab_type": "text"
      },
      "source": [
        "### 리스트 값 제거(remove 함수)\n",
        "<pre>\n",
        "* 사용법:\n",
        "  리스트명.remove(값)\n",
        "\n",
        "* 결과:\n",
        "  선행 인덱스의 값을 제거"
      ]
    },
    {
      "cell_type": "code",
      "metadata": {
        "id": "cdtmWL5TY0AW",
        "colab_type": "code",
        "colab": {}
      },
      "source": [
        "q = [1,3,2,3]"
      ],
      "execution_count": 0,
      "outputs": []
    },
    {
      "cell_type": "code",
      "metadata": {
        "id": "gRrQwaDLnTd3",
        "colab_type": "code",
        "colab": {}
      },
      "source": [
        "# 3을 제거\n",
        "q.remove(3)"
      ],
      "execution_count": 0,
      "outputs": []
    },
    {
      "cell_type": "code",
      "metadata": {
        "id": "8UR-kqSyY_nr",
        "colab_type": "code",
        "outputId": "3e3e7868-19a2-4b75-eec4-f6d3abcb25ba",
        "colab": {
          "base_uri": "https://localhost:8080/",
          "height": 35
        }
      },
      "source": [
        "print(q)"
      ],
      "execution_count": 0,
      "outputs": [
        {
          "output_type": "stream",
          "text": [
            "[1, 2, 3]\n"
          ],
          "name": "stdout"
        }
      ]
    },
    {
      "cell_type": "markdown",
      "metadata": {
        "id": "_qBbyKocdTim",
        "colab_type": "text"
      },
      "source": [
        "### 인덱스로 지우기\n",
        "del 리스트명[인덱스]\n",
        "\n",
        "\n",
        "리스트명.pop(인덱스)\n"
      ]
    },
    {
      "cell_type": "markdown",
      "metadata": {
        "id": "1TZC7FXoZAcT",
        "colab_type": "text"
      },
      "source": [
        "### 리스트 값 바꾸기\n",
        "<pre>\n",
        "* 사용법:.\n",
        "리스트명[인덱스] = 바꾸고자 하는 값"
      ]
    },
    {
      "cell_type": "code",
      "metadata": {
        "id": "SObM-ltpZa8j",
        "colab_type": "code",
        "colab": {}
      },
      "source": [
        "a=['철수', '영희', '남희']"
      ],
      "execution_count": 0,
      "outputs": []
    },
    {
      "cell_type": "code",
      "metadata": {
        "id": "S-d3D_85njDN",
        "colab_type": "code",
        "colab": {}
      },
      "source": [
        "# 0번 인덱스 값 '민수'로 바꾸기\n",
        "a[0]='민수'"
      ],
      "execution_count": 0,
      "outputs": []
    },
    {
      "cell_type": "code",
      "metadata": {
        "id": "6v1NqgVeZk-z",
        "colab_type": "code",
        "outputId": "425ba941-227e-48a2-fbb0-ca9808b058a0",
        "colab": {
          "base_uri": "https://localhost:8080/",
          "height": 35
        }
      },
      "source": [
        "print(a)"
      ],
      "execution_count": 0,
      "outputs": [
        {
          "output_type": "stream",
          "text": [
            "['민수', '영희', '남희']\n"
          ],
          "name": "stdout"
        }
      ]
    },
    {
      "cell_type": "markdown",
      "metadata": {
        "id": "1dEkwxqkZrzv",
        "colab_type": "text"
      },
      "source": [
        "### 리스트 값의 인덱스(순번) 찾기(index 함수)\n",
        "<pre>\n",
        "* 사용법:\n",
        "리스트명.index(값)"
      ]
    },
    {
      "cell_type": "code",
      "metadata": {
        "id": "RIO8exdcaI_o",
        "colab_type": "code",
        "colab": {}
      },
      "source": [
        "a=['철수', '영희', '남희']"
      ],
      "execution_count": 0,
      "outputs": []
    },
    {
      "cell_type": "code",
      "metadata": {
        "id": "-he_5b8qoGXf",
        "colab_type": "code",
        "outputId": "51f9e692-ca05-43aa-81ad-c77af0192973",
        "colab": {
          "base_uri": "https://localhost:8080/",
          "height": 35
        }
      },
      "source": [
        "# '영희'의 인덱스 찾기\n",
        "\n",
        "print(a.index('영희'))"
      ],
      "execution_count": 0,
      "outputs": [
        {
          "output_type": "stream",
          "text": [
            "1\n"
          ],
          "name": "stdout"
        }
      ]
    },
    {
      "cell_type": "markdown",
      "metadata": {
        "id": "5lwUkJhlaL3a",
        "colab_type": "text"
      },
      "source": [
        "### 특정 값의 개수 세기(count 함수)\n",
        "<pre>\n",
        "* 사용법:\n",
        "리스트명.count(값)"
      ]
    },
    {
      "cell_type": "code",
      "metadata": {
        "id": "NWNgcDorafcB",
        "colab_type": "code",
        "colab": {}
      },
      "source": [
        "a=[1,3,3,7,3,4,5,3,5,3,3,9]"
      ],
      "execution_count": 0,
      "outputs": []
    },
    {
      "cell_type": "code",
      "metadata": {
        "id": "UQENLJRCog_s",
        "colab_type": "code",
        "outputId": "dc1ca94a-d218-41bc-c595-e8d7b2092693",
        "colab": {
          "base_uri": "https://localhost:8080/",
          "height": 35
        }
      },
      "source": [
        "print(a.count(3))\n"
      ],
      "execution_count": 0,
      "outputs": [
        {
          "output_type": "stream",
          "text": [
            "6\n"
          ],
          "name": "stdout"
        }
      ]
    },
    {
      "cell_type": "code",
      "metadata": {
        "id": "rNCQqc0beHXV",
        "colab_type": "code",
        "colab": {}
      },
      "source": [
        ""
      ],
      "execution_count": 0,
      "outputs": []
    }
  ]
}