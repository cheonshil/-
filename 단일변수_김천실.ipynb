{
  "nbformat": 4,
  "nbformat_minor": 0,
  "metadata": {
    "colab": {
      "name": "단일변수_김천실",
      "version": "0.3.2",
      "provenance": [],
      "collapsed_sections": [],
      "include_colab_link": true
    },
    "kernelspec": {
      "name": "python3",
      "display_name": "Python 3"
    }
  },
  "cells": [
    {
      "cell_type": "markdown",
      "metadata": {
        "id": "view-in-github",
        "colab_type": "text"
      },
      "source": [
        "<a href=\"https://colab.research.google.com/github/cheonshil/python/blob/master/%EB%8B%A8%EC%9D%BC%EB%B3%80%EC%88%98_%EA%B9%80%EC%B2%9C%EC%8B%A4.ipynb\" target=\"_parent\"><img src=\"https://colab.research.google.com/assets/colab-badge.svg\" alt=\"Open In Colab\"/></a>"
      ]
    },
    {
      "cell_type": "markdown",
      "metadata": {
        "id": "DMw6zPgSEWlw",
        "colab_type": "text"
      },
      "source": [
        "# 변수\n",
        "<pre>\n",
        "* 변수란?\n",
        "  값을 담는 그릇\n",
        "  값의 저장 공간\n",
        "  \n",
        "* 사용이유:\n",
        "  값은 사용하고 나면 휘발되기 때문.\n"
      ]
    },
    {
      "cell_type": "markdown",
      "metadata": {
        "id": "5jCK6lqwE3Zh",
        "colab_type": "text"
      },
      "source": [
        "# 단일 변수\n",
        "하나의 값을 담고 있는 변수.\n",
        "\n"
      ]
    },
    {
      "cell_type": "markdown",
      "metadata": {
        "id": "U22wl-PLFBBc",
        "colab_type": "text"
      },
      "source": [
        "## 1.단일 변수 형식\n",
        "<pre>\n",
        "* 변수 이름 = 하나의 값\n",
        "\n",
        "* 변수 이름으로 안되는 것들 : \n",
        "\n",
        "  - if, def, class, while, for, else 등의 예약어.\n",
        "\n",
        "  - 숫자로 시작하는 것\n",
        "  ex) 1a, 3name, ..."
      ]
    },
    {
      "cell_type": "code",
      "metadata": {
        "id": "oCWtv9tcv16Z",
        "colab_type": "code",
        "colab": {}
      },
      "source": [
        "a=1\n",
        "b=2\n",
        "name=1\n",
        "new_python='살려줘'\n"
      ],
      "execution_count": 0,
      "outputs": []
    },
    {
      "cell_type": "markdown",
      "metadata": {
        "id": "g04V-KRJfoCP",
        "colab_type": "text"
      },
      "source": [
        "## 2.값으로 올 수 있는 것들\n",
        "<pre>\n",
        "1.숫자\n",
        "2.문자열\n",
        "3.논리값"
      ]
    },
    {
      "cell_type": "markdown",
      "metadata": {
        "id": "yqvh9Mqs0u6q",
        "colab_type": "text"
      },
      "source": [
        "### 2-1. 숫자\n",
        "ex) 1, 100, -20, 2.2\n",
        "\n",
        "종류 : 정수, 실수\n",
        "\n",
        "특징 : 사칙연산 가능"
      ]
    },
    {
      "cell_type": "markdown",
      "metadata": {
        "id": "5UFWOCvfHbR9",
        "colab_type": "text"
      },
      "source": [
        "#### 2-1-1.종류"
      ]
    },
    {
      "cell_type": "markdown",
      "metadata": {
        "id": "pkyf4xCsgjvY",
        "colab_type": "text"
      },
      "source": [
        "##### 정수(Integer)\n",
        "양의 정수, 0, 음의 정수"
      ]
    },
    {
      "cell_type": "code",
      "metadata": {
        "id": "byH11IhpgYE9",
        "colab_type": "code",
        "colab": {}
      },
      "source": [
        "a=3\n",
        "number=-22\n",
        "mine=0"
      ],
      "execution_count": 0,
      "outputs": []
    },
    {
      "cell_type": "markdown",
      "metadata": {
        "id": "2P_an9k8g5Ea",
        "colab_type": "text"
      },
      "source": [
        "##### 실수(Floating-Point)\n",
        "소수점이 포함된 값"
      ]
    },
    {
      "cell_type": "code",
      "metadata": {
        "id": "azVylXnOhINF",
        "colab_type": "code",
        "colab": {}
      },
      "source": [
        "a=3.7\n",
        "b=-7.22\n",
        "yours=-1.094"
      ],
      "execution_count": 0,
      "outputs": []
    },
    {
      "cell_type": "markdown",
      "metadata": {
        "id": "QFVhrF12HnVK",
        "colab_type": "text"
      },
      "source": [
        "#### 2-1-2.사칙연산"
      ]
    },
    {
      "cell_type": "code",
      "metadata": {
        "id": "YOhNTUReh9_u",
        "colab_type": "code",
        "colab": {}
      },
      "source": [
        "a=5\n",
        "b=2"
      ],
      "execution_count": 0,
      "outputs": []
    },
    {
      "cell_type": "markdown",
      "metadata": {
        "id": "sH1CVFF1h2LY",
        "colab_type": "text"
      },
      "source": [
        "##### 덧셈\n",
        " '+' 연산자"
      ]
    },
    {
      "cell_type": "code",
      "metadata": {
        "id": "dqqMnuaWIylc",
        "colab_type": "code",
        "colab": {
          "base_uri": "https://localhost:8080/",
          "height": 35
        },
        "outputId": "56e62854-32fa-4d24-d41b-8570ddfb0496"
      },
      "source": [
        "print(a+b)"
      ],
      "execution_count": 14,
      "outputs": [
        {
          "output_type": "stream",
          "text": [
            "7\n"
          ],
          "name": "stdout"
        }
      ]
    },
    {
      "cell_type": "markdown",
      "metadata": {
        "id": "LDOKSE7siIil",
        "colab_type": "text"
      },
      "source": [
        "##### 뺄셈\n",
        "'-' 연산자"
      ]
    },
    {
      "cell_type": "code",
      "metadata": {
        "id": "ZH2eMpL9iQBi",
        "colab_type": "code",
        "colab": {
          "base_uri": "https://localhost:8080/",
          "height": 35
        },
        "outputId": "bbe45052-dfe7-49e8-8606-3b35c01dea65"
      },
      "source": [
        "print(a-b)"
      ],
      "execution_count": 15,
      "outputs": [
        {
          "output_type": "stream",
          "text": [
            "3\n"
          ],
          "name": "stdout"
        }
      ]
    },
    {
      "cell_type": "markdown",
      "metadata": {
        "id": "6TwAHGE4iUTc",
        "colab_type": "text"
      },
      "source": [
        "##### 곱셈\n",
        "'*' 연산자"
      ]
    },
    {
      "cell_type": "code",
      "metadata": {
        "id": "YH4ovh6QiaXT",
        "colab_type": "code",
        "colab": {
          "base_uri": "https://localhost:8080/",
          "height": 35
        },
        "outputId": "10b95e6b-97c2-4e0e-abc7-ec5fcdfb2817"
      },
      "source": [
        "print(a*b)"
      ],
      "execution_count": 16,
      "outputs": [
        {
          "output_type": "stream",
          "text": [
            "10\n"
          ],
          "name": "stdout"
        }
      ]
    },
    {
      "cell_type": "markdown",
      "metadata": {
        "id": "eQs-s5G9iin9",
        "colab_type": "text"
      },
      "source": [
        "##### 나눗셈\n",
        "'/' 연산자"
      ]
    },
    {
      "cell_type": "code",
      "metadata": {
        "id": "n2JegNmyiqbD",
        "colab_type": "code",
        "colab": {
          "base_uri": "https://localhost:8080/",
          "height": 35
        },
        "outputId": "16cc0eed-1f6e-4880-ec90-3eeca2b76e76"
      },
      "source": [
        "print(a/b)"
      ],
      "execution_count": 17,
      "outputs": [
        {
          "output_type": "stream",
          "text": [
            "2.5\n"
          ],
          "name": "stdout"
        }
      ]
    },
    {
      "cell_type": "markdown",
      "metadata": {
        "id": "7nMVDqIJirje",
        "colab_type": "text"
      },
      "source": [
        "##### 나눗셈의 몫\n",
        "'//' 연산자"
      ]
    },
    {
      "cell_type": "code",
      "metadata": {
        "id": "P_7-rYgRi0lJ",
        "colab_type": "code",
        "colab": {
          "base_uri": "https://localhost:8080/",
          "height": 35
        },
        "outputId": "1f6b9393-b305-47d5-e170-49caca899ec6"
      },
      "source": [
        "print(a//b)"
      ],
      "execution_count": 18,
      "outputs": [
        {
          "output_type": "stream",
          "text": [
            "2\n"
          ],
          "name": "stdout"
        }
      ]
    },
    {
      "cell_type": "markdown",
      "metadata": {
        "id": "R6TxgY7_i2A2",
        "colab_type": "text"
      },
      "source": [
        "##### 나눗셈의 나머지\n",
        "'%' 연산자"
      ]
    },
    {
      "cell_type": "code",
      "metadata": {
        "id": "y0WYzKUUjEPT",
        "colab_type": "code",
        "colab": {
          "base_uri": "https://localhost:8080/",
          "height": 35
        },
        "outputId": "9d4daa1f-3e9d-4a12-dfa7-10753833db1a"
      },
      "source": [
        "print(a%b)"
      ],
      "execution_count": 19,
      "outputs": [
        {
          "output_type": "stream",
          "text": [
            "1\n"
          ],
          "name": "stdout"
        }
      ]
    },
    {
      "cell_type": "markdown",
      "metadata": {
        "id": "d4bxaGUMjGR4",
        "colab_type": "text"
      },
      "source": [
        "##### 제곱"
      ]
    },
    {
      "cell_type": "code",
      "metadata": {
        "id": "fnM3sjEfjOCy",
        "colab_type": "code",
        "colab": {
          "base_uri": "https://localhost:8080/",
          "height": 35
        },
        "outputId": "e4303272-cbf7-460c-ba9f-6205e556638b"
      },
      "source": [
        "print(a**b)"
      ],
      "execution_count": 20,
      "outputs": [
        {
          "output_type": "stream",
          "text": [
            "25\n"
          ],
          "name": "stdout"
        }
      ]
    },
    {
      "cell_type": "markdown",
      "metadata": {
        "id": "yDAX00oCkaeK",
        "colab_type": "text"
      },
      "source": [
        "### 2-2.문자열\n",
        "ex) '철수', 'My name is John', '123'"
      ]
    },
    {
      "cell_type": "code",
      "metadata": {
        "id": "ADnIaevRn97Q",
        "colab_type": "code",
        "outputId": "a046df04-5eaa-492d-c5d2-d3a5d82bfc61",
        "colab": {
          "base_uri": "https://localhost:8080/",
          "height": 35
        }
      },
      "source": [
        "print('철수', 'My name is John', 123)"
      ],
      "execution_count": 21,
      "outputs": [
        {
          "output_type": "stream",
          "text": [
            "철수 My name is John 123\n"
          ],
          "name": "stdout"
        }
      ]
    },
    {
      "cell_type": "code",
      "metadata": {
        "id": "Y-JaDoxtoDEw",
        "colab_type": "code",
        "colab": {}
      },
      "source": [
        ""
      ],
      "execution_count": 0,
      "outputs": []
    },
    {
      "cell_type": "markdown",
      "metadata": {
        "id": "Bh33IBQPm2hz",
        "colab_type": "text"
      },
      "source": [
        "#### 2-2-1.문자열 만드는 방법 4가지"
      ]
    },
    {
      "cell_type": "markdown",
      "metadata": {
        "id": "IaaSKojMn0Ze",
        "colab_type": "text"
      },
      "source": [
        "##### 큰 따옴표로 감싸기\n"
      ]
    },
    {
      "cell_type": "code",
      "metadata": {
        "id": "xJu9JIqtnr5x",
        "colab_type": "code",
        "colab": {}
      },
      "source": [
        "a = \"철수\""
      ],
      "execution_count": 0,
      "outputs": []
    },
    {
      "cell_type": "markdown",
      "metadata": {
        "id": "Edmyfayen7RM",
        "colab_type": "text"
      },
      "source": [
        "##### 작은 따옴표로 감싸기"
      ]
    },
    {
      "cell_type": "code",
      "metadata": {
        "id": "YRjZMA1BoLvj",
        "colab_type": "code",
        "colab": {}
      },
      "source": [
        "b= 'My father is a texi driver.'"
      ],
      "execution_count": 0,
      "outputs": []
    },
    {
      "cell_type": "markdown",
      "metadata": {
        "id": "tI7e68vTp6zy",
        "colab_type": "text"
      },
      "source": [
        "##### 큰 따옴표 3개를 연속으로 감싸기"
      ]
    },
    {
      "cell_type": "code",
      "metadata": {
        "id": "EMNX6UspqIIP",
        "colab_type": "code",
        "colab": {}
      },
      "source": [
        "lines = \"\"\"동해물과\n",
        "백두산이\n",
        "마르고 닳도록\"\"\""
      ],
      "execution_count": 0,
      "outputs": []
    },
    {
      "cell_type": "code",
      "metadata": {
        "id": "jm2cfbcsKNce",
        "colab_type": "code",
        "colab": {
          "base_uri": "https://localhost:8080/",
          "height": 71
        },
        "outputId": "9968b63c-bd6c-422d-acd6-2865a4cc0193"
      },
      "source": [
        "print(lines)"
      ],
      "execution_count": 28,
      "outputs": [
        {
          "output_type": "stream",
          "text": [
            "동해물과\n",
            "백두산이\n",
            "마르고 닳도록\n"
          ],
          "name": "stdout"
        }
      ]
    },
    {
      "cell_type": "markdown",
      "metadata": {
        "id": "9sQBa1wdqa3P",
        "colab_type": "text"
      },
      "source": [
        "##### 작은 따옴표 3개를 연속으로 감싸기"
      ]
    },
    {
      "cell_type": "code",
      "metadata": {
        "id": "co__-J1sqjVg",
        "colab_type": "code",
        "colab": {}
      },
      "source": [
        "lines2 = '''\n",
        "치얼업 베이베 치얼업 베이베 좀더 힘을 내'''\n"
      ],
      "execution_count": 0,
      "outputs": []
    },
    {
      "cell_type": "code",
      "metadata": {
        "id": "aUPGpe_nKRZL",
        "colab_type": "code",
        "colab": {
          "base_uri": "https://localhost:8080/",
          "height": 53
        },
        "outputId": "7ee1ced9-cbc4-4fb3-a44f-7921c2f0642e"
      },
      "source": [
        "print(lines2)"
      ],
      "execution_count": 34,
      "outputs": [
        {
          "output_type": "stream",
          "text": [
            "\n",
            "치얼업 베이베 치얼업 베이베 좀더 힘을 내\n"
          ],
          "name": "stdout"
        }
      ]
    },
    {
      "cell_type": "markdown",
      "metadata": {
        "id": "DLrA9ipXq0-O",
        "colab_type": "text"
      },
      "source": [
        "##### 인용문 쓰기"
      ]
    },
    {
      "cell_type": "code",
      "metadata": {
        "id": "7D4YSpeSrAT4",
        "colab_type": "code",
        "colab": {}
      },
      "source": [
        "lines3 = \"나는 생각했다. '그의 어머니는 교사일거야.'\""
      ],
      "execution_count": 0,
      "outputs": []
    },
    {
      "cell_type": "code",
      "metadata": {
        "id": "Cy9JhlQgrU0Q",
        "colab_type": "code",
        "colab": {
          "base_uri": "https://localhost:8080/",
          "height": 35
        },
        "outputId": "25fea461-2409-48e7-d009-4e316da993b5"
      },
      "source": [
        "print(lines3)"
      ],
      "execution_count": 36,
      "outputs": [
        {
          "output_type": "stream",
          "text": [
            "나는 생각했다. '그의 어머니는 교사일거야.'\n"
          ],
          "name": "stdout"
        }
      ]
    },
    {
      "cell_type": "markdown",
      "metadata": {
        "id": "ENtWdOrGreyF",
        "colab_type": "text"
      },
      "source": [
        "##### 대화문을 넣기"
      ]
    },
    {
      "cell_type": "code",
      "metadata": {
        "id": "TCKR6-gXri4C",
        "colab_type": "code",
        "colab": {}
      },
      "source": [
        "lines4 = '그들은 말했다. \"BTS는 사랑입니다.\"'"
      ],
      "execution_count": 0,
      "outputs": []
    },
    {
      "cell_type": "code",
      "metadata": {
        "id": "Z_sv_YhCryFU",
        "colab_type": "code",
        "colab": {
          "base_uri": "https://localhost:8080/",
          "height": 35
        },
        "outputId": "a67aae9e-71a9-42c6-fe42-7d957b54782f"
      },
      "source": [
        "print(lines4)"
      ],
      "execution_count": 38,
      "outputs": [
        {
          "output_type": "stream",
          "text": [
            "그들은 말했다. \"BTS는 사랑입니다.\"\n"
          ],
          "name": "stdout"
        }
      ]
    },
    {
      "cell_type": "markdown",
      "metadata": {
        "id": "Z4AjVvoBr-PB",
        "colab_type": "text"
      },
      "source": [
        "##### 참고사항\n",
        "주석 처리 방법\n",
        "\n",
        "1. 코드 앞에 # 사용\n",
        "\n",
        "2. '''으로 감싸기\n",
        "\n",
        "3. \"\"\"으로 감싸기"
      ]
    },
    {
      "cell_type": "code",
      "metadata": {
        "id": "TSVABRCpK2g-",
        "colab_type": "code",
        "colab": {}
      },
      "source": [
        "\n",
        "#a=1\n",
        "#print(a)"
      ],
      "execution_count": 0,
      "outputs": []
    },
    {
      "cell_type": "code",
      "metadata": {
        "id": "NoWNMWARsSTu",
        "colab_type": "code",
        "colab": {
          "base_uri": "https://localhost:8080/",
          "height": 35
        },
        "outputId": "9a7a93f1-8361-4403-e208-f8357152d528"
      },
      "source": [
        "'''\n",
        "a=1\n",
        "print(a)\n",
        "\n",
        "b=2\n",
        "print(b)\n",
        "'''\n"
      ],
      "execution_count": 41,
      "outputs": [
        {
          "output_type": "execute_result",
          "data": {
            "text/plain": [
              "'\\na=1\\nprint(a)\\n\\nb=2\\nprint(b)\\n'"
            ]
          },
          "metadata": {
            "tags": []
          },
          "execution_count": 41
        }
      ]
    },
    {
      "cell_type": "code",
      "metadata": {
        "id": "lDYYAR0EsWUI",
        "colab_type": "code",
        "colab": {
          "base_uri": "https://localhost:8080/",
          "height": 35
        },
        "outputId": "4c9dcbc8-1341-4846-8fd8-dcc5e60c6386"
      },
      "source": [
        "\"\"\"\n",
        "a=1\n",
        "print(a)\n",
        "\n",
        "b=2\n",
        "print(b)\n",
        "\"\"\""
      ],
      "execution_count": 42,
      "outputs": [
        {
          "output_type": "execute_result",
          "data": {
            "text/plain": [
              "'\\na=1\\nprint(a)\\n\\nb=2\\nprint(b)\\n'"
            ]
          },
          "metadata": {
            "tags": []
          },
          "execution_count": 42
        }
      ]
    },
    {
      "cell_type": "markdown",
      "metadata": {
        "id": "-bhoiAG9si5B",
        "colab_type": "text"
      },
      "source": [
        "#### 2-2-2.문자열 연산\n",
        "'+', '*' 가능"
      ]
    },
    {
      "cell_type": "markdown",
      "metadata": {
        "id": "V1hLRkuctmSU",
        "colab_type": "text"
      },
      "source": [
        "##### 문자열 더하기"
      ]
    },
    {
      "cell_type": "code",
      "metadata": {
        "id": "rqsOijAAuFX5",
        "colab_type": "code",
        "colab": {}
      },
      "source": [
        "a = 'This song'\n",
        "b = ' saved my life.'"
      ],
      "execution_count": 0,
      "outputs": []
    },
    {
      "cell_type": "code",
      "metadata": {
        "id": "dr5WqYYsPCUd",
        "colab_type": "code",
        "colab": {
          "base_uri": "https://localhost:8080/",
          "height": 35
        },
        "outputId": "2da1f409-7702-42f2-a2ae-491726298e99"
      },
      "source": [
        "print(a+b)"
      ],
      "execution_count": 45,
      "outputs": [
        {
          "output_type": "stream",
          "text": [
            "This song saved my life.\n"
          ],
          "name": "stdout"
        }
      ]
    },
    {
      "cell_type": "code",
      "metadata": {
        "id": "QqYiZVelt3H2",
        "colab_type": "code",
        "colab": {}
      },
      "source": [
        "a = '2019'\n",
        "b = '1225'"
      ],
      "execution_count": 0,
      "outputs": []
    },
    {
      "cell_type": "code",
      "metadata": {
        "id": "51HjjzIyPGOd",
        "colab_type": "code",
        "colab": {
          "base_uri": "https://localhost:8080/",
          "height": 35
        },
        "outputId": "51155ccb-d2e5-4a97-d774-7c3558a91972"
      },
      "source": [
        "print(a+b)"
      ],
      "execution_count": 47,
      "outputs": [
        {
          "output_type": "stream",
          "text": [
            "20191225\n"
          ],
          "name": "stdout"
        }
      ]
    },
    {
      "cell_type": "markdown",
      "metadata": {
        "id": "npmOt-OLuVWE",
        "colab_type": "text"
      },
      "source": [
        "##### 문자열 곱하기"
      ]
    },
    {
      "cell_type": "code",
      "metadata": {
        "id": "Plm9IZ9_PoTa",
        "colab_type": "code",
        "colab": {}
      },
      "source": [
        "a='아버지가방에들어가신다'"
      ],
      "execution_count": 0,
      "outputs": []
    },
    {
      "cell_type": "code",
      "metadata": {
        "id": "vqpY0pBTuYZ4",
        "colab_type": "code",
        "colab": {
          "base_uri": "https://localhost:8080/",
          "height": 35
        },
        "outputId": "598b4322-1003-4f13-a8db-dd36012eace0"
      },
      "source": [
        "print(a*2)"
      ],
      "execution_count": 50,
      "outputs": [
        {
          "output_type": "stream",
          "text": [
            "아버지가방에들어가신다아버지가방에들어가신다\n"
          ],
          "name": "stdout"
        }
      ]
    },
    {
      "cell_type": "markdown",
      "metadata": {
        "id": "gaL8m5uau1vM",
        "colab_type": "text"
      },
      "source": [
        "##### 응용"
      ]
    },
    {
      "cell_type": "code",
      "metadata": {
        "id": "rHGSayP9qpvo",
        "colab_type": "code",
        "colab": {
          "base_uri": "https://localhost:8080/",
          "height": 71
        },
        "outputId": "91f9d997-5307-4dbb-d0e6-9158f83f3f24"
      },
      "source": [
        "print('-'*30)\n",
        "print('절취선')\n",
        "print('='*30)"
      ],
      "execution_count": 54,
      "outputs": [
        {
          "output_type": "stream",
          "text": [
            "------------------------------\n",
            "절취선\n",
            "==============================\n"
          ],
          "name": "stdout"
        }
      ]
    },
    {
      "cell_type": "markdown",
      "metadata": {
        "id": "Y6_uK78UvMfO",
        "colab_type": "text"
      },
      "source": [
        "#### 2-2-3.문자열 길이 구하기\n",
        "len() 함수"
      ]
    },
    {
      "cell_type": "code",
      "metadata": {
        "id": "hfmjo5DgvWLZ",
        "colab_type": "code",
        "colab": {
          "base_uri": "https://localhost:8080/",
          "height": 35
        },
        "outputId": "6053afad-4f46-48f4-8916-9cc5a96bff0a"
      },
      "source": [
        "a = '대한민국 사람은 밥심으로 삽니다.'\n",
        "print(len(a))\n"
      ],
      "execution_count": 57,
      "outputs": [
        {
          "output_type": "stream",
          "text": [
            "18\n"
          ],
          "name": "stdout"
        }
      ]
    },
    {
      "cell_type": "markdown",
      "metadata": {
        "id": "c4lQHgrivoF-",
        "colab_type": "text"
      },
      "source": [
        "#### 2-2-4.문자열 인덱스\n",
        "인덱스 : 순번\n",
        "\n",
        "파이썬에서의 인덱스(순번) : 0번부터 시작\n",
        "\n",
        "마지막 인덱스(순번) : -1번과도 같음\n",
        "\n",
        "* 형식 :\n",
        "\n",
        "  변수명[인덱스]"
      ]
    },
    {
      "cell_type": "code",
      "metadata": {
        "id": "NMD_7WHvxlzw",
        "colab_type": "code",
        "colab": {}
      },
      "source": [
        "a = '동해물과 백두산이'"
      ],
      "execution_count": 0,
      "outputs": []
    },
    {
      "cell_type": "code",
      "metadata": {
        "id": "tTeKO5UYxsww",
        "colab_type": "code",
        "colab": {
          "base_uri": "https://localhost:8080/",
          "height": 35
        },
        "outputId": "4947fb72-25a3-435c-92f6-2c7853a39ca9"
      },
      "source": [
        "print(a[0])"
      ],
      "execution_count": 61,
      "outputs": [
        {
          "output_type": "stream",
          "text": [
            "동\n"
          ],
          "name": "stdout"
        }
      ]
    },
    {
      "cell_type": "code",
      "metadata": {
        "id": "HrER-ONzMhzu",
        "colab_type": "code",
        "colab": {
          "base_uri": "https://localhost:8080/",
          "height": 35
        },
        "outputId": "92dfa2cf-7b28-43c4-fb8e-c8959da0f13a"
      },
      "source": [
        "print(a[5])"
      ],
      "execution_count": 62,
      "outputs": [
        {
          "output_type": "stream",
          "text": [
            "백\n"
          ],
          "name": "stdout"
        }
      ]
    },
    {
      "cell_type": "code",
      "metadata": {
        "id": "HDW_oLxtMhwi",
        "colab_type": "code",
        "colab": {
          "base_uri": "https://localhost:8080/",
          "height": 35
        },
        "outputId": "38f0bafb-daa4-4e18-9a11-ad5d980c9c29"
      },
      "source": [
        "print(a[6])"
      ],
      "execution_count": 63,
      "outputs": [
        {
          "output_type": "stream",
          "text": [
            "두\n"
          ],
          "name": "stdout"
        }
      ]
    },
    {
      "cell_type": "code",
      "metadata": {
        "id": "3vgnjvLdMhtI",
        "colab_type": "code",
        "colab": {
          "base_uri": "https://localhost:8080/",
          "height": 35
        },
        "outputId": "7cab5ecf-a15d-43ab-be6f-59fc9731c326"
      },
      "source": [
        "print(a[8])"
      ],
      "execution_count": 64,
      "outputs": [
        {
          "output_type": "stream",
          "text": [
            "이\n"
          ],
          "name": "stdout"
        }
      ]
    },
    {
      "cell_type": "code",
      "metadata": {
        "id": "v_dfORRqMhpJ",
        "colab_type": "code",
        "colab": {
          "base_uri": "https://localhost:8080/",
          "height": 35
        },
        "outputId": "9d946ab2-75bb-462f-c7d2-a5eb256bd090"
      },
      "source": [
        "print(a[-2])"
      ],
      "execution_count": 65,
      "outputs": [
        {
          "output_type": "stream",
          "text": [
            "산\n"
          ],
          "name": "stdout"
        }
      ]
    },
    {
      "cell_type": "code",
      "metadata": {
        "id": "bcSJ88KKMhfL",
        "colab_type": "code",
        "colab": {}
      },
      "source": [
        ""
      ],
      "execution_count": 0,
      "outputs": []
    },
    {
      "cell_type": "code",
      "metadata": {
        "id": "CzT1FS-Ny2Pj",
        "colab_type": "code",
        "colab": {}
      },
      "source": [
        "# '동해물과'\n",
        "a = '동해물과 백두산이'"
      ],
      "execution_count": 0,
      "outputs": []
    },
    {
      "cell_type": "code",
      "metadata": {
        "id": "EWsLeOFSOqrt",
        "colab_type": "code",
        "colab": {
          "base_uri": "https://localhost:8080/",
          "height": 53
        },
        "outputId": "bb43ce86-fd3f-47f7-d54b-d8bffd5daec7"
      },
      "source": [
        "print(a[0:4])\n",
        "print(a[0],a[1],a[2],a[3],a[4])"
      ],
      "execution_count": 71,
      "outputs": [
        {
          "output_type": "stream",
          "text": [
            "동해물과\n",
            "동 해 물 과  \n"
          ],
          "name": "stdout"
        }
      ]
    },
    {
      "cell_type": "markdown",
      "metadata": {
        "id": "f3joqDYoyhRq",
        "colab_type": "text"
      },
      "source": [
        "#### 2-2-5.문자열 슬라이스\n",
        "<pre>\n",
        "슬라이스 : 자르기\n",
        "\n",
        "규칙 : 변수명[시작순번:원하는 순번+1]"
      ]
    },
    {
      "cell_type": "code",
      "metadata": {
        "id": "2cF0FQlAzYpf",
        "colab_type": "code",
        "colab": {
          "base_uri": "https://localhost:8080/",
          "height": 35
        },
        "outputId": "094ff82f-7b71-471f-a650-99a04c84e2c3"
      },
      "source": [
        "print(a[0:4])\n"
      ],
      "execution_count": 73,
      "outputs": [
        {
          "output_type": "stream",
          "text": [
            "동해물과\n"
          ],
          "name": "stdout"
        }
      ]
    },
    {
      "cell_type": "code",
      "metadata": {
        "id": "A-UrTO13zb-z",
        "colab_type": "code",
        "colab": {
          "base_uri": "https://localhost:8080/",
          "height": 35
        },
        "outputId": "c5f18c95-f287-4259-e9ce-c722104d4040"
      },
      "source": [
        "# 다른 방법(0부터 할 경우 0 생략 가능)\n",
        "print(a[:4])"
      ],
      "execution_count": 74,
      "outputs": [
        {
          "output_type": "stream",
          "text": [
            "동해물과\n"
          ],
          "name": "stdout"
        }
      ]
    },
    {
      "cell_type": "code",
      "metadata": {
        "id": "tO-XCvKcPOoD",
        "colab_type": "code",
        "colab": {
          "base_uri": "https://localhost:8080/",
          "height": 53
        },
        "outputId": "9dbe757a-1467-43fc-ae2a-e936e9de45b9"
      },
      "source": [
        "# '백두산이'\n",
        "print(a[5:9])\n",
        "print(a[5:])"
      ],
      "execution_count": 79,
      "outputs": [
        {
          "output_type": "stream",
          "text": [
            "백두산이\n",
            "백두산이\n"
          ],
          "name": "stdout"
        }
      ]
    },
    {
      "cell_type": "code",
      "metadata": {
        "id": "7z5LzV1SPl8x",
        "colab_type": "code",
        "colab": {
          "base_uri": "https://localhost:8080/",
          "height": 35
        },
        "outputId": "8174f24c-2968-4fc5-9442-97326d4ffc37"
      },
      "source": [
        "# 다른 방법(끝까지 할 경우 끝 생략)\n",
        "print(a[:])"
      ],
      "execution_count": 77,
      "outputs": [
        {
          "output_type": "stream",
          "text": [
            "동해물과 백두산이\n"
          ],
          "name": "stdout"
        }
      ]
    },
    {
      "cell_type": "markdown",
      "metadata": {
        "id": "_kgm09UH0k-B",
        "colab_type": "text"
      },
      "source": [
        "#### 2-2-6.문자열 format() 함수\n",
        "\n",
        "* format() 함수 사용 효과 : \n",
        "\n",
        "  변수를 넣은 문자열을 만들 수 있음."
      ]
    },
    {
      "cell_type": "code",
      "metadata": {
        "id": "o_wvobu62Vs-",
        "colab_type": "code",
        "colab": {
          "base_uri": "https://localhost:8080/",
          "height": 35
        },
        "outputId": "8e4c43b4-63d9-4b1c-d5fb-a3219ed6175b"
      },
      "source": [
        "a='겨울배'\n",
        "print('{}가 참 맛있단다.'.format(a))"
      ],
      "execution_count": 80,
      "outputs": [
        {
          "output_type": "stream",
          "text": [
            "겨울배가 참 맛있단다.\n"
          ],
          "name": "stdout"
        }
      ]
    },
    {
      "cell_type": "code",
      "metadata": {
        "id": "7dP-2EfE2n4x",
        "colab_type": "code",
        "colab": {
          "base_uri": "https://localhost:8080/",
          "height": 35
        },
        "outputId": "e5e3fd04-7fef-4fbf-cbdc-274318b5f752"
      },
      "source": [
        "a=2019\n",
        "print('올해는 {}년 이야.'.format(a))\n"
      ],
      "execution_count": 83,
      "outputs": [
        {
          "output_type": "stream",
          "text": [
            "올해는 2019년 이야.\n"
          ],
          "name": "stdout"
        }
      ]
    },
    {
      "cell_type": "markdown",
      "metadata": {
        "id": "ze_uY4Le2z4D",
        "colab_type": "text"
      },
      "source": [
        "##### 변수 여러개를 사용\n"
      ]
    },
    {
      "cell_type": "code",
      "metadata": {
        "id": "2CBCcNb4RreY",
        "colab_type": "code",
        "colab": {
          "base_uri": "https://localhost:8080/",
          "height": 35
        },
        "outputId": "ac91fc26-1078-446c-af21-a337704f0217"
      },
      "source": [
        "name='김천실'\n",
        "age=2\n",
        "print('내 이름은 {}이고, {}살이야'.format(name, age))"
      ],
      "execution_count": 84,
      "outputs": [
        {
          "output_type": "stream",
          "text": [
            "내 이름은 김천실이고, 2살이야\n"
          ],
          "name": "stdout"
        }
      ]
    },
    {
      "cell_type": "markdown",
      "metadata": {
        "id": "mdJ1KH_U4XwE",
        "colab_type": "text"
      },
      "source": [
        "##### Q. a=1, b=3, c=a+b를 만들고 \n",
        "##### 'a + b = 4 이다' 를 출력하세요."
      ]
    },
    {
      "cell_type": "code",
      "metadata": {
        "id": "EEFXsDDD3JgF",
        "colab_type": "code",
        "colab": {
          "base_uri": "https://localhost:8080/",
          "height": 71
        },
        "outputId": "3748d782-be59-4ad7-a085-9fdf9f8efd06"
      },
      "source": [
        "a=1\n",
        "b=3\n",
        "c=a+b\n",
        "print('a+b는 {}이다'.format(c))\n",
        "print('{}+{}는 {}이다'.format(a,b,c))\n",
        "print('{}+{}는 {}이다.'.format(b,a,c)) #지금은 순서대로 넣었지만 앞으로 어떤 변수를 쓸 지 모르기때문에 format을 이용하여 {}안 값을 계속 변경해 줄 수 있음, 포맷에서는 콤마아니라 온점 써줘야함"
      ],
      "execution_count": 93,
      "outputs": [
        {
          "output_type": "stream",
          "text": [
            "a+b는 4이다\n",
            "1+3는 4이다\n",
            "3+1는 4이다.\n"
          ],
          "name": "stdout"
        }
      ]
    },
    {
      "cell_type": "markdown",
      "metadata": {
        "id": "W63nXH9F3yqu",
        "colab_type": "text"
      },
      "source": [
        "#### 2-2-7.문자열 관련 함수들"
      ]
    },
    {
      "cell_type": "markdown",
      "metadata": {
        "id": "XzMGyp334J5I",
        "colab_type": "text"
      },
      "source": [
        "##### 문자 개수 세기(count() 함수)\n",
        "* 사용법:\n",
        "\n",
        "  변수명.count(세고자 하는 값)"
      ]
    },
    {
      "cell_type": "code",
      "metadata": {
        "id": "_VV7WAZK5CNO",
        "colab_type": "code",
        "colab": {
          "base_uri": "https://localhost:8080/",
          "height": 53
        },
        "outputId": "1026858c-ef8c-4439-e78d-71cc31be2840"
      },
      "source": [
        "a=''' 올해 양파 농사가 풍년이었습니다.\n",
        "양파값이 많이 떨어졌습니다.\n",
        "양파를 많이 사먹으면\n",
        "양파 농가에 조금이나마 도움이 됩니다.\n",
        "'''\n",
        "print(a.count('양파')) #문자열에는 항상 따옴표 써줘야함\n",
        "a.count('이')"
      ],
      "execution_count": 100,
      "outputs": [
        {
          "output_type": "stream",
          "text": [
            "4\n"
          ],
          "name": "stdout"
        },
        {
          "output_type": "execute_result",
          "data": {
            "text/plain": [
              "6"
            ]
          },
          "metadata": {
            "tags": []
          },
          "execution_count": 100
        }
      ]
    },
    {
      "cell_type": "markdown",
      "metadata": {
        "id": "wK_WSLk45UbT",
        "colab_type": "text"
      },
      "source": [
        "##### 문자열 바꾸기(replace() 함수)\n",
        "* 사용법 :\n",
        "\n",
        "  변수명.replace(바꾸려는 값, 대체할 값)"
      ]
    },
    {
      "cell_type": "code",
      "metadata": {
        "id": "9kqG5red5dgf",
        "colab_type": "code",
        "colab": {
          "base_uri": "https://localhost:8080/",
          "height": 53
        },
        "outputId": "f013ef13-3411-40c1-d08a-641b100d00ac"
      },
      "source": [
        "a = '우리 개 이름은 뭉치야.'\n",
        "print(a.replace('뭉치','망치'))\n",
        "print(a) #변수의 값은 바뀌지 않는다. 출력 결과물에서만 1회 바뀐다.\n"
      ],
      "execution_count": 105,
      "outputs": [
        {
          "output_type": "stream",
          "text": [
            "우리 개 이름은 망치야.\n",
            "우리 개 이름은 뭉치야.\n"
          ],
          "name": "stdout"
        }
      ]
    },
    {
      "cell_type": "code",
      "metadata": {
        "id": "8MdGpWK93Kb9",
        "colab_type": "code",
        "colab": {
          "base_uri": "https://localhost:8080/",
          "height": 53
        },
        "outputId": "96402f66-569e-4e3e-8215-a6e920e58856"
      },
      "source": [
        "print(a)\n",
        "b=a.replace('뭉치','망치')\n",
        "print(b) #1회성으로만 하지 않으려면 변수로 지정해줘서 갖고가야한다."
      ],
      "execution_count": 107,
      "outputs": [
        {
          "output_type": "stream",
          "text": [
            "우리 개 이름은 뭉치야.\n",
            "우리 개 이름은 망치야.\n"
          ],
          "name": "stdout"
        }
      ]
    },
    {
      "cell_type": "markdown",
      "metadata": {
        "id": "2XC57cNn6uKN",
        "colab_type": "text"
      },
      "source": [
        "##### 문자열 나누기(split() 함수)\n",
        "* 사용법:\n",
        "\n",
        "  변수명.split()\n",
        "  \n",
        "  (괄호 안에는 ' '이 생략되어 있음. 콤마 구분이면 ','가 넣어져있음.)"
      ]
    },
    {
      "cell_type": "code",
      "metadata": {
        "id": "qk60iM5z6Xbq",
        "colab_type": "code",
        "colab": {}
      },
      "source": [
        "a = 'My heart will go on'\n",
        "a.split()\n",
        "del(print)"
      ],
      "execution_count": 0,
      "outputs": []
    },
    {
      "cell_type": "code",
      "metadata": {
        "id": "E5HHPDKu6qFY",
        "colab_type": "code",
        "colab": {
          "base_uri": "https://localhost:8080/",
          "height": 35
        },
        "outputId": "f0ef4fdd-9d04-4eb4-edd8-08bb68b50fe2"
      },
      "source": [
        "# Q.콤마로 되어있는걸 나눈다면?\n",
        "a = '철수, 영희, 만수'\n",
        "print(a.split())\n"
      ],
      "execution_count": 122,
      "outputs": [
        {
          "output_type": "stream",
          "text": [
            "['철수,', '영희,', '만수']\n"
          ],
          "name": "stdout"
        }
      ]
    },
    {
      "cell_type": "markdown",
      "metadata": {
        "id": "J_CMC7-IURZB",
        "colab_type": "text"
      },
      "source": [
        "### 2-3.bool 값\n",
        "* 참, 거짓을 의미하는 값\n",
        "\n",
        "* 종류 : True / False\n",
        "\n",
        "* 자세한 것은 사용 상황에서 설명."
      ]
    },
    {
      "cell_type": "code",
      "metadata": {
        "id": "RvJWxyPbU-Gg",
        "colab_type": "code",
        "colab": {
          "base_uri": "https://localhost:8080/",
          "height": 53
        },
        "outputId": "a98d9939-e037-4cf6-d23d-a241a40b6d1e"
      },
      "source": [
        "a=True\n",
        "b=False\n",
        "print(a)\n",
        "print(b)"
      ],
      "execution_count": 121,
      "outputs": [
        {
          "output_type": "stream",
          "text": [
            "True\n",
            "False\n"
          ],
          "name": "stdout"
        }
      ]
    },
    {
      "cell_type": "code",
      "metadata": {
        "id": "gNluEJUT4xNk",
        "colab_type": "code",
        "colab": {}
      },
      "source": [
        ""
      ],
      "execution_count": 0,
      "outputs": []
    }
  ]
}