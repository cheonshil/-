{
  "nbformat": 4,
  "nbformat_minor": 0,
  "metadata": {
    "colab": {
      "name": "정규 표현식(예제)_김천실",
      "provenance": [],
      "collapsed_sections": [],
      "include_colab_link": true
    },
    "kernelspec": {
      "name": "python3",
      "display_name": "Python 3"
    }
  },
  "cells": [
    {
      "cell_type": "markdown",
      "metadata": {
        "id": "view-in-github",
        "colab_type": "text"
      },
      "source": [
        "<a href=\"https://colab.research.google.com/github/cheonshil/python/blob/master/%EC%A0%95%EA%B7%9C_%ED%91%9C%ED%98%84%EC%8B%9D(%EC%98%88%EC%A0%9C)_%EA%B9%80%EC%B2%9C%EC%8B%A4.ipynb\" target=\"_parent\"><img src=\"https://colab.research.google.com/assets/colab-badge.svg\" alt=\"Open In Colab\"/></a>"
      ]
    },
    {
      "cell_type": "markdown",
      "metadata": {
        "id": "y6gPoQZAmj8_",
        "colab_type": "text"
      },
      "source": [
        "# Why 정규표현식\n",
        "\n",
        "주민등록번호를 포함하고 있는 텍스트가 있다. 이 텍스트에 포함된 모든 주민등록번호의 뒷자리를 * 문자로 변경해 보자."
      ]
    },
    {
      "cell_type": "code",
      "metadata": {
        "id": "31-QN10RmUiQ",
        "colab_type": "code",
        "colab": {}
      },
      "source": [
        "data = \"\"\"\n",
        "park 800905-1049118\n",
        "kim  700905-1059119\n",
        "\"\"\""
      ],
      "execution_count": 0,
      "outputs": []
    },
    {
      "cell_type": "code",
      "metadata": {
        "id": "0IZqXFiJm6Fw",
        "colab_type": "code",
        "outputId": "ecd41cb3-0e3d-417d-870f-c219095e9aa5",
        "colab": {
          "base_uri": "https://localhost:8080/",
          "height": 89
        }
      },
      "source": [
        "result = []\n",
        "for line in data.split(\"\\n\"):\n",
        "    word_result = []\n",
        "    for word in line.split(\" \"):\n",
        "        if len(word) == 14 and word[:6].isdigit() and word[7:].isdigit():\n",
        "            word = word[:6] + \"-\" + \"*******\"\n",
        "        word_result.append(word)\n",
        "    result.append(\" \".join(word_result))\n",
        "print(\"\\n\".join(result))"
      ],
      "execution_count": 0,
      "outputs": [
        {
          "output_type": "stream",
          "text": [
            "\n",
            "park 800905-*******\n",
            "kim  700905-*******\n",
            "\n"
          ],
          "name": "stdout"
        }
      ]
    },
    {
      "cell_type": "code",
      "metadata": {
        "id": "tzh48kdDm6k6",
        "colab_type": "code",
        "outputId": "2669eb5d-d92f-4bb5-be10-8ab87363d542",
        "colab": {
          "base_uri": "https://localhost:8080/",
          "height": 89
        }
      },
      "source": [
        "import re \n",
        "\n",
        "pat = re.compile(\"(\\d{6})[-]\\d{7}\")\n",
        "print(pat.sub(\"\\g<1>-*******\", data))"
      ],
      "execution_count": 0,
      "outputs": [
        {
          "output_type": "stream",
          "text": [
            "\n",
            "park 800905-*******\n",
            "kim  700905-*******\n",
            "\n"
          ],
          "name": "stdout"
        }
      ]
    },
    {
      "cell_type": "markdown",
      "metadata": {
        "id": "d-RHd99znkn7",
        "colab_type": "text"
      },
      "source": [
        "# 정규표현식\n",
        "\n",
        "\n",
        "\n"
      ]
    },
    {
      "cell_type": "code",
      "metadata": {
        "id": "RRY7VBegnBap",
        "colab_type": "code",
        "colab": {}
      },
      "source": [
        "# 파이썬 정규식은 re(regular expression) 모듈을 사용한다\n",
        "import re "
      ],
      "execution_count": 0,
      "outputs": []
    },
    {
      "cell_type": "markdown",
      "metadata": {
        "id": "dRF1_OJqpgng",
        "colab_type": "text"
      },
      "source": [
        "주로 정규식을 사용하기전에 특정 패턴을 컴파일을 해야한다.\n",
        "\n",
        "re.compile 의 결과를 받아서 이후 작업을 수행한다."
      ]
    },
    {
      "cell_type": "markdown",
      "metadata": {
        "id": "GoY3pg3kwyW9",
        "colab_type": "text"
      },
      "source": [
        "일단은 잘 모르겠으니 실행부터 해보자"
      ]
    },
    {
      "cell_type": "code",
      "metadata": {
        "id": "regXxW4WouKw",
        "colab_type": "code",
        "outputId": "ccf6e494-8e64-4024-f938-57c9827b9cef",
        "colab": {
          "base_uri": "https://localhost:8080/",
          "height": 35
        }
      },
      "source": [
        "# txt 라는 변수에 'Hello Python을 넣어준다.'\n",
        "txt = 'Hello Python'\n",
        "# x는 re 의 search ~~ 의 결과 \n",
        "# 정규식 패턴 : ^Hello.*Python$ \n",
        "# 해석을 위해 메타 문자 등장을 기준으로 패턴을 분리해서 해독\n",
        "# ^Hello                   / .                           / *                 / Python$\n",
        "# Hello 로 문장이 시작되고 / 줄바꿈 문자를 제외한 문자가 / 0번 이상 반복되고 / Python으로 문장이 끝난다.\n",
        "x = re.search('^Hello.*Python$', txt)\n",
        "\n",
        "if x:\n",
        "  print(\"Match\")\n",
        "else:\n",
        "  print(\"Not Match\")"
      ],
      "execution_count": 0,
      "outputs": [
        {
          "output_type": "stream",
          "text": [
            "Match\n"
          ],
          "name": "stdout"
        }
      ]
    },
    {
      "cell_type": "markdown",
      "metadata": {
        "id": "HO1i3iFs6h0g",
        "colab_type": "text"
      },
      "source": [
        "# Re Function\n",
        "\n",
        "re 모듈은 다음과 같은 기능을 제공한다\n",
        "\n",
        "findall - 정규식과 매치되는 모든 문자열(substring)을 리스트로 돌려준다.\n",
        "\n",
        "match - 문자열의 처음부터 정규식과 매치되는지 조사한다.\n",
        "\n",
        "search - 문자열의 전체를 검색하여 정규식과 매치되는지 조사한다.\n",
        "\n",
        "split - 일치하는 분할 문자열 리스트를 돌려준다\n",
        "\n",
        "compile - 패턴을 객체화 시켜서 돌려줍니다.\n",
        "\n",
        "finditer - 정규식과 매치되는 모든 문자열(substring)을 반복 가능한 객체로 돌려준다."
      ]
    },
    {
      "cell_type": "markdown",
      "metadata": {
        "id": "wFYfvpnkuvXM",
        "colab_type": "text"
      },
      "source": [
        "## findall \n",
        "\n",
        "정규식과 매치되는 모든 문자열(substring)을 리스트로 돌려준다."
      ]
    },
    {
      "cell_type": "markdown",
      "metadata": {
        "id": "gWTnWqsHvdgj",
        "colab_type": "text"
      },
      "source": [
        "### 메타 문자(meta characters)\n",
        "\n",
        ". ^ $ * + ? { } [ ] \\ | ( )\n",
        "\n",
        "※ 메타 문자란 원래 그 문자가 가진 뜻이 아닌 특별한 용도로 사용하는 문자를 말한다.\n",
        "\n",
        "[ ] - 괄호 사이의 문자들과 매치\n",
        "\n",
        "\\    - 특수 처리 (천천히 알아가도록 하자) + (슬래쉬(/) 아닙니다 )\n",
        "\n",
        ".  -  줄바꿈 문자(\\n)를 제외한 모든 문자와 매치 (점 하나 찍혀있습니다) \n",
        "\n",
        "^ - ~ 으로 시작한다\n",
        "\n",
        "$ - ~ 으로 끝난다\n",
        "\n",
        "''* - 0번 이상 반복된다  ( 별* 표시 입니다. 자꾸 목차로 변경되어서 앞에 \"가 추가 되었습니다)\n",
        "\n",
        "''+ - 1번 이상 반복된다  ( 위와 같습니다.)\n",
        "\n",
        "? -  0번 이상 1번 이하\n",
        "\n",
        "{ } - 정확한 횟수 지정\n",
        "\n",
        "| - 하나 또는\n",
        "\n",
        "() - 그룹 패턴 "
      ]
    },
    {
      "cell_type": "code",
      "metadata": {
        "id": "sRQEBWEAyooK",
        "colab_type": "code",
        "outputId": "b97122a6-18f9-4b1c-d3eb-b3c212814ab8",
        "colab": {
          "base_uri": "https://localhost:8080/",
          "height": 35
        }
      },
      "source": [
        "txt = 'Hello SBA'\n",
        "\n",
        "# a부터 m 까지 \n",
        "x = re.findall(\"[a-m]\",txt)\n",
        "x"
      ],
      "execution_count": 0,
      "outputs": [
        {
          "output_type": "execute_result",
          "data": {
            "text/plain": [
              "['e', 'l', 'l']"
            ]
          },
          "metadata": {
            "tags": []
          },
          "execution_count": 17
        }
      ]
    },
    {
      "cell_type": "code",
      "metadata": {
        "id": "UOG9apZtBuAX",
        "colab_type": "code",
        "outputId": "92b7a03f-6ecc-48cc-8746-07c7c4a32d4a",
        "colab": {
          "base_uri": "https://localhost:8080/",
          "height": 35
        }
      },
      "source": [
        "txt = '안녕 디지몬'\n",
        "\n",
        "# 한글 음절의 첫 시작인 '가' 마지막 음절인 '힣' 으로 한글 음절을 다 찾아낼수있다\n",
        "# 단, UTF-8과 EUC-KR 인코딩이 다른 결과를 가져온다는 점 인지해두셨으면 합니다.\n",
        "x = re.findall(\"[가-힣]\",txt)\n",
        "x"
      ],
      "execution_count": 0,
      "outputs": [
        {
          "output_type": "execute_result",
          "data": {
            "text/plain": [
              "['안', '녕', '디', '지', '몬']"
            ]
          },
          "metadata": {
            "tags": []
          },
          "execution_count": 19
        }
      ]
    },
    {
      "cell_type": "code",
      "metadata": {
        "id": "L-hRqlkmrebx",
        "colab_type": "code",
        "outputId": "247c6b7c-4446-4b0b-ada5-6093cede354b",
        "colab": {
          "base_uri": "https://localhost:8080/",
          "height": 35
        }
      },
      "source": [
        "txt = \"소보루 빵은 2500원이다.\"\n",
        "\n",
        "# 쌤쌤\n",
        "x = re.findall(\"[0-5]\", txt)\n",
        "x"
      ],
      "execution_count": 0,
      "outputs": [
        {
          "output_type": "execute_result",
          "data": {
            "text/plain": [
              "['2', '5', '0', '0']"
            ]
          },
          "metadata": {
            "tags": []
          },
          "execution_count": 21
        }
      ]
    },
    {
      "cell_type": "code",
      "metadata": {
        "id": "J0QUa-h9DlZX",
        "colab_type": "code",
        "outputId": "5cfe2cff-3b9a-4446-b9a2-61f07e170784",
        "colab": {
          "base_uri": "https://localhost:8080/",
          "height": 35
        }
      },
      "source": [
        "txt = 'Life is too short, you must need Python'\n",
        "\n",
        "# P (아무말)*4 n\n",
        "x = re.findall(\"[P....n]\",txt)\n",
        "x"
      ],
      "execution_count": 0,
      "outputs": [
        {
          "output_type": "execute_result",
          "data": {
            "text/plain": [
              "['n', 'P', 'n']"
            ]
          },
          "metadata": {
            "tags": []
          },
          "execution_count": 24
        }
      ]
    },
    {
      "cell_type": "code",
      "metadata": {
        "id": "8y5r6Zs5JSvM",
        "colab_type": "code",
        "outputId": "af98a108-7c0b-4cf7-aa3b-a2af6567b143",
        "colab": {
          "base_uri": "https://localhost:8080/",
          "height": 35
        }
      },
      "source": [
        "txt = 'Life is too short, you must need Python'\n",
        "\n",
        "# Life 로 시작\n",
        "x = re.findall('^Life',txt)\n",
        "x"
      ],
      "execution_count": 0,
      "outputs": [
        {
          "output_type": "execute_result",
          "data": {
            "text/plain": [
              "['Life']"
            ]
          },
          "metadata": {
            "tags": []
          },
          "execution_count": 26
        }
      ]
    },
    {
      "cell_type": "code",
      "metadata": {
        "id": "2-xT04LsJkp5",
        "colab_type": "code",
        "outputId": "ef7001a0-5353-42c5-ad13-343a151167ea",
        "colab": {
          "base_uri": "https://localhost:8080/",
          "height": 35
        }
      },
      "source": [
        "txt = 'Life is too short, you must need Python'\n",
        "\n",
        "# Python으로 끝\n",
        "x = re.findall(\"Python$\",txt)\n",
        "x"
      ],
      "execution_count": 0,
      "outputs": [
        {
          "output_type": "execute_result",
          "data": {
            "text/plain": [
              "['Python']"
            ]
          },
          "metadata": {
            "tags": []
          },
          "execution_count": 28
        }
      ]
    },
    {
      "cell_type": "code",
      "metadata": {
        "id": "54wtTbNZJpx6",
        "colab_type": "code",
        "outputId": "c039969f-2c89-458a-f155-96a5e92a5583",
        "colab": {
          "base_uri": "https://localhost:8080/",
          "height": 35
        }
      },
      "source": [
        "txt = '오늘은 오렌지 상자를 들고 오늘 열리는 장터에 가서 오징어와 교환하러가는날'\n",
        "\n",
        "# 오늘 [은]이 0번 이상 등장 *\n",
        "x = re.findall('오늘은*', txt)\n",
        "x"
      ],
      "execution_count": 0,
      "outputs": [
        {
          "output_type": "execute_result",
          "data": {
            "text/plain": [
              "['오늘은', '오늘']"
            ]
          },
          "metadata": {
            "tags": []
          },
          "execution_count": 30
        }
      ]
    },
    {
      "cell_type": "code",
      "metadata": {
        "id": "IYklPdMWme4C",
        "colab_type": "code",
        "outputId": "37a9425a-6dfe-4c34-a0e5-b03e177340b0",
        "colab": {
          "base_uri": "https://localhost:8080/",
          "height": 35
        }
      },
      "source": [
        "txt = '오늘은 오렌지 상자를 들고 오늘 열리는 장터에 가서 오징어와 교환하러가는날'\n",
        "\n",
        "# 오늘 [은]이 1번 이상 등장 +\n",
        "x = re.findall('오늘은+', txt)\n",
        "x"
      ],
      "execution_count": 0,
      "outputs": [
        {
          "output_type": "execute_result",
          "data": {
            "text/plain": [
              "['오늘은']"
            ]
          },
          "metadata": {
            "tags": []
          },
          "execution_count": 32
        }
      ]
    },
    {
      "cell_type": "code",
      "metadata": {
        "id": "tgOzoO2JnkEh",
        "colab_type": "code",
        "outputId": "2cd035e8-6947-4d5f-adf0-3b3615b6e253",
        "colab": {
          "base_uri": "https://localhost:8080/",
          "height": 35
        }
      },
      "source": [
        "txt = 'Life is too short, you must need Python'\n",
        "\n",
        "# n e가 2번 나오는 패턴 - 패턴 임의 지정 {}에 숫자\n",
        "x = re.findall('ne{2}',txt)\n",
        "x"
      ],
      "execution_count": 0,
      "outputs": [
        {
          "output_type": "execute_result",
          "data": {
            "text/plain": [
              "['nee']"
            ]
          },
          "metadata": {
            "tags": []
          },
          "execution_count": 34
        }
      ]
    },
    {
      "cell_type": "code",
      "metadata": {
        "id": "KPRfX-UToFXX",
        "colab_type": "code",
        "outputId": "7076bed4-b672-4e82-f210-19662d55653b",
        "colab": {
          "base_uri": "https://localhost:8080/",
          "height": 35
        }
      },
      "source": [
        "txt = 'Life is too short, you must need Python'\n",
        "\n",
        "# short 또는 Python 만 추출\n",
        "x = re.findall('short|Python',txt)\n",
        "print(x)"
      ],
      "execution_count": 0,
      "outputs": [
        {
          "output_type": "stream",
          "text": [
            "['short', 'Python']\n"
          ],
          "name": "stdout"
        }
      ]
    },
    {
      "cell_type": "markdown",
      "metadata": {
        "id": "jvXZyBJppSEL",
        "colab_type": "text"
      },
      "source": [
        "### Sets [ ]\n",
        "\n",
        "[ ] - 괄호 사이의 문자들과 매치"
      ]
    },
    {
      "cell_type": "code",
      "metadata": {
        "id": "g89iSDrrpR00",
        "colab_type": "code",
        "outputId": "aac0b2fe-dd74-492b-9da7-6aa1554ebd46",
        "colab": {
          "base_uri": "https://localhost:8080/",
          "height": 35
        }
      },
      "source": [
        "txt = 'Life is too short, you must need Python'\n",
        "\n",
        "# [ist] : i, s, t 를 추출\n",
        "x = re.findall(\"[ist]\",txt)\n",
        "print(x)"
      ],
      "execution_count": 0,
      "outputs": [
        {
          "output_type": "stream",
          "text": [
            "['i', 'i', 's', 't', 's', 't', 's', 't', 't']\n"
          ],
          "name": "stdout"
        }
      ]
    },
    {
      "cell_type": "code",
      "metadata": {
        "id": "_UpUh9ZMp04U",
        "colab_type": "code",
        "outputId": "3a468cf7-87a3-4c19-a4b3-0f76932e09fd",
        "colab": {
          "base_uri": "https://localhost:8080/",
          "height": 35
        }
      },
      "source": [
        "txt = 'Life is too short, you must need Python'\n",
        "\n",
        "# [a-o] : 알파벳 a o 사이를 추출\n",
        "x = re.findall('[a-o]',txt)\n",
        "print(x)"
      ],
      "execution_count": 0,
      "outputs": [
        {
          "output_type": "stream",
          "text": [
            "['i', 'f', 'e', 'i', 'o', 'o', 'h', 'o', 'o', 'm', 'n', 'e', 'e', 'd', 'h', 'o', 'n']\n"
          ],
          "name": "stdout"
        }
      ]
    },
    {
      "cell_type": "code",
      "metadata": {
        "id": "JDqTKR1Sp-E6",
        "colab_type": "code",
        "outputId": "ca70e2ff-b363-4d75-d02e-0cd306e1963b",
        "colab": {
          "base_uri": "https://localhost:8080/",
          "height": 35
        }
      },
      "source": [
        "txt = 'Life is too short, you must need Python'\n",
        "\n",
        "# [a-o] : 알파벳 a o 사이를 제외하고 추출\n",
        "x = re.findall(\"[^a-o]\",txt)\n",
        "print(x)"
      ],
      "execution_count": 0,
      "outputs": [
        {
          "output_type": "stream",
          "text": [
            "['L', ' ', 's', ' ', 't', ' ', 's', 'r', 't', ',', ' ', 'y', 'u', ' ', 'u', 's', 't', ' ', ' ', 'P', 'y', 't']\n"
          ],
          "name": "stdout"
        }
      ]
    },
    {
      "cell_type": "code",
      "metadata": {
        "id": "oDdXvcfzqFpT",
        "colab_type": "code",
        "outputId": "a6ca07d8-301b-4676-9101-d24b35c5c6e0",
        "colab": {
          "base_uri": "https://localhost:8080/",
          "height": 35
        }
      },
      "source": [
        "txt = \"소보루 빵은 2500원이다.\"\n",
        "\n",
        "# 숫자 0 과 5 를 추출\n",
        "x= re.findall(\"[05]\",txt) # 또는 5|0 //// 50 찾고싶다면 \"50\" 으로 입력\n",
        "x"
      ],
      "execution_count": 0,
      "outputs": [
        {
          "output_type": "execute_result",
          "data": {
            "text/plain": [
              "['5', '0', '0']"
            ]
          },
          "metadata": {
            "tags": []
          },
          "execution_count": 40
        }
      ]
    },
    {
      "cell_type": "code",
      "metadata": {
        "id": "t08GHNgvqXcv",
        "colab_type": "code",
        "outputId": "38591314-14e5-4c10-d75c-f306d28f2c8a",
        "colab": {
          "base_uri": "https://localhost:8080/",
          "height": 35
        }
      },
      "source": [
        "txt = \"소보루 빵은 2500원이다.\"\n",
        "\n",
        "# 숫자 0 에서 4 사이를 추출\n",
        "x = re.findall(\"[0-4]\",txt)\n",
        "x "
      ],
      "execution_count": 0,
      "outputs": [
        {
          "output_type": "execute_result",
          "data": {
            "text/plain": [
              "['2', '0', '0']"
            ]
          },
          "metadata": {
            "tags": []
          },
          "execution_count": 41
        }
      ]
    },
    {
      "cell_type": "code",
      "metadata": {
        "id": "Zj8BVvWnqdHx",
        "colab_type": "code",
        "outputId": "3d11b2c6-366f-4383-9562-e63bb6028d2f",
        "colab": {
          "base_uri": "https://localhost:8080/",
          "height": 35
        }
      },
      "source": [
        "txt = \"소보루 빵은 이제부터 41000원이다.\"\n",
        "\n",
        "# 숫자 00 에서 39 사이를 추출\n",
        "x = re.findall('[0-3][0-9]',txt)\n",
        "x"
      ],
      "execution_count": 0,
      "outputs": [
        {
          "output_type": "execute_result",
          "data": {
            "text/plain": [
              "['10', '00']"
            ]
          },
          "metadata": {
            "tags": []
          },
          "execution_count": 43
        }
      ]
    },
    {
      "cell_type": "code",
      "metadata": {
        "id": "wEI9qxhsW3wR",
        "colab_type": "code",
        "outputId": "478de50f-0f6f-4c4e-d1f5-19bae2d10bd0",
        "colab": {
          "base_uri": "https://localhost:8080/",
          "height": 35
        }
      },
      "source": [
        "txt = \"Soboro Bread is 4000 Won\"\n",
        "# 영어 전부출력\n",
        "x = re.findall(\"[a-zA-Z]\",txt)\n",
        "\n",
        "print(x)"
      ],
      "execution_count": 0,
      "outputs": [
        {
          "output_type": "stream",
          "text": [
            "['S', 'o', 'b', 'o', 'r', 'o', 'B', 'r', 'e', 'a', 'd', 'i', 's', 'W', 'o', 'n']\n"
          ],
          "name": "stdout"
        }
      ]
    },
    {
      "cell_type": "markdown",
      "metadata": {
        "id": "FHjWaI9_vknQ",
        "colab_type": "text"
      },
      "source": [
        "### 특별 처리 (\"\\\\\")\n",
        "\n",
        "여러가지가 있지만 자주 사용되는 부분을 다루겠습니다.\n",
        "\n",
        "\\d - 숫자와 매치 \n",
        "\n",
        "\\D - 숫자가 아닌것과 매치 = [^0-9]  \n",
        "\n",
        "*[ ] (Set) 안에서는 ^표시는 부정을 의미합니다*\n",
        "\n",
        "\\s - 공백 문자와 매치 [ \\t\\n\\r\\f\\v]\n",
        "\n",
        "\\S - 공백 문자가 아닌것과 매치 [^ \\t\\n\\r\\f\\v]\n",
        "\n",
        "\\A - 시작 문자와 매치\n",
        "\n",
        "\\Z - 끝 문자와 매치\n",
        "\n",
        "\n",
        "\n"
      ]
    },
    {
      "cell_type": "code",
      "metadata": {
        "id": "mPflU1EEoYEP",
        "colab_type": "code",
        "outputId": "acbd7504-32d0-4d5e-de02-3fde5fe5e691",
        "colab": {
          "base_uri": "https://localhost:8080/",
          "height": 35
        }
      },
      "source": [
        "txt = \"소보루 빵은  2500원이다.\"\n",
        "\n",
        "# \\d는 숫자와 매치 되는 특수 케이스.\n",
        "x = re.findall(\"\\d\",txt)\n",
        "x"
      ],
      "execution_count": 0,
      "outputs": [
        {
          "output_type": "execute_result",
          "data": {
            "text/plain": [
              "['2', '5', '0', '0']"
            ]
          },
          "metadata": {
            "tags": []
          },
          "execution_count": 45
        }
      ]
    },
    {
      "cell_type": "code",
      "metadata": {
        "id": "GnkL2U2sL9fR",
        "colab_type": "code",
        "outputId": "3a4590dd-24c3-40d2-b2b1-129077f1fc9b",
        "colab": {
          "base_uri": "https://localhost:8080/",
          "height": 35
        }
      },
      "source": [
        "txt = \"소보루 빵은  2500원이다.\"\n",
        "\n",
        "# \\d는 숫자와 매치 되는 특수 케이스.\n",
        "x =re.findall(\"\\d\\d\", txt) \\D\n",
        "x"
      ],
      "execution_count": 0,
      "outputs": [
        {
          "output_type": "execute_result",
          "data": {
            "text/plain": [
              "['25', '00']"
            ]
          },
          "metadata": {
            "tags": []
          },
          "execution_count": 46
        }
      ]
    },
    {
      "cell_type": "code",
      "metadata": {
        "id": "8a3Hgs0m_MxW",
        "colab_type": "code",
        "colab": {}
      },
      "source": [
        "txt = \"소보루 빵은  2500원이다.\"\n",
        "\n",
        "# 2,3,4,5 와 매치되는 패턴.\n",
        "x = re.findall(\"[2-5]\",txt)"
      ],
      "execution_count": 0,
      "outputs": []
    },
    {
      "cell_type": "code",
      "metadata": {
        "id": "iBu-IVDB_bg_",
        "colab_type": "code",
        "colab": {}
      },
      "source": [
        "txt = \"소보루 빵은  2500원이다.\"\n",
        "\n",
        "# 2,3,4,5 와 매치되지 않는 패턴.\n",
        "x = re.findall(\"[^2-5]\",txt)"
      ],
      "execution_count": 0,
      "outputs": []
    },
    {
      "cell_type": "code",
      "metadata": {
        "id": "N0JmiOK9MXiH",
        "colab_type": "code",
        "outputId": "06be9dee-6d4b-4bf9-b4ae-e7cbd60654f6",
        "colab": {
          "base_uri": "https://localhost:8080/",
          "height": 35
        }
      },
      "source": [
        "txt = \"소보루 빵은  2500원이다.\"\n",
        "\n",
        "# \\s는 공백과 매치 되는 특수 케이스.\n",
        "x = re.findall(\"\\s\", txt)\n",
        "x"
      ],
      "execution_count": 0,
      "outputs": [
        {
          "output_type": "execute_result",
          "data": {
            "text/plain": [
              "[' ', ' ', ' ']"
            ]
          },
          "metadata": {
            "tags": []
          },
          "execution_count": 50
        }
      ]
    },
    {
      "cell_type": "code",
      "metadata": {
        "id": "a7g4WffAMeV_",
        "colab_type": "code",
        "outputId": "5c0be708-d449-4c60-a231-13cc31499763",
        "colab": {
          "base_uri": "https://localhost:8080/",
          "height": 35
        }
      },
      "source": [
        "txt = \"소보루 빵은  2500원이다.\"\n",
        "\n",
        "# \\S는 공백제외 매치 되는 특수 케이스.\n",
        "x = re.findall(\"\\S\",txt)\n",
        "x"
      ],
      "execution_count": 0,
      "outputs": [
        {
          "output_type": "execute_result",
          "data": {
            "text/plain": [
              "['소', '보', '루', '빵', '은', '2', '5', '0', '0', '원', '이', '다', '.']"
            ]
          },
          "metadata": {
            "tags": []
          },
          "execution_count": 55
        }
      ]
    },
    {
      "cell_type": "code",
      "metadata": {
        "id": "GrmCoCwB_xaJ",
        "colab_type": "code",
        "outputId": "97af4fbf-097f-4a61-d39e-ba1a8cae37c9",
        "colab": {
          "base_uri": "https://localhost:8080/",
          "height": 35
        }
      },
      "source": [
        "txt = 'Life is too short, you must need Python'\n",
        "\n",
        "# Life 로 시작 ^Life 와 동일 \\A\n",
        "x = re.findall(\"\\ALife\", txt)\n",
        "x"
      ],
      "execution_count": 0,
      "outputs": [
        {
          "output_type": "execute_result",
          "data": {
            "text/plain": [
              "['Life']"
            ]
          },
          "metadata": {
            "tags": []
          },
          "execution_count": 56
        }
      ]
    },
    {
      "cell_type": "code",
      "metadata": {
        "id": "QAzBCXUzKh_g",
        "colab_type": "code",
        "outputId": "8045d56e-44f0-40f6-cdf1-8bc54092d40f",
        "colab": {
          "base_uri": "https://localhost:8080/",
          "height": 35
        }
      },
      "source": [
        "txt = 'Life is too short, you must need Python'\n",
        "\n",
        "# \\Z  Python$ 와 동일\n",
        "x = re.findall('Python\\Z', txt)\n",
        "x"
      ],
      "execution_count": 0,
      "outputs": [
        {
          "output_type": "execute_result",
          "data": {
            "text/plain": [
              "['Python']"
            ]
          },
          "metadata": {
            "tags": []
          },
          "execution_count": 57
        }
      ]
    },
    {
      "cell_type": "markdown",
      "metadata": {
        "id": "hp9bNaCyB9CM",
        "colab_type": "text"
      },
      "source": [
        "## Search\n",
        "\n",
        "span 으로 패턴과 처음으로 매칭되는 (start_index, end_index)를 반환해준다\n"
      ]
    },
    {
      "cell_type": "code",
      "metadata": {
        "id": "ZCyGV29VMfrf",
        "colab_type": "code",
        "outputId": "298f3d0b-379b-4a8b-8bd9-d339171e90fe",
        "colab": {
          "base_uri": "https://localhost:8080/",
          "height": 35
        }
      },
      "source": [
        "txt = 'Life is too short, you must need Python'\n",
        "\n",
        "# Python 과 매치되는 부분의 위치를 찾아서 반환한다.\n",
        "x = re.search(\"Python\",txt)\n",
        "x"
      ],
      "execution_count": 0,
      "outputs": [
        {
          "output_type": "execute_result",
          "data": {
            "text/plain": [
              "<_sre.SRE_Match object; span=(33, 39), match='Python'>"
            ]
          },
          "metadata": {
            "tags": []
          },
          "execution_count": 59
        }
      ]
    },
    {
      "cell_type": "code",
      "metadata": {
        "id": "_dxIht8Bb7my",
        "colab_type": "code",
        "outputId": "7f6b6b1e-15cf-45ba-a0eb-9393f9b8aec0",
        "colab": {
          "base_uri": "https://localhost:8080/",
          "height": 35
        }
      },
      "source": [
        "# 일치하는 인덱스를 튜플 형태로 가져온다\n",
        "x.span()"
      ],
      "execution_count": 0,
      "outputs": [
        {
          "output_type": "execute_result",
          "data": {
            "text/plain": [
              "(33, 39)"
            ]
          },
          "metadata": {
            "tags": []
          },
          "execution_count": 60
        }
      ]
    },
    {
      "cell_type": "code",
      "metadata": {
        "id": "TllLXJV2Mxha",
        "colab_type": "code",
        "outputId": "741680e1-27d3-4484-f33c-27bc381af558",
        "colab": {
          "base_uri": "https://localhost:8080/",
          "height": 35
        }
      },
      "source": [
        "txt[33:39]"
      ],
      "execution_count": 0,
      "outputs": [
        {
          "output_type": "execute_result",
          "data": {
            "text/plain": [
              "'Python'"
            ]
          },
          "metadata": {
            "tags": []
          },
          "execution_count": 65
        }
      ]
    },
    {
      "cell_type": "code",
      "metadata": {
        "id": "55nRHQfWoV-X",
        "colab_type": "code",
        "outputId": "c8ec4063-bf98-45fb-ee05-b01d6d6df522",
        "colab": {
          "base_uri": "https://localhost:8080/",
          "height": 35
        }
      },
      "source": [
        "# 시작하는 인덱스를 반환한다.\n",
        "x.start()"
      ],
      "execution_count": 0,
      "outputs": [
        {
          "output_type": "execute_result",
          "data": {
            "text/plain": [
              "33"
            ]
          },
          "metadata": {
            "tags": []
          },
          "execution_count": 61
        }
      ]
    },
    {
      "cell_type": "code",
      "metadata": {
        "id": "TuyPbWfnoe_y",
        "colab_type": "code",
        "outputId": "d65df6d5-4cce-4400-8727-04471305c8ff",
        "colab": {
          "base_uri": "https://localhost:8080/",
          "height": 35
        }
      },
      "source": [
        "# 끝나는 인덱스를 반환한다.\n",
        "x.end()"
      ],
      "execution_count": 0,
      "outputs": [
        {
          "output_type": "execute_result",
          "data": {
            "text/plain": [
              "39"
            ]
          },
          "metadata": {
            "tags": []
          },
          "execution_count": 62
        }
      ]
    },
    {
      "cell_type": "code",
      "metadata": {
        "id": "-IY7jnJhfxm7",
        "colab_type": "code",
        "outputId": "de077d42-09d4-4432-b6fb-c78b2987bce1",
        "colab": {
          "base_uri": "https://localhost:8080/",
          "height": 35
        }
      },
      "source": [
        "# 객체의 string 은 원본 문장을 포함하고 있다\n",
        "x.string"
      ],
      "execution_count": 0,
      "outputs": [
        {
          "output_type": "execute_result",
          "data": {
            "text/plain": [
              "'Life is too short, you must need Python'"
            ]
          },
          "metadata": {
            "tags": []
          },
          "execution_count": 63
        }
      ]
    },
    {
      "cell_type": "code",
      "metadata": {
        "id": "LQ4ecLvggXUw",
        "colab_type": "code",
        "outputId": "88e200e1-efba-4e79-efd3-ea2fee2336e3",
        "colab": {
          "base_uri": "https://localhost:8080/",
          "height": 35
        }
      },
      "source": [
        "# 매치된 문자열을 돌려준다\n",
        "x.group()"
      ],
      "execution_count": 0,
      "outputs": [
        {
          "output_type": "execute_result",
          "data": {
            "text/plain": [
              "'Python'"
            ]
          },
          "metadata": {
            "tags": []
          },
          "execution_count": 64
        }
      ]
    },
    {
      "cell_type": "markdown",
      "metadata": {
        "id": "GeR1dzgLN0SR",
        "colab_type": "text"
      },
      "source": [
        "## split\n",
        "\n",
        "패턴과 매칭되는 기준으로 텍스트를 잘라줍니다"
      ]
    },
    {
      "cell_type": "code",
      "metadata": {
        "id": "ZkS_Lnz6ljTV",
        "colab_type": "code",
        "outputId": "f1c400d7-b03b-48f6-a745-9017c062a4fb",
        "colab": {
          "base_uri": "https://localhost:8080/",
          "height": 35
        }
      },
      "source": [
        "txt = 'Life is too short, you must need Python'\n",
        "\n",
        "# 공백을 기준으로 자른다\n",
        "x = re.split(' ', txt)\n",
        "print(x)"
      ],
      "execution_count": 0,
      "outputs": [
        {
          "output_type": "stream",
          "text": [
            "['Life', 'is', 'too', 'short,', 'you', 'must', 'need', 'Python']\n"
          ],
          "name": "stdout"
        }
      ]
    },
    {
      "cell_type": "code",
      "metadata": {
        "id": "VbmdwPV2Fb_w",
        "colab_type": "code",
        "outputId": "73c62978-dece-419b-ac47-703fa99c870f",
        "colab": {
          "base_uri": "https://localhost:8080/",
          "height": 35
        }
      },
      "source": [
        "txt = 'Life is too short, you must need Python'\n",
        "\n",
        "# 공백을 기준으로 자른다 , 첫 한개만\n",
        "x = re.split(' ', txt, 1)\n",
        "print(x)"
      ],
      "execution_count": 0,
      "outputs": [
        {
          "output_type": "stream",
          "text": [
            "['Life', 'is too short, you must need Python']\n"
          ],
          "name": "stdout"
        }
      ]
    },
    {
      "cell_type": "markdown",
      "metadata": {
        "id": "HYXotLyDPZGO",
        "colab_type": "text"
      },
      "source": [
        "## sub \n",
        "\n",
        "패턴과 매칭되는 부분을 교체"
      ]
    },
    {
      "cell_type": "code",
      "metadata": {
        "id": "aH2Q93LxYNDe",
        "colab_type": "code",
        "outputId": "16c6c7dc-7c29-484b-fc73-b13007d56bc3",
        "colab": {
          "base_uri": "https://localhost:8080/",
          "height": 35
        }
      },
      "source": [
        "txt = 'Life is too short, you must need Python'\n",
        "\n",
        "# 공백을 찾아서 \\t 로 바꿔준다\n",
        "x = re.sub(\" \", \"\\t\", txt)\n",
        "print(x)"
      ],
      "execution_count": 0,
      "outputs": [
        {
          "output_type": "stream",
          "text": [
            "Life\tis\ttoo\tshort,\tyou\tmust\tneed\tPython\n"
          ],
          "name": "stdout"
        }
      ]
    },
    {
      "cell_type": "code",
      "metadata": {
        "id": "IwPGWlYvbkuJ",
        "colab_type": "code",
        "outputId": "cac00b23-191a-4955-e58f-16945e3dc618",
        "colab": {
          "base_uri": "https://localhost:8080/",
          "height": 71
        }
      },
      "source": [
        "txt = 'Life is too short, you must need Python'\n",
        "\n",
        "# 공백을 찾아서 \\n 로 바꿔준다\n",
        "x = re.sub(' ', '\\n', txt, 2) # 뒤에 숫자는 카운트, 2개까지만 바꿔줌\n",
        "print(x)"
      ],
      "execution_count": 0,
      "outputs": [
        {
          "output_type": "stream",
          "text": [
            "Life\n",
            "is\n",
            "too short, you must need Python\n"
          ],
          "name": "stdout"
        }
      ]
    },
    {
      "cell_type": "markdown",
      "metadata": {
        "id": "k6U4RiZQmKY1",
        "colab_type": "text"
      },
      "source": [
        "## Compile\n",
        "\n",
        "지금까지는 일회성 패턴을 가지고 작업을 했었다.\n",
        "\n",
        "이제는 반복적으로 사용이 가능한 컴파일 객체를 만들어보려고 한다.\n",
        "\n",
        "컴파일에는 몇가지 옵션이 존재한다.\n",
        "\n",
        "DOTALL(S) - .이 줄바꿈 문자를 포함하여 모든 문자와 매치할 수 있도록 한다.\n",
        "\n",
        "IGNORECASE(I) - 대소문자 관계없이 매치\n",
        "\n",
        "MULTILINE(M) - 여러줄과 매치할 수 있도록 한다\n",
        "\n",
        "VERBOSE(X) - 정규식을 보기 편하게 만들수 있고, 주석 사용 가능"
      ]
    },
    {
      "cell_type": "code",
      "metadata": {
        "id": "Gt7NOr3uqBEt",
        "colab_type": "code",
        "outputId": "25b8b9fc-0d8d-4a24-8eb8-ee80800c836d",
        "colab": {
          "base_uri": "https://localhost:8080/",
          "height": 35
        }
      },
      "source": [
        "txt = 'Life is too short, you must need Python'\n",
        "\n",
        "# [ist] : i, s, t 를 추출\n",
        "\n",
        "print(x)"
      ],
      "execution_count": 0,
      "outputs": [
        {
          "output_type": "stream",
          "text": [
            "['i', 'i', 's', 't', 's', 't', 's', 't', 't']\n"
          ],
          "name": "stdout"
        }
      ]
    },
    {
      "cell_type": "code",
      "metadata": {
        "id": "BKJQZ1zmb3fc",
        "colab_type": "code",
        "outputId": "218ae289-4c24-49bb-82cf-981e617420c9",
        "colab": {
          "base_uri": "https://localhost:8080/",
          "height": 35
        }
      },
      "source": [
        "txt = 'Life is too short, you must need Python'\n",
        "# [ist] : i, s, t 를 추출\n",
        "p.findall(txt)"
      ],
      "execution_count": 0,
      "outputs": [
        {
          "output_type": "execute_result",
          "data": {
            "text/plain": [
              "['i', 'i', 's', 't', 's', 't', 's', 't', 't']"
            ]
          },
          "metadata": {
            "tags": []
          },
          "execution_count": 107
        }
      ]
    },
    {
      "cell_type": "code",
      "metadata": {
        "id": "V0W3K9hXppXz",
        "colab_type": "code",
        "outputId": "708111d3-7696-4579-f05f-6f8ca783cec7",
        "colab": {
          "base_uri": "https://localhost:8080/",
          "height": 75
        }
      },
      "source": [
        "txt = \"A great visualization python library used to work with Keras. It uses python's graphviz library to create a presentable graph of the neural network you are building.\"\n",
        "print(p.findall(txt))"
      ],
      "execution_count": 0,
      "outputs": [
        {
          "output_type": "stream",
          "text": [
            "['t', 'i', 's', 'i', 't', 'i', 't', 'i', 's', 't', 'i', 't', 's', 't', 's', 's', 't', 's', 'i', 'i', 't', 't', 's', 't', 't', 't', 'i', 'i']\n"
          ],
          "name": "stdout"
        }
      ]
    },
    {
      "cell_type": "code",
      "metadata": {
        "id": "9PH0wBs3qa4F",
        "colab_type": "code",
        "outputId": "a9bb0393-b71e-43bf-d0e4-bad2e4209e18",
        "colab": {
          "base_uri": "https://localhost:8080/",
          "height": 35
        }
      },
      "source": [
        "p"
      ],
      "execution_count": 0,
      "outputs": [
        {
          "output_type": "execute_result",
          "data": {
            "text/plain": [
              "re.compile(r'[ist]', re.UNICODE)"
            ]
          },
          "metadata": {
            "tags": []
          },
          "execution_count": 109
        }
      ]
    },
    {
      "cell_type": "markdown",
      "metadata": {
        "id": "56jxF9Wc3C5f",
        "colab_type": "text"
      },
      "source": [
        "compile 을 사용하면 코드상으로 한줄을 더 사용해야한다\n",
        "\n",
        "하지만 반복적으로 정규식을 처리해야할때는 컴파일을 통해\n",
        "\n",
        "'객체'를 만들어주는게 편리하다."
      ]
    },
    {
      "cell_type": "markdown",
      "metadata": {
        "id": "WkRp9nqzroVd",
        "colab_type": "text"
      },
      "source": [
        "### DOTALL (S)\n",
        "\n",
        "여러 줄로 구성된 문자열에서 \\n(줄 바꿈)에 상관없이 검색할때 사용"
      ]
    },
    {
      "cell_type": "code",
      "metadata": {
        "id": "89naWTBJqvkj",
        "colab_type": "code",
        "outputId": "cbaaef75-76f1-4159-f670-67886b44ba32",
        "colab": {
          "base_uri": "https://localhost:8080/",
          "height": 35
        }
      },
      "source": [
        "# a.b : a와 b사이에 줄바꿈을 제외한 모든 문자 패턴\n",
        "m = p.match('a\\nb')\n",
        "print(m)"
      ],
      "execution_count": 0,
      "outputs": [
        {
          "output_type": "stream",
          "text": [
            "None\n"
          ],
          "name": "stdout"
        }
      ]
    },
    {
      "cell_type": "code",
      "metadata": {
        "id": "ba2iRI6prPft",
        "colab_type": "code",
        "outputId": "3fc078e6-39a6-411f-f12f-4f06419cbe14",
        "colab": {
          "base_uri": "https://localhost:8080/",
          "height": 35
        }
      },
      "source": [
        "# DOTALL 옵션으로 인해서 줄바꿈도 허용하는 패턴\n",
        "m = p.match('a\\nb')\n",
        "print(m)"
      ],
      "execution_count": 0,
      "outputs": [
        {
          "output_type": "stream",
          "text": [
            "<_sre.SRE_Match object; span=(0, 3), match='a\\nb'>\n"
          ],
          "name": "stdout"
        }
      ]
    },
    {
      "cell_type": "code",
      "metadata": {
        "id": "Li9vyMmerUR1",
        "colab_type": "code",
        "outputId": "dc7e29ea-fe1e-472b-c80e-419ab665130a",
        "colab": {
          "base_uri": "https://localhost:8080/",
          "height": 35
        }
      },
      "source": [
        "# DOTALL 이 너무 길면 S만 써도 똑같다.\n",
        "m = p.match('a\\nb')\n",
        "print(m)\n"
      ],
      "execution_count": 0,
      "outputs": [
        {
          "output_type": "stream",
          "text": [
            "<_sre.SRE_Match object; span=(0, 3), match='a\\nb'>\n"
          ],
          "name": "stdout"
        }
      ]
    },
    {
      "cell_type": "markdown",
      "metadata": {
        "id": "7GbDBgwjtLma",
        "colab_type": "text"
      },
      "source": [
        "### IGNORECASE(I) \n",
        "\n",
        "대소문자 관계없이 매치"
      ]
    },
    {
      "cell_type": "code",
      "metadata": {
        "id": "JU2nO3WWsE5l",
        "colab_type": "code",
        "outputId": "641e4447-508c-45e5-a90b-4822954c42fb",
        "colab": {
          "base_uri": "https://localhost:8080/",
          "height": 35
        }
      },
      "source": [
        "txt = 'Life is too short, you must need Python'\n",
        "\n",
        "print(p.match(txt))"
      ],
      "execution_count": 0,
      "outputs": [
        {
          "output_type": "stream",
          "text": [
            "None\n"
          ],
          "name": "stdout"
        }
      ]
    },
    {
      "cell_type": "code",
      "metadata": {
        "id": "Rp_XqYeGsVzN",
        "colab_type": "code",
        "outputId": "82503c4d-3b89-4ab8-9695-9e84a3d1710a",
        "colab": {
          "base_uri": "https://localhost:8080/",
          "height": 35
        }
      },
      "source": [
        "txt = 'Life is too short, you must need Python'\n",
        "\n",
        "print(p.match(txt))"
      ],
      "execution_count": 0,
      "outputs": [
        {
          "output_type": "stream",
          "text": [
            "<_sre.SRE_Match object; span=(0, 4), match='Life'>\n"
          ],
          "name": "stdout"
        }
      ]
    },
    {
      "cell_type": "code",
      "metadata": {
        "id": "heNj6r0NsinE",
        "colab_type": "code",
        "outputId": "61d35ba6-58ae-40d9-d484-b02d14d5e0f6",
        "colab": {
          "base_uri": "https://localhost:8080/",
          "height": 35
        }
      },
      "source": [
        "txt = 'Life is too short, you must need Python'\n",
        "\n",
        "print(p.match(txt))"
      ],
      "execution_count": 0,
      "outputs": [
        {
          "output_type": "stream",
          "text": [
            "<_sre.SRE_Match object; span=(0, 4), match='Life'>\n"
          ],
          "name": "stdout"
        }
      ]
    },
    {
      "cell_type": "markdown",
      "metadata": {
        "id": "we6gRacZ1EVY",
        "colab_type": "text"
      },
      "source": [
        "### MULTILINE (M)\n",
        "\n",
        "여러줄에 걸쳐서 패턴 매칭"
      ]
    },
    {
      "cell_type": "code",
      "metadata": {
        "id": "33y4X20Psped",
        "colab_type": "code",
        "outputId": "09cfbd3d-96f7-43ad-8741-76b41973f133",
        "colab": {
          "base_uri": "https://localhost:8080/",
          "height": 35
        }
      },
      "source": [
        "# ^python\\s\\w : 문장이 python으로 시작하며, \\s (공백)이 뒤따라오며, 이어서 문자 또는 숫자가 +(0번 이상) 나오는 패턴\n",
        "\n",
        "data = \"\"\"python one\n",
        "life is too short\n",
        "python two\n",
        "you need python\n",
        "python three\"\"\"\n",
        "\n",
        "print(p.findall(data))"
      ],
      "execution_count": 0,
      "outputs": [
        {
          "output_type": "stream",
          "text": [
            "['python one']\n"
          ],
          "name": "stdout"
        }
      ]
    },
    {
      "cell_type": "code",
      "metadata": {
        "id": "OYSAbxYv2OAr",
        "colab_type": "code",
        "outputId": "fe9392b9-6f62-4622-bb43-0c80be1f9465",
        "colab": {
          "base_uri": "https://localhost:8080/",
          "height": 35
        }
      },
      "source": [
        "\n",
        "data = \"\"\"python one\n",
        "life is too short\n",
        "python two\n",
        "you need python\n",
        "python three\"\"\"\n",
        "\n",
        "print(p.findall(data))"
      ],
      "execution_count": 0,
      "outputs": [
        {
          "output_type": "stream",
          "text": [
            "['python one', 'python two', 'python three']\n"
          ],
          "name": "stdout"
        }
      ]
    },
    {
      "cell_type": "code",
      "metadata": {
        "id": "ulcWWFvX-Co6",
        "colab_type": "code",
        "outputId": "441fbbdb-8ab0-415f-c795-6445169468f8",
        "colab": {
          "base_uri": "https://localhost:8080/",
          "height": 35
        }
      },
      "source": [
        "# \\A 는 메타문자 ^과 동일한 의미였지만, MULTILINE 에서는 다르다.\n",
        "\n",
        "\n",
        "data = \"\"\"python one\n",
        "life is too short\n",
        "python two\n",
        "you need python\n",
        "python three python\"\"\"\n",
        "\n",
        "print(p.findall(data))"
      ],
      "execution_count": 0,
      "outputs": [
        {
          "output_type": "stream",
          "text": [
            "['python one']\n"
          ],
          "name": "stdout"
        }
      ]
    },
    {
      "cell_type": "code",
      "metadata": {
        "id": "7jGL6a-7-7IP",
        "colab_type": "code",
        "outputId": "dee30f5f-2d6c-47d2-8e97-3226ca1c53c0",
        "colab": {
          "base_uri": "https://localhost:8080/",
          "height": 35
        }
      },
      "source": [
        "# \\Z  는 메타문자 $ 과 동일한 의미, MULTILINE에서는 다르다\n",
        "\n",
        "print(p.findall(data))"
      ],
      "execution_count": 0,
      "outputs": [
        {
          "output_type": "stream",
          "text": [
            "['python', 'python']\n"
          ],
          "name": "stdout"
        }
      ]
    },
    {
      "cell_type": "code",
      "metadata": {
        "id": "3Dq9XhA4wUR8",
        "colab_type": "code",
        "outputId": "81210e1f-6aeb-4073-b7b2-14174bad56de",
        "colab": {
          "base_uri": "https://localhost:8080/",
          "height": 35
        }
      },
      "source": [
        "\n",
        "print(p.findall(data))"
      ],
      "execution_count": 0,
      "outputs": [
        {
          "output_type": "stream",
          "text": [
            "['python']\n"
          ],
          "name": "stdout"
        }
      ]
    },
    {
      "cell_type": "markdown",
      "metadata": {
        "id": "gMN6kPCO3laQ",
        "colab_type": "text"
      },
      "source": [
        "### VERBOSE (X)\n",
        "\n",
        "정규식을 보기 편하게 만들수 있고, 주석 사용 가능"
      ]
    },
    {
      "cell_type": "code",
      "metadata": {
        "id": "LV-Rkkfv2Ssy",
        "colab_type": "code",
        "colab": {}
      },
      "source": [
        "# 다음과 같은 패턴이 존재한다고 가정하자 (실제로 이런식으로 사용된다)\n",
        "# 무척이나 암호같고 해석이 쉽지 않다.\n",
        "p = re.compile(r'&[#](0[0-7]+|[0-9]+|x[0-9a-fA-F]+);')"
      ],
      "execution_count": 0,
      "outputs": []
    },
    {
      "cell_type": "code",
      "metadata": {
        "id": "x4VnFgsp49Ci",
        "colab_type": "code",
        "colab": {}
      },
      "source": [
        "# 옵션을 사용하면 문자열에 사용된 whitespace는 컴파일할 때 제거된다\n",
        "# (단 [ ] 안에 사용한 whitespace는 제외). 그리고 줄 단위로 #기호를 사용하여 주석문을 작성할 수 있다.\n",
        "\n",
        "charref = re.compile(r\"\"\"\n",
        " &[#]                # Start of a numeric entity reference\n",
        " (\n",
        "     0[0-7]+         # Octal form\n",
        "   | [0-9]+          # Decimal form\n",
        "   | x[0-9a-fA-F]+   # Hexadecimal form\n",
        " )\n",
        " ;                   # Trailing semicolon\n",
        "\"\"\", re.VERBOSE)"
      ],
      "execution_count": 0,
      "outputs": []
    },
    {
      "cell_type": "markdown",
      "metadata": {
        "id": "mewY4DOx7X31",
        "colab_type": "text"
      },
      "source": [
        "# Backslach (\\) Problem\n",
        "\n",
        "우리가 \\section 이라는 문자열 탐색을 위해서 정규식을 만들려고 한다\n",
        "\n",
        "\\section 이라는 정규식은 \\s 가 공백으로 해석되어 원하는 방식으로 매칭이 되지 않는다\n",
        "\n",
        "\\ 문자를 문자열임을 명시하기 위해 \\\\\\\\ 를 이용해 특수 처리를 해야하는데,\n",
        "\n",
        "실제 파이썬 정규식 엔진에서는 문자열 규칙에 따라 \\\\\\\\ 가 \\ 로 변경되어 \\section 이 전달된다\n",
        "\n",
        "결국 우리가 원하는 \\section 이라는 문자열을 찾기 위해서는 \\\\\\\\\\\\\\\\section 처리를 해야한다\n",
        "\n",
        "(실제로 이 텍스트 소스를 확인해보면 \\ 4개를 적기위해 \\ 8개를 적어놨다.)\n",
        "\n",
        "그래서 Raw String 이라는 규칙이 생겨났고, 정규식 패턴 앞에 r 문자를 삽입하면 Raw String 규칙에 따라 \\\\\\\\대신 \\를 사용해도 동일한 의미를 가진다."
      ]
    },
    {
      "cell_type": "code",
      "metadata": {
        "id": "o18hHtLx5ZaS",
        "colab_type": "code",
        "outputId": "56e36ce0-40e7-4c36-f35d-d565869bc5e2",
        "colab": {
          "base_uri": "https://localhost:8080/",
          "height": 35
        }
      },
      "source": [
        "\n",
        "p"
      ],
      "execution_count": 0,
      "outputs": [
        {
          "output_type": "execute_result",
          "data": {
            "text/plain": [
              "re.compile(r'\\\\section', re.UNICODE)"
            ]
          },
          "metadata": {
            "tags": []
          },
          "execution_count": 132
        }
      ]
    },
    {
      "cell_type": "code",
      "metadata": {
        "id": "FJvVtLD92aLh",
        "colab_type": "code",
        "outputId": "109d87d5-c2cb-4783-a08f-5f83b93efb99",
        "colab": {
          "base_uri": "https://localhost:8080/",
          "height": 35
        }
      },
      "source": [
        "\n",
        "p"
      ],
      "execution_count": 0,
      "outputs": [
        {
          "output_type": "execute_result",
          "data": {
            "text/plain": [
              "re.compile(r'\\\\section', re.UNICODE)"
            ]
          },
          "metadata": {
            "tags": []
          },
          "execution_count": 133
        }
      ]
    },
    {
      "cell_type": "markdown",
      "metadata": {
        "id": "18VkNQH33yyo",
        "colab_type": "text"
      },
      "source": [
        "# Grouping ( )\n",
        "\n",
        "반복적인 패턴을 조사하는 정규식 "
      ]
    },
    {
      "cell_type": "code",
      "metadata": {
        "id": "7BNq_T5Z2h_f",
        "colab_type": "code",
        "outputId": "a5e41af6-a1dc-488d-ef8a-3d33a3bcdd61",
        "colab": {
          "base_uri": "https://localhost:8080/",
          "height": 53
        }
      },
      "source": [
        "\n",
        "m = p.search('ABCABCABC OK?')\n",
        "print(m)\n",
        "\n",
        "print(m.group())"
      ],
      "execution_count": 0,
      "outputs": [
        {
          "output_type": "stream",
          "text": [
            "<_sre.SRE_Match object; span=(0, 9), match='ABCABCABC'>\n",
            "ABCABCABC\n"
          ],
          "name": "stdout"
        }
      ]
    },
    {
      "cell_type": "code",
      "metadata": {
        "id": "CpW9zagi4E9v",
        "colab_type": "code",
        "colab": {}
      },
      "source": [
        "# 해석 : \n",
        "\n",
        "m = p.search(\"park 010-1234-1234\")"
      ],
      "execution_count": 0,
      "outputs": []
    },
    {
      "cell_type": "code",
      "metadata": {
        "id": "duCEL6S47w-4",
        "colab_type": "code",
        "outputId": "c521be80-d72c-4b91-8797-e20b93a9fe24",
        "colab": {
          "base_uri": "https://localhost:8080/",
          "height": 35
        }
      },
      "source": [
        "\n",
        "m = p.search(\"park 010-1234-1234\")\n",
        "m.group(1)"
      ],
      "execution_count": 0,
      "outputs": [
        {
          "output_type": "execute_result",
          "data": {
            "text/plain": [
              "'park'"
            ]
          },
          "metadata": {
            "tags": []
          },
          "execution_count": 136
        }
      ]
    },
    {
      "cell_type": "code",
      "metadata": {
        "id": "-iD0ogOs772_",
        "colab_type": "code",
        "outputId": "d0642b92-3a50-450a-9090-cd5baa0fd70b",
        "colab": {
          "base_uri": "https://localhost:8080/",
          "height": 35
        }
      },
      "source": [
        "\n",
        "m = p.search(\"park 010-1234-1234\")\n",
        "m.group(2)"
      ],
      "execution_count": 0,
      "outputs": [
        {
          "output_type": "execute_result",
          "data": {
            "text/plain": [
              "'010-1234-1234'"
            ]
          },
          "metadata": {
            "tags": []
          },
          "execution_count": 137
        }
      ]
    },
    {
      "cell_type": "code",
      "metadata": {
        "id": "rxk01pYc8JXn",
        "colab_type": "code",
        "outputId": "d70c1e9e-10f2-4dc9-99f6-7bc7e464b902",
        "colab": {
          "base_uri": "https://localhost:8080/",
          "height": 35
        }
      },
      "source": [
        "\n",
        "m = p.search(\"park 010-1234-1234\")\n",
        "m.group(3)"
      ],
      "execution_count": 0,
      "outputs": [
        {
          "output_type": "execute_result",
          "data": {
            "text/plain": [
              "'010'"
            ]
          },
          "metadata": {
            "tags": []
          },
          "execution_count": 138
        }
      ]
    },
    {
      "cell_type": "markdown",
      "metadata": {
        "id": "gBKaVeDs-vdG",
        "colab_type": "text"
      },
      "source": [
        "# 한글 코드 범위"
      ]
    },
    {
      "cell_type": "code",
      "metadata": {
        "id": "zx6M8BSY8Ohu",
        "colab_type": "code",
        "colab": {}
      },
      "source": [
        "# 정규식은 unicode 를 따른다\n",
        "# ㄱ ~ ㅎ 0x3131 ~ 0x314e\n",
        "# ㅏ ~ ㅣ 0x314f ~ 0x3163\n",
        "# 가 ~ 힣 0xac00 ~ 0xd7a3"
      ],
      "execution_count": 0,
      "outputs": []
    },
    {
      "cell_type": "code",
      "metadata": {
        "id": "EZxK-c-Su0nR",
        "colab_type": "code",
        "outputId": "8f3f0d6a-cbfb-4b54-eb76-8184124d3a56",
        "colab": {
          "base_uri": "https://localhost:8080/",
          "height": 35
        }
      },
      "source": [
        "re.compile(\".*[.].*$\")"
      ],
      "execution_count": 0,
      "outputs": [
        {
          "output_type": "execute_result",
          "data": {
            "text/plain": [
              "re.compile(r'.*[.].*$', re.UNICODE)"
            ]
          },
          "metadata": {
            "tags": []
          },
          "execution_count": 141
        }
      ]
    },
    {
      "cell_type": "code",
      "metadata": {
        "id": "FYXmwSVSy2Rc",
        "colab_type": "code",
        "outputId": "bfae2dc2-685c-4cdf-9cde-3d8ac1df926b",
        "colab": {
          "base_uri": "https://localhost:8080/",
          "height": 35
        }
      },
      "source": [
        "re.compile('.*[.][^t].*$')"
      ],
      "execution_count": 0,
      "outputs": [
        {
          "output_type": "execute_result",
          "data": {
            "text/plain": [
              "re.compile(r'.*[.][^t].*$', re.UNICODE)"
            ]
          },
          "metadata": {
            "tags": []
          },
          "execution_count": 142
        }
      ]
    },
    {
      "cell_type": "code",
      "metadata": {
        "id": "kMaYKfiyzCoD",
        "colab_type": "code",
        "colab": {}
      },
      "source": [
        "re.compile('.*[.]())"
      ],
      "execution_count": 0,
      "outputs": []
    }
  ]
}