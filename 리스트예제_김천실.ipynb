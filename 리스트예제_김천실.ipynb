{
  "nbformat": 4,
  "nbformat_minor": 0,
  "metadata": {
    "colab": {
      "name": "리스트예제_김천실",
      "version": "0.3.2",
      "provenance": [],
      "collapsed_sections": [],
      "include_colab_link": true
    },
    "kernelspec": {
      "name": "python3",
      "display_name": "Python 3"
    }
  },
  "cells": [
    {
      "cell_type": "markdown",
      "metadata": {
        "id": "view-in-github",
        "colab_type": "text"
      },
      "source": [
        "<a href=\"https://colab.research.google.com/github/cheonshil/python/blob/master/%EB%A6%AC%EC%8A%A4%ED%8A%B8%EC%98%88%EC%A0%9C_%EA%B9%80%EC%B2%9C%EC%8B%A4.ipynb\" target=\"_parent\"><img src=\"https://colab.research.google.com/assets/colab-badge.svg\" alt=\"Open In Colab\"/></a>"
      ]
    },
    {
      "cell_type": "markdown",
      "metadata": {
        "id": "D2U7_i9UBMa-",
        "colab_type": "text"
      },
      "source": [
        "### Q001. 빈 리스트인 list0을 만들어보자.\n",
        "### 출력까지 해보자."
      ]
    },
    {
      "cell_type": "code",
      "metadata": {
        "id": "AjeXBQWyBM-U",
        "colab_type": "code",
        "outputId": "5c248a50-3a81-4a6c-f428-dc7794f478f4",
        "colab": {
          "base_uri": "https://localhost:8080/",
          "height": 35
        }
      },
      "source": [
        "list0=''\n",
        "print(list0)"
      ],
      "execution_count": 0,
      "outputs": [
        {
          "output_type": "stream",
          "text": [
            "\n"
          ],
          "name": "stdout"
        }
      ]
    },
    {
      "cell_type": "markdown",
      "metadata": {
        "id": "ri0GazzCBWMe",
        "colab_type": "text"
      },
      "source": [
        "### Q002.'희준', '강타' 를 넣어 HOT라는 리스트를 만들어보자.\n",
        "### 출력까지 해보자."
      ]
    },
    {
      "cell_type": "code",
      "metadata": {
        "id": "lvsQrLtiBWoM",
        "colab_type": "code",
        "outputId": "a8199aa5-a3c8-415f-dd62-01b93748c916",
        "colab": {
          "base_uri": "https://localhost:8080/",
          "height": 35
        }
      },
      "source": [
        "HOT='희준', '강타'\n",
        "print(HOT)"
      ],
      "execution_count": 0,
      "outputs": [
        {
          "output_type": "stream",
          "text": [
            "('희준', '강타')\n"
          ],
          "name": "stdout"
        }
      ]
    },
    {
      "cell_type": "markdown",
      "metadata": {
        "id": "swTN2AkHDjSE",
        "colab_type": "text"
      },
      "source": [
        "### Q003. 1,2,3 이라는 값을 갖는 numbers 라는 리스트를 만들자.\n",
        "### 인덱스를 이용하여 값들을 각각 출력해보자.\n",
        "<pre>\n",
        "출력:\n",
        "1\n",
        "2\n",
        "3"
      ]
    },
    {
      "cell_type": "code",
      "metadata": {
        "id": "JsJRJ-rxEEZ1",
        "colab_type": "code",
        "outputId": "cb2ea003-2e06-4e88-d0c4-aa7c949dde50",
        "colab": {
          "base_uri": "https://localhost:8080/",
          "height": 71
        }
      },
      "source": [
        "numbers=1, 2, 3\n",
        "print(numbers[0])\n",
        "print(numbers[1])\n",
        "print(numbers[2])"
      ],
      "execution_count": 0,
      "outputs": [
        {
          "output_type": "stream",
          "text": [
            "1\n",
            "2\n",
            "3\n"
          ],
          "name": "stdout"
        }
      ]
    },
    {
      "cell_type": "markdown",
      "metadata": {
        "id": "ByAo7r96EEs0",
        "colab_type": "text"
      },
      "source": [
        "### Q004. 앞에서 만든 numbers 리스트에서 마이너스(-)인덱스를 이용해서 값 3을 출력해보자."
      ]
    },
    {
      "cell_type": "code",
      "metadata": {
        "id": "sgA5hvqfEUdU",
        "colab_type": "code",
        "outputId": "7371bf25-b0fa-4b50-c4e9-02e577a855f8",
        "colab": {
          "base_uri": "https://localhost:8080/",
          "height": 35
        }
      },
      "source": [
        "print(numbers[-1])"
      ],
      "execution_count": 0,
      "outputs": [
        {
          "output_type": "stream",
          "text": [
            "3\n"
          ],
          "name": "stdout"
        }
      ]
    },
    {
      "cell_type": "markdown",
      "metadata": {
        "id": "qNPVUfRgEV7-",
        "colab_type": "text"
      },
      "source": [
        "### Q005. 아래 리스트에서 인덱스를 이용해서 '여름', '겨울'을 각각 출력해 보세요."
      ]
    },
    {
      "cell_type": "code",
      "metadata": {
        "id": "7-_ivhXebqt1",
        "colab_type": "code",
        "outputId": "e2656ebc-99c5-4f78-ea61-059d70cfdf27",
        "colab": {
          "base_uri": "https://localhost:8080/",
          "height": 71
        }
      },
      "source": [
        "z = ['q', 1, ['여름', '겨울']]\n",
        "print(z[-1])\n",
        "print(z[-1][0])\n",
        "print(z[-1][1])"
      ],
      "execution_count": 0,
      "outputs": [
        {
          "output_type": "stream",
          "text": [
            "['여름', '겨울']\n",
            "여름\n",
            "겨울\n"
          ],
          "name": "stdout"
        }
      ]
    },
    {
      "cell_type": "markdown",
      "metadata": {
        "id": "tJEz4EQ_cMdm",
        "colab_type": "text"
      },
      "source": [
        "### Q006. 아래 리스트에서 2,3,4까지 슬라이스해서 출력해보세요."
      ]
    },
    {
      "cell_type": "code",
      "metadata": {
        "id": "6Rgnw1AUdyrw",
        "colab_type": "code",
        "outputId": "57abfb1f-fd4e-40cb-9a21-61373c22d716",
        "colab": {
          "base_uri": "https://localhost:8080/",
          "height": 35
        }
      },
      "source": [
        "a = [1,2,3,4,5]\n",
        "print(a[1:4])"
      ],
      "execution_count": 0,
      "outputs": [
        {
          "output_type": "stream",
          "text": [
            "[2, 3, 4]\n"
          ],
          "name": "stdout"
        }
      ]
    },
    {
      "cell_type": "markdown",
      "metadata": {
        "id": "41bvfpKYfio-",
        "colab_type": "text"
      },
      "source": [
        "### Q007. 아래 리스트에서 홀수만 슬라이스 해서 출력해보세요."
      ]
    },
    {
      "cell_type": "code",
      "metadata": {
        "id": "lot_9IW2fxvy",
        "colab_type": "code",
        "outputId": "b2ee5e1e-5a94-4f12-a90f-3f11104977a9",
        "colab": {
          "base_uri": "https://localhost:8080/",
          "height": 35
        }
      },
      "source": [
        "w = [1,2,3,4,5,6,7,8,9]\n",
        "print(w[0::2])\n"
      ],
      "execution_count": 0,
      "outputs": [
        {
          "output_type": "stream",
          "text": [
            "[1, 3, 5, 7, 9]\n"
          ],
          "name": "stdout"
        }
      ]
    },
    {
      "cell_type": "markdown",
      "metadata": {
        "id": "11xSbAfof-ye",
        "colab_type": "text"
      },
      "source": [
        "### Q008. 아래 리스트에서 짝수만 슬라이스 해서 출력해보세요."
      ]
    },
    {
      "cell_type": "code",
      "metadata": {
        "id": "CnHZPsLigbFn",
        "colab_type": "code",
        "outputId": "0f8f4655-4350-4bca-ae54-353470b36e96",
        "colab": {
          "base_uri": "https://localhost:8080/",
          "height": 35
        }
      },
      "source": [
        "w = [1,2,3,4,5,6,7,8,9]\n",
        "print(w[1::2])"
      ],
      "execution_count": 0,
      "outputs": [
        {
          "output_type": "stream",
          "text": [
            "[2, 4, 6, 8]\n"
          ],
          "name": "stdout"
        }
      ]
    },
    {
      "cell_type": "markdown",
      "metadata": {
        "id": "n_t0w8hZggEv",
        "colab_type": "text"
      },
      "source": [
        "### Q009. 리스트 z와 리스트 q를 더해서 새로운 리스트 w를 만들어보세요.\n",
        "### 출력도 해보세요."
      ]
    },
    {
      "cell_type": "code",
      "metadata": {
        "id": "JAnMoWPQsiJv",
        "colab_type": "code",
        "outputId": "3d189e71-842c-451e-e2b7-b8171b4bd55d",
        "colab": {
          "base_uri": "https://localhost:8080/",
          "height": 35
        }
      },
      "source": [
        "z = [1, 2]\n",
        "q = [3, 4]\n",
        "w=z+q\n",
        "print(w)"
      ],
      "execution_count": 0,
      "outputs": [
        {
          "output_type": "stream",
          "text": [
            "[1, 2, 3, 4]\n"
          ],
          "name": "stdout"
        }
      ]
    },
    {
      "cell_type": "markdown",
      "metadata": {
        "id": "_ptJyWVVtc_Y",
        "colab_type": "text"
      },
      "source": [
        "### Q010. 리스트 z에 3을 곱하여 반복한 z2를 만들어보세요.\n",
        "### z2를 출력해보세요."
      ]
    },
    {
      "cell_type": "code",
      "metadata": {
        "id": "rPdWJ-3cvX04",
        "colab_type": "code",
        "outputId": "9d0e2204-6652-4a79-d567-81aedf67b927",
        "colab": {
          "base_uri": "https://localhost:8080/",
          "height": 35
        }
      },
      "source": [
        "z = ['x', 'y']\n",
        "print(z*3)"
      ],
      "execution_count": 0,
      "outputs": [
        {
          "output_type": "stream",
          "text": [
            "['x', 'y', 'x', 'y', 'x', 'y']\n"
          ],
          "name": "stdout"
        }
      ]
    },
    {
      "cell_type": "markdown",
      "metadata": {
        "id": "R_EZA2dUvYzw",
        "colab_type": "text"
      },
      "source": [
        "### Q011. 아래 리스트 z의 길이를 구하세요."
      ]
    },
    {
      "cell_type": "code",
      "metadata": {
        "id": "MbmBsZwlwR54",
        "colab_type": "code",
        "outputId": "a7a92379-4b08-46f0-a541-cb9204645929",
        "colab": {
          "base_uri": "https://localhost:8080/",
          "height": 35
        }
      },
      "source": [
        "z = [1,2,3,1,2,3,1,2,3,1,2,3,1,2,3,1,2,3,1,23]\n",
        "print(len(z))\n"
      ],
      "execution_count": 0,
      "outputs": [
        {
          "output_type": "stream",
          "text": [
            "20\n"
          ],
          "name": "stdout"
        }
      ]
    },
    {
      "cell_type": "markdown",
      "metadata": {
        "id": "GxyXd405w1DD",
        "colab_type": "text"
      },
      "source": [
        "### Q012.리스트 colors가 아래와 같이 주어질 때, 'yellow'를 추가하세요."
      ]
    },
    {
      "cell_type": "code",
      "metadata": {
        "id": "c7ywuRU9x_vD",
        "colab_type": "code",
        "outputId": "1855181e-4fa2-4657-8a51-a3b986c30572",
        "colab": {
          "base_uri": "https://localhost:8080/",
          "height": 35
        }
      },
      "source": [
        "colors = ['red', 'blue', 'green']\n",
        "colors.append('yellow')\n",
        "print(colors)"
      ],
      "execution_count": 0,
      "outputs": [
        {
          "output_type": "stream",
          "text": [
            "['red', 'blue', 'green', 'yellow']\n"
          ],
          "name": "stdout"
        }
      ]
    },
    {
      "cell_type": "markdown",
      "metadata": {
        "id": "zwUEWDvCyQbJ",
        "colab_type": "text"
      },
      "source": [
        "### Q013. 리스트 colors가 아래와 같이 주어질 때, colors2에 있는 여러 값들을 colors에 추가하세요."
      ]
    },
    {
      "cell_type": "code",
      "metadata": {
        "id": "ECixB5mIym_A",
        "colab_type": "code",
        "outputId": "4c96e313-0182-4305-9046-13423fcf787a",
        "colab": {
          "base_uri": "https://localhost:8080/",
          "height": 35
        }
      },
      "source": [
        "colors = ['red', 'blue', 'green', 'yellow']\n",
        "colors2 = ['black', 'gray']\n",
        "colors.extend(colors2)\n",
        "print(colors)"
      ],
      "execution_count": 0,
      "outputs": [
        {
          "output_type": "stream",
          "text": [
            "['red', 'blue', 'green', 'yellow', 'black', 'gray']\n"
          ],
          "name": "stdout"
        }
      ]
    },
    {
      "cell_type": "markdown",
      "metadata": {
        "id": "f2VJoiNuy34w",
        "colab_type": "text"
      },
      "source": [
        "### Q014. 리스트 a가 아래와 같을 때, 3번째 인덱스(순번)에 10을 넣으세요."
      ]
    },
    {
      "cell_type": "code",
      "metadata": {
        "id": "Bey3MxrYzK8W",
        "colab_type": "code",
        "outputId": "53e77d66-a81f-4f4f-c026-fd73b1b7b711",
        "colab": {
          "base_uri": "https://localhost:8080/",
          "height": 35
        }
      },
      "source": [
        "a = [1, 3, 4, 9, 8, 2]\n",
        "a.insert(3,10)\n",
        "print(a)"
      ],
      "execution_count": 0,
      "outputs": [
        {
          "output_type": "stream",
          "text": [
            "[1, 3, 4, 10, 9, 8, 2]\n"
          ],
          "name": "stdout"
        }
      ]
    },
    {
      "cell_type": "markdown",
      "metadata": {
        "id": "MX0Uggc0zTCR",
        "colab_type": "text"
      },
      "source": [
        "### Q015. 리스트 q가 아래와 같을 때, '철수' 를 제거하세요."
      ]
    },
    {
      "cell_type": "code",
      "metadata": {
        "id": "rUVQkqfKzeRO",
        "colab_type": "code",
        "outputId": "e034ca4a-30bb-49a2-912f-87eb742c729e",
        "colab": {
          "base_uri": "https://localhost:8080/",
          "height": 35
        }
      },
      "source": [
        "q = ['민희', '민지', '병호', '철수', '훈희']\n",
        "q.remove('철수')\n",
        "print(q)"
      ],
      "execution_count": 0,
      "outputs": [
        {
          "output_type": "stream",
          "text": [
            "['민희', '민지', '병호', '훈희']\n"
          ],
          "name": "stdout"
        }
      ]
    },
    {
      "cell_type": "markdown",
      "metadata": {
        "id": "epS4BGnWzk7E",
        "colab_type": "text"
      },
      "source": [
        "### Q016. 리스트 a가 아래와 같을 때, 값 1을 10으로 바꾸세요."
      ]
    },
    {
      "cell_type": "code",
      "metadata": {
        "id": "B0nLLdDiz17G",
        "colab_type": "code",
        "outputId": "479e4cb4-24f6-4f8d-a3ac-ed07738ed918",
        "colab": {
          "base_uri": "https://localhost:8080/",
          "height": 35
        }
      },
      "source": [
        "a = [2,3,1,7,9]\n",
        "a[2]=10\n",
        "print(a)"
      ],
      "execution_count": 0,
      "outputs": [
        {
          "output_type": "stream",
          "text": [
            "[2, 3, 10, 7, 9]\n"
          ],
          "name": "stdout"
        }
      ]
    },
    {
      "cell_type": "markdown",
      "metadata": {
        "id": "vOKuvpwF0AxI",
        "colab_type": "text"
      },
      "source": [
        "### Q017. 리스트 list1 이 아래와 같을 때, 'fox'의 인덱스(순번)을 찾으세요."
      ]
    },
    {
      "cell_type": "code",
      "metadata": {
        "id": "Qn9Q-r2Q1VjO",
        "colab_type": "code",
        "outputId": "70f6bfc9-9539-4a28-99a3-ae4a1e726ee0",
        "colab": {
          "base_uri": "https://localhost:8080/",
          "height": 35
        }
      },
      "source": [
        "list1 = ['lion', 'tiger', 'dog', 'cat', 'fox', 'turtle']\n",
        "print(list1.index('fox'))"
      ],
      "execution_count": 0,
      "outputs": [
        {
          "output_type": "stream",
          "text": [
            "4\n"
          ],
          "name": "stdout"
        }
      ]
    },
    {
      "cell_type": "markdown",
      "metadata": {
        "id": "K5RsWbtJ1ecy",
        "colab_type": "text"
      },
      "source": [
        "### Q018. 리스트 list2가 아래와 같을 때 7의 갯수를 출력하세요."
      ]
    },
    {
      "cell_type": "code",
      "metadata": {
        "id": "_k97ch4O2CGL",
        "colab_type": "code",
        "outputId": "241c1405-c619-4128-9580-46974436aa8b",
        "colab": {
          "base_uri": "https://localhost:8080/",
          "height": 190
        }
      },
      "source": [
        "list2 = [7,7,7,7,7,8,8,8,88,6,5,5,4,4,3,2,2,25,6,6,7,77,7,8,8,88,5,5,5,8,888,77,7]\n",
        "list2.ciunt(7)"
      ],
      "execution_count": 0,
      "outputs": [
        {
          "output_type": "error",
          "ename": "AttributeError",
          "evalue": "ignored",
          "traceback": [
            "\u001b[0;31m---------------------------------------------------------------------------\u001b[0m",
            "\u001b[0;31mAttributeError\u001b[0m                            Traceback (most recent call last)",
            "\u001b[0;32m<ipython-input-47-cd5334792619>\u001b[0m in \u001b[0;36m<module>\u001b[0;34m()\u001b[0m\n\u001b[1;32m      1\u001b[0m \u001b[0mlist2\u001b[0m \u001b[0;34m=\u001b[0m \u001b[0;34m[\u001b[0m\u001b[0;36m7\u001b[0m\u001b[0;34m,\u001b[0m\u001b[0;36m7\u001b[0m\u001b[0;34m,\u001b[0m\u001b[0;36m7\u001b[0m\u001b[0;34m,\u001b[0m\u001b[0;36m7\u001b[0m\u001b[0;34m,\u001b[0m\u001b[0;36m7\u001b[0m\u001b[0;34m,\u001b[0m\u001b[0;36m8\u001b[0m\u001b[0;34m,\u001b[0m\u001b[0;36m8\u001b[0m\u001b[0;34m,\u001b[0m\u001b[0;36m8\u001b[0m\u001b[0;34m,\u001b[0m\u001b[0;36m88\u001b[0m\u001b[0;34m,\u001b[0m\u001b[0;36m6\u001b[0m\u001b[0;34m,\u001b[0m\u001b[0;36m5\u001b[0m\u001b[0;34m,\u001b[0m\u001b[0;36m5\u001b[0m\u001b[0;34m,\u001b[0m\u001b[0;36m4\u001b[0m\u001b[0;34m,\u001b[0m\u001b[0;36m4\u001b[0m\u001b[0;34m,\u001b[0m\u001b[0;36m3\u001b[0m\u001b[0;34m,\u001b[0m\u001b[0;36m2\u001b[0m\u001b[0;34m,\u001b[0m\u001b[0;36m2\u001b[0m\u001b[0;34m,\u001b[0m\u001b[0;36m25\u001b[0m\u001b[0;34m,\u001b[0m\u001b[0;36m6\u001b[0m\u001b[0;34m,\u001b[0m\u001b[0;36m6\u001b[0m\u001b[0;34m,\u001b[0m\u001b[0;36m7\u001b[0m\u001b[0;34m,\u001b[0m\u001b[0;36m77\u001b[0m\u001b[0;34m,\u001b[0m\u001b[0;36m7\u001b[0m\u001b[0;34m,\u001b[0m\u001b[0;36m8\u001b[0m\u001b[0;34m,\u001b[0m\u001b[0;36m8\u001b[0m\u001b[0;34m,\u001b[0m\u001b[0;36m88\u001b[0m\u001b[0;34m,\u001b[0m\u001b[0;36m5\u001b[0m\u001b[0;34m,\u001b[0m\u001b[0;36m5\u001b[0m\u001b[0;34m,\u001b[0m\u001b[0;36m5\u001b[0m\u001b[0;34m,\u001b[0m\u001b[0;36m8\u001b[0m\u001b[0;34m,\u001b[0m\u001b[0;36m888\u001b[0m\u001b[0;34m,\u001b[0m\u001b[0;36m8\u001b[0m\u001b[0;34m,\u001b[0m\u001b[0;36m77\u001b[0m\u001b[0;34m,\u001b[0m\u001b[0;36m7\u001b[0m\u001b[0;34m]\u001b[0m\u001b[0;34m\u001b[0m\u001b[0;34m\u001b[0m\u001b[0m\n\u001b[0;32m----> 2\u001b[0;31m \u001b[0mlist2\u001b[0m\u001b[0;34m.\u001b[0m\u001b[0mciunt\u001b[0m\u001b[0;34m(\u001b[0m\u001b[0;36m7\u001b[0m\u001b[0;34m)\u001b[0m\u001b[0;34m\u001b[0m\u001b[0;34m\u001b[0m\u001b[0m\n\u001b[0m",
            "\u001b[0;31mAttributeError\u001b[0m: 'list' object has no attribute 'ciunt'"
          ]
        }
      ]
    },
    {
      "cell_type": "code",
      "metadata": {
        "id": "hqGSqLRulmD1",
        "colab_type": "code",
        "colab": {}
      },
      "source": [
        ""
      ],
      "execution_count": 0,
      "outputs": []
    }
  ]
}