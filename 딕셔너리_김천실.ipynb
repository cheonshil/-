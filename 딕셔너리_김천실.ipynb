{
  "nbformat": 4,
  "nbformat_minor": 0,
  "metadata": {
    "colab": {
      "name": "딕셔너리_김천실",
      "version": "0.3.2",
      "provenance": [],
      "collapsed_sections": [],
      "include_colab_link": true
    },
    "kernelspec": {
      "name": "python3",
      "display_name": "Python 3"
    }
  },
  "cells": [
    {
      "cell_type": "markdown",
      "metadata": {
        "id": "view-in-github",
        "colab_type": "text"
      },
      "source": [
        "<a href=\"https://colab.research.google.com/github/cheonshil/python/blob/master/%EB%94%95%EC%85%94%EB%84%88%EB%A6%AC_%EA%B9%80%EC%B2%9C%EC%8B%A4.ipynb\" target=\"_parent\"><img src=\"https://colab.research.google.com/assets/colab-badge.svg\" alt=\"Open In Colab\"/></a>"
      ]
    },
    {
      "cell_type": "markdown",
      "metadata": {
        "id": "u53AJoRxglju",
        "colab_type": "text"
      },
      "source": [
        "# 4.딕셔너리\n",
        "딕셔너리도 여러개의 값을 담는 변수입니다."
      ]
    },
    {
      "cell_type": "markdown",
      "metadata": {
        "id": "06uU7V3SgvSj",
        "colab_type": "text"
      },
      "source": [
        "## 4-1.딕셔너리 형식\n",
        "<pre>\n",
        "* 형식 :\n",
        "  딕셔너리이름 = {'key값1':'value값1', 'key값2':'value값2', 'key값3':'value값3', ...}\n",
        "  딕셔너리이름 = {}\n",
        "\n",
        "\n",
        "* 리스트 이름으로 안되는 것들 : \n",
        "  - if, def, class, while, for, else 등의 예약어\n",
        "  - 숫자로 시작하는 것\n",
        "  ex) 1a, 3name, ...\n",
        "\n",
        "\n",
        "* 딕셔너리의 특징\n",
        "  1.key값과 value값의 쌍 형태\n",
        "  2.인덱스(순번)을 가지지 않음\n",
        "  3.인덱스 대신 key값으로 value를 불러옴\n",
        "  4.수정 가능\n",
        "\n",
        "\n",
        "\n",
        "  \n",
        "  \n"
      ]
    },
    {
      "cell_type": "markdown",
      "metadata": {
        "id": "oOtdS835kEq8",
        "colab_type": "text"
      },
      "source": [
        "## 4-2.딕셔너리 사용법\n",
        "<pre>\n",
        "딕셔너리를 사용하면 이런 것을 할 수 있습니다.\n",
        "가령\n",
        "방탄 소년단 멤버와 그들의 나이가 있을 수 있지요.\n",
        "이를 한 번에 담아 둘 수 없을까요?\n",
        "이 때 유용한 것이 딕셔너리 입니다."
      ]
    },
    {
      "cell_type": "markdown",
      "metadata": {
        "id": "koQnBTFPw_-4",
        "colab_type": "text"
      },
      "source": [
        "#### 딕셔너리 만들기"
      ]
    },
    {
      "cell_type": "code",
      "metadata": {
        "id": "niFgTyu-NhxM",
        "colab_type": "code",
        "colab": {}
      },
      "source": [
        "# 빈 딕셔너리\n",
        "dict1={}\n",
        "colors={'red':3, 'blue':2, 'yellow':7}"
      ],
      "execution_count": 0,
      "outputs": []
    },
    {
      "cell_type": "code",
      "metadata": {
        "id": "FnD5RrtAx10E",
        "colab_type": "code",
        "colab": {}
      },
      "source": [
        "# BTS의 이름을 key로 나이를 value로 만든 딕셔너리\n",
        "a = {'진':'2', '슈가':'5','제이홉':'6'}"
      ],
      "execution_count": 0,
      "outputs": []
    },
    {
      "cell_type": "markdown",
      "metadata": {
        "id": "cv7DRFGs6-Y0",
        "colab_type": "text"
      },
      "source": [
        "#### key값으로 value 가져오기\n",
        "<pre>\n",
        "*사용법:\n",
        "딕셔너리명[key값]\n"
      ]
    },
    {
      "cell_type": "code",
      "metadata": {
        "id": "Rm0EWMTZ7Dba",
        "colab_type": "code",
        "colab": {
          "base_uri": "https://localhost:8080/",
          "height": 35
        },
        "outputId": "20675e5b-275d-435c-f3c2-345b31dd4cf9"
      },
      "source": [
        "# key값 '진'으로 value값 가져오기\n",
        "print(a['진'])"
      ],
      "execution_count": 10,
      "outputs": [
        {
          "output_type": "stream",
          "text": [
            "2\n"
          ],
          "name": "stdout"
        }
      ]
    },
    {
      "cell_type": "code",
      "metadata": {
        "id": "j2n6rZ0XQZw2",
        "colab_type": "code",
        "colab": {
          "base_uri": "https://localhost:8080/",
          "height": 35
        },
        "outputId": "8077afcd-8eda-40d5-ca87-d6793c16101f"
      },
      "source": [
        "# key값 '슈가', '제이홉'으로 value값 가져오기\n",
        "print(a['슈가'],a['제이홉'])"
      ],
      "execution_count": 45,
      "outputs": [
        {
          "output_type": "stream",
          "text": [
            "5 6\n"
          ],
          "name": "stdout"
        }
      ]
    },
    {
      "cell_type": "code",
      "metadata": {
        "id": "9QctELzaE3HK",
        "colab_type": "code",
        "colab": {}
      },
      "source": [
        "a={'name':'John','loc':'LA','phone':'123456789'}"
      ],
      "execution_count": 0,
      "outputs": []
    },
    {
      "cell_type": "code",
      "metadata": {
        "id": "OvfrCnlfP5oM",
        "colab_type": "code",
        "colab": {
          "base_uri": "https://localhost:8080/",
          "height": 71
        },
        "outputId": "bd595ab1-2af3-4e0b-da09-dcc5a971a916"
      },
      "source": [
        "print(a['name'])\n",
        "print(a['loc'])\n",
        "print(a['phone'])"
      ],
      "execution_count": 15,
      "outputs": [
        {
          "output_type": "stream",
          "text": [
            "John\n",
            "LA\n",
            "123456789\n"
          ],
          "name": "stdout"
        }
      ]
    },
    {
      "cell_type": "markdown",
      "metadata": {
        "id": "y8WQvw37PLMs",
        "colab_type": "text"
      },
      "source": [
        "### value 값으로 리스트 넣기/ value 값 가져오기"
      ]
    },
    {
      "cell_type": "code",
      "metadata": {
        "id": "Lh2FNgz4PZmb",
        "colab_type": "code",
        "colab": {}
      },
      "source": [
        "a=['철수','민수','민지']\n",
        "b=['서울','부산','대전']\n",
        "c=['010313241423','010493923030','01032423242']\n",
        "\n",
        "contact={'이름':a, '지역':b, '전화번호':c}"
      ],
      "execution_count": 0,
      "outputs": []
    },
    {
      "cell_type": "code",
      "metadata": {
        "id": "9t11XOZyRggE",
        "colab_type": "code",
        "colab": {
          "base_uri": "https://localhost:8080/",
          "height": 35
        },
        "outputId": "cf447579-fce3-47e2-8f48-ef19ccfd5163"
      },
      "source": [
        "print(contact['이름'])"
      ],
      "execution_count": 28,
      "outputs": [
        {
          "output_type": "stream",
          "text": [
            "['철수', '민수', '민지']\n"
          ],
          "name": "stdout"
        }
      ]
    },
    {
      "cell_type": "code",
      "metadata": {
        "id": "MJuXagjGsMI9",
        "colab_type": "code",
        "colab": {
          "base_uri": "https://localhost:8080/",
          "height": 53
        },
        "outputId": "878be745-34e5-436a-b9c5-4c4ba96db7b6"
      },
      "source": [
        "print(contact['지역'])\n",
        "print(contact['전화번호'])"
      ],
      "execution_count": 29,
      "outputs": [
        {
          "output_type": "stream",
          "text": [
            "['서울', '부산', '대전']\n",
            "['010313241423', '010493923030', '01032423242']\n"
          ],
          "name": "stdout"
        }
      ]
    },
    {
      "cell_type": "markdown",
      "metadata": {
        "id": "bWZozr0t8XqI",
        "colab_type": "text"
      },
      "source": [
        "### 딕셔너리 주의 사항\n",
        "* key값은 동일하면 안됨\n",
        "\n",
        "* key값으로 리스트가 올 수 없음. "
      ]
    },
    {
      "cell_type": "code",
      "metadata": {
        "id": "nCK7lIJdHfCw",
        "colab_type": "code",
        "colab": {}
      },
      "source": [
        "a = {'이름':'kim', '이름':'lee'}"
      ],
      "execution_count": 0,
      "outputs": []
    },
    {
      "cell_type": "code",
      "metadata": {
        "id": "f3SMGt-c8iot",
        "colab_type": "code",
        "colab": {
          "base_uri": "https://localhost:8080/",
          "height": 35
        },
        "outputId": "f48cecd0-5169-4219-8931-cf212fb98968"
      },
      "source": [
        "print(a['이름'])"
      ],
      "execution_count": 35,
      "outputs": [
        {
          "output_type": "stream",
          "text": [
            "lee\n"
          ],
          "name": "stdout"
        }
      ]
    },
    {
      "cell_type": "markdown",
      "metadata": {
        "id": "hw6dqK4w80vf",
        "colab_type": "text"
      },
      "source": [
        "### key값들을 리스트로 만들기(keys() 함수)\n",
        "key값들만 모아서 리스트처럼 만들 수 있습니다.\n",
        "\n",
        "<pre>\n",
        "*사용법:\n",
        "딕셔너리명.keys()"
      ]
    },
    {
      "cell_type": "code",
      "metadata": {
        "id": "EbyqJ3-eHWxj",
        "colab_type": "code",
        "colab": {}
      },
      "source": [
        "a = {'이름':'kim', '나이':24, '지역':'서울'}"
      ],
      "execution_count": 0,
      "outputs": []
    },
    {
      "cell_type": "code",
      "metadata": {
        "id": "yq8Qc6Dg9ITf",
        "colab_type": "code",
        "colab": {
          "base_uri": "https://localhost:8080/",
          "height": 35
        },
        "outputId": "95edeace-e007-417a-9dbe-19e82a955330"
      },
      "source": [
        "print(a.keys())"
      ],
      "execution_count": 47,
      "outputs": [
        {
          "output_type": "stream",
          "text": [
            "dict_keys(['진', '슈가', '제이홉'])\n"
          ],
          "name": "stdout"
        }
      ]
    },
    {
      "cell_type": "markdown",
      "metadata": {
        "id": "R4oZI8pl9Zpv",
        "colab_type": "text"
      },
      "source": [
        "리스트 같지만 리스트의 함수들인 append, insert, remove 등은 사용할 수 없음."
      ]
    },
    {
      "cell_type": "markdown",
      "metadata": {
        "id": "4Kgbu0xt9y2I",
        "colab_type": "text"
      },
      "source": [
        "dict_keys를 리스트로 바꾸려면\n",
        "\n",
        "list를 만들어주는 list()함수를 사용하면 됩니다.\n",
        "\n",
        "리스트명 = list(값)"
      ]
    },
    {
      "cell_type": "code",
      "metadata": {
        "id": "Rl6XiEkVJMf6",
        "colab_type": "code",
        "colab": {}
      },
      "source": [
        "a = {'이름':'kim', '나이':24, '지역':'서울'}"
      ],
      "execution_count": 0,
      "outputs": []
    },
    {
      "cell_type": "code",
      "metadata": {
        "id": "27LU2l45-A_r",
        "colab_type": "code",
        "colab": {
          "base_uri": "https://localhost:8080/",
          "height": 35
        },
        "outputId": "3a309e8c-f3f8-474d-87c5-06178f905e6e"
      },
      "source": [
        "# list함수로 리스트로 만들어 list1에 저장\n",
        "list1=list(a)\n",
        "print(list1)"
      ],
      "execution_count": 55,
      "outputs": [
        {
          "output_type": "stream",
          "text": [
            "['이름', '나이', '지역']\n"
          ],
          "name": "stdout"
        }
      ]
    },
    {
      "cell_type": "code",
      "metadata": {
        "id": "oqA06WC5-WgO",
        "colab_type": "code",
        "colab": {}
      },
      "source": [
        ""
      ],
      "execution_count": 0,
      "outputs": []
    },
    {
      "cell_type": "markdown",
      "metadata": {
        "id": "JCE6oUhA-fFb",
        "colab_type": "text"
      },
      "source": [
        "이제 append, insert, remove 등의 함수를 사용할 수 있습니다."
      ]
    },
    {
      "cell_type": "markdown",
      "metadata": {
        "id": "dbkEaqjz-lrb",
        "colab_type": "text"
      },
      "source": [
        "### value 값들을 리스트로 만들기(values() 함수)\n",
        "keys() 함수처럼 사용하면 됩니다.\n",
        "\n",
        "values()를 사용합시다."
      ]
    },
    {
      "cell_type": "code",
      "metadata": {
        "id": "piymW2sDIO3U",
        "colab_type": "code",
        "colab": {}
      },
      "source": [
        "a = {'이름':'kim', '나이':24, '지역':'서울'}"
      ],
      "execution_count": 0,
      "outputs": []
    },
    {
      "cell_type": "code",
      "metadata": {
        "id": "A6prdviZ_Ibb",
        "colab_type": "code",
        "colab": {
          "base_uri": "https://localhost:8080/",
          "height": 35
        },
        "outputId": "441c9425-edbe-4f60-ab10-93e1e05a4b3b"
      },
      "source": [
        "print(a.values())"
      ],
      "execution_count": 57,
      "outputs": [
        {
          "output_type": "stream",
          "text": [
            "dict_values(['kim', 24, '서울'])\n"
          ],
          "name": "stdout"
        }
      ]
    },
    {
      "cell_type": "markdown",
      "metadata": {
        "id": "tRW9A_Xg_PlW",
        "colab_type": "text"
      },
      "source": [
        "리스트 같지만 리스트 아닌 이것을\n",
        "\n",
        "list() 함수를 이용해서 바꿔줍시다."
      ]
    },
    {
      "cell_type": "code",
      "metadata": {
        "id": "pEIDnq0VJbLo",
        "colab_type": "code",
        "colab": {}
      },
      "source": [
        "a = {'이름':'kim', '나이':24, '지역':'서울'}"
      ],
      "execution_count": 0,
      "outputs": []
    },
    {
      "cell_type": "code",
      "metadata": {
        "id": "3kNwyzqs_Y_1",
        "colab_type": "code",
        "colab": {
          "base_uri": "https://localhost:8080/",
          "height": 35
        },
        "outputId": "9bd9c8ab-f557-46c6-eaf5-f7ffbedfd7ef"
      },
      "source": [
        "# list() 함수를 적용하여 list로 만들어 list2라는 이름으로 저장\n",
        "list2=list(a.values())\n",
        "print(list2)"
      ],
      "execution_count": 61,
      "outputs": [
        {
          "output_type": "stream",
          "text": [
            "['kim', 24, '서울']\n"
          ],
          "name": "stdout"
        }
      ]
    },
    {
      "cell_type": "code",
      "metadata": {
        "id": "y8OZbDif_fji",
        "colab_type": "code",
        "colab": {}
      },
      "source": [
        ""
      ],
      "execution_count": 0,
      "outputs": []
    },
    {
      "cell_type": "markdown",
      "metadata": {
        "id": "y4-ffPfh_g9i",
        "colab_type": "text"
      },
      "source": [
        "### key, value 쌍 얻기(items() 함수)\n",
        "<pre>\n",
        "*사용법:\n",
        "딕셔너리명.items()"
      ]
    },
    {
      "cell_type": "code",
      "metadata": {
        "id": "WvX5_7aoJcj4",
        "colab_type": "code",
        "colab": {}
      },
      "source": [
        "a = {'이름':'kim', '나이':24, '지역':'서울'}"
      ],
      "execution_count": 0,
      "outputs": []
    },
    {
      "cell_type": "code",
      "metadata": {
        "id": "AIOgTyb8AFow",
        "colab_type": "code",
        "colab": {
          "base_uri": "https://localhost:8080/",
          "height": 35
        },
        "outputId": "c2dc5786-2917-4c4c-f2de-1e6752f8b3a2"
      },
      "source": [
        "print(a.items())"
      ],
      "execution_count": 62,
      "outputs": [
        {
          "output_type": "stream",
          "text": [
            "dict_items([('이름', 'kim'), ('나이', 24), ('지역', '서울')])\n"
          ],
          "name": "stdout"
        }
      ]
    },
    {
      "cell_type": "markdown",
      "metadata": {
        "id": "DXEePYk7ASvb",
        "colab_type": "text"
      },
      "source": [
        "마찬가지로 list()함수를 이용해서 리스트로 만들 수 있습니다."
      ]
    },
    {
      "cell_type": "code",
      "metadata": {
        "id": "ZzLO5U95JeEK",
        "colab_type": "code",
        "colab": {}
      },
      "source": [
        "a = {'이름':'kim', '나이':24, '지역':'서울'}"
      ],
      "execution_count": 0,
      "outputs": []
    },
    {
      "cell_type": "code",
      "metadata": {
        "id": "YXAFqayEAIvI",
        "colab_type": "code",
        "colab": {
          "base_uri": "https://localhost:8080/",
          "height": 35
        },
        "outputId": "72af30e3-db71-4e1c-ccad-0cd710647b08"
      },
      "source": [
        "list3=list(a.items())\n",
        "print(list3)"
      ],
      "execution_count": 63,
      "outputs": [
        {
          "output_type": "stream",
          "text": [
            "[('이름', 'kim'), ('나이', 24), ('지역', '서울')]\n"
          ],
          "name": "stdout"
        }
      ]
    },
    {
      "cell_type": "markdown",
      "metadata": {
        "id": "9xLSLW-vAPNS",
        "colab_type": "text"
      },
      "source": [
        "### key, value쌍 모두 지우기(clear() 함수)\n",
        "<pre>\n",
        "*사용법:\n",
        "딕셔너리명.clear()"
      ]
    },
    {
      "cell_type": "code",
      "metadata": {
        "id": "ZRBSc5r4JiSJ",
        "colab_type": "code",
        "colab": {}
      },
      "source": [
        "a = {'이름':'kim', '나이':24, '지역':'서울'}"
      ],
      "execution_count": 0,
      "outputs": []
    },
    {
      "cell_type": "code",
      "metadata": {
        "id": "p6nCpUS9AwAu",
        "colab_type": "code",
        "colab": {}
      },
      "source": [
        "a.clear()"
      ],
      "execution_count": 0,
      "outputs": []
    },
    {
      "cell_type": "code",
      "metadata": {
        "id": "4Xp3J_AaA49P",
        "colab_type": "code",
        "colab": {
          "base_uri": "https://localhost:8080/",
          "height": 35
        },
        "outputId": "45a7ca93-25f9-49af-fa75-f0d47b541826"
      },
      "source": [
        "print(a)"
      ],
      "execution_count": 67,
      "outputs": [
        {
          "output_type": "stream",
          "text": [
            "{}\n"
          ],
          "name": "stdout"
        }
      ]
    },
    {
      "cell_type": "code",
      "metadata": {
        "id": "fM1xNuJbA6Zo",
        "colab_type": "code",
        "outputId": "2052bb7d-87f6-43c0-fb88-0f2856038dd4",
        "colab": {
          "base_uri": "https://localhost:8080/",
          "height": 34
        }
      },
      "source": [
        ""
      ],
      "execution_count": 0,
      "outputs": [
        {
          "output_type": "stream",
          "text": [
            "{}\n"
          ],
          "name": "stdout"
        }
      ]
    },
    {
      "cell_type": "markdown",
      "metadata": {
        "id": "rJzM4Fm0A7hV",
        "colab_type": "text"
      },
      "source": [
        "### 해당 key가 딕셔너리 안에 있는지 조사하기\n",
        "<pre>\n",
        "* 사용법:\n",
        "key값 in 딕셔너리"
      ]
    },
    {
      "cell_type": "code",
      "metadata": {
        "id": "aeqyS4ecCsse",
        "colab_type": "code",
        "colab": {}
      },
      "source": [
        "z = {'name':1, 'loc':2, 'age':3}"
      ],
      "execution_count": 0,
      "outputs": []
    },
    {
      "cell_type": "code",
      "metadata": {
        "id": "qfwtI9hOC4Tw",
        "colab_type": "code",
        "colab": {
          "base_uri": "https://localhost:8080/",
          "height": 35
        },
        "outputId": "cd495c42-45da-41e6-9351-056c0af1b9ae"
      },
      "source": [
        "'name'in z"
      ],
      "execution_count": 74,
      "outputs": [
        {
          "output_type": "execute_result",
          "data": {
            "text/plain": [
              "True"
            ]
          },
          "metadata": {
            "tags": []
          },
          "execution_count": 74
        }
      ]
    },
    {
      "cell_type": "code",
      "metadata": {
        "id": "21m7fYfWC6yc",
        "colab_type": "code",
        "colab": {
          "base_uri": "https://localhost:8080/",
          "height": 35
        },
        "outputId": "842d0182-edb1-4541-c98d-d7b92efe178d"
      },
      "source": [
        "4in z"
      ],
      "execution_count": 75,
      "outputs": [
        {
          "output_type": "execute_result",
          "data": {
            "text/plain": [
              "False"
            ]
          },
          "metadata": {
            "tags": []
          },
          "execution_count": 75
        }
      ]
    },
    {
      "cell_type": "markdown",
      "metadata": {
        "id": "6yfqSEStDAV0",
        "colab_type": "text"
      },
      "source": [
        "True 는 있음\n",
        "\n",
        "False는 없음"
      ]
    },
    {
      "cell_type": "code",
      "metadata": {
        "id": "doNnhz6WGKqG",
        "colab_type": "code",
        "colab": {}
      },
      "source": [
        ""
      ],
      "execution_count": 0,
      "outputs": []
    }
  ]
}