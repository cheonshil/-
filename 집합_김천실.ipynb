{
  "nbformat": 4,
  "nbformat_minor": 0,
  "metadata": {
    "colab": {
      "name": "집합_김천실",
      "version": "0.3.2",
      "provenance": [],
      "collapsed_sections": [],
      "include_colab_link": true
    },
    "kernelspec": {
      "name": "python3",
      "display_name": "Python 3"
    }
  },
  "cells": [
    {
      "cell_type": "markdown",
      "metadata": {
        "id": "view-in-github",
        "colab_type": "text"
      },
      "source": [
        "<a href=\"https://colab.research.google.com/github/cheonshil/python/blob/master/%EC%A7%91%ED%95%A9_%EA%B9%80%EC%B2%9C%EC%8B%A4.ipynb\" target=\"_parent\"><img src=\"https://colab.research.google.com/assets/colab-badge.svg\" alt=\"Open In Colab\"/></a>"
      ]
    },
    {
      "cell_type": "markdown",
      "metadata": {
        "id": "d8t4GZZkDQL4",
        "colab_type": "text"
      },
      "source": [
        "# 5.집합\n",
        "여러개의 값을 담을 수 있는 변수."
      ]
    },
    {
      "cell_type": "markdown",
      "metadata": {
        "id": "LJPlIbNfD_yL",
        "colab_type": "text"
      },
      "source": [
        "## 5-1.집합의 형식\n",
        "<pre>\n",
        "* 집합이름 = set(값)\n",
        "  (여기서 값의 형태는 리스트나 튜플, 단일 변수가 들어갈 수 있음)\n",
        "  집합이름 = set()\n",
        "  \n",
        "* 집합의 특징\n",
        "  -집합(합집합, 교집합)과 관련된 것을 쉽게 처리하기 위한 변수\n",
        "  -리스트/튜플로 변환 후 인덱스로 접근 가능"
      ]
    },
    {
      "cell_type": "markdown",
      "metadata": {
        "id": "_2b9ywszEvoT",
        "colab_type": "text"
      },
      "source": [
        "### 집합 만들기\n",
        "set() 함수를 이용하여 만들 수 있습니다."
      ]
    },
    {
      "cell_type": "code",
      "metadata": {
        "id": "_4gmrMilEzT2",
        "colab_type": "code",
        "colab": {}
      },
      "source": [
        "# 리스트로 집합 만들기\n",
        "set1=set([1,2,3,3,4])"
      ],
      "execution_count": 0,
      "outputs": []
    },
    {
      "cell_type": "code",
      "metadata": {
        "id": "PutGUT2KFj2H",
        "colab_type": "code",
        "colab": {
          "base_uri": "https://localhost:8080/",
          "height": 35
        },
        "outputId": "071890b5-046a-40d9-8e4e-b2b195ae0e87"
      },
      "source": [
        "print(set1)"
      ],
      "execution_count": 6,
      "outputs": [
        {
          "output_type": "stream",
          "text": [
            "{1, 2, 3, 4}\n"
          ],
          "name": "stdout"
        }
      ]
    },
    {
      "cell_type": "code",
      "metadata": {
        "id": "jMyzNMZEFksr",
        "colab_type": "code",
        "colab": {
          "base_uri": "https://localhost:8080/",
          "height": 35
        },
        "outputId": "03ca5f10-b7a4-46c5-efcf-14a097f029c1"
      },
      "source": [
        "# 단일 변수로 집합 만들기\n",
        "set1=set('apple')\n",
        "print(set1)"
      ],
      "execution_count": 8,
      "outputs": [
        {
          "output_type": "stream",
          "text": [
            "{'e', 'l', 'p', 'a'}\n"
          ],
          "name": "stdout"
        }
      ]
    },
    {
      "cell_type": "markdown",
      "metadata": {
        "id": "7y4D4KLdF1R0",
        "colab_type": "text"
      },
      "source": [
        "<pre>\n",
        "여기서 알 수 있는 집합 자료형의 특징\n",
        "* 중복이 없다.\n",
        "* 순서가 없다.\n",
        "* 그래서 인덱스(순서)도 없다."
      ]
    },
    {
      "cell_type": "markdown",
      "metadata": {
        "id": "mWWqBk7bGObs",
        "colab_type": "text"
      },
      "source": [
        "### 집합을 인덱스로 접근하려면?\n",
        "리스트나 튜플로 바꾸어 주어야 합니다.\n",
        "\n",
        "list() 함수를 사용하거나\n",
        "\n",
        "tuple() 함수를 사용해야 합니다."
      ]
    },
    {
      "cell_type": "code",
      "metadata": {
        "id": "LDtv3TNtLJ1k",
        "colab_type": "code",
        "colab": {}
      },
      "source": [
        "set1 = set([2,4,6,6])"
      ],
      "execution_count": 0,
      "outputs": []
    },
    {
      "cell_type": "code",
      "metadata": {
        "id": "7PrZMr2-GnEP",
        "colab_type": "code",
        "colab": {
          "base_uri": "https://localhost:8080/",
          "height": 35
        },
        "outputId": "2378fe79-a292-4a70-82f2-9535b49ad1c5"
      },
      "source": [
        "list1=list(set1)\n",
        "print(list1)"
      ],
      "execution_count": 11,
      "outputs": [
        {
          "output_type": "stream",
          "text": [
            "[2, 4, 6]\n"
          ],
          "name": "stdout"
        }
      ]
    },
    {
      "cell_type": "code",
      "metadata": {
        "id": "x3fb_wDrLMuo",
        "colab_type": "code",
        "colab": {}
      },
      "source": [
        "set2 = set('apple')"
      ],
      "execution_count": 0,
      "outputs": []
    },
    {
      "cell_type": "code",
      "metadata": {
        "id": "2gNfdi-SGrf2",
        "colab_type": "code",
        "colab": {
          "base_uri": "https://localhost:8080/",
          "height": 35
        },
        "outputId": "3b51713e-8ad9-4092-c87c-7e7e5323a284"
      },
      "source": [
        "tuple1=tuple(set2)\n",
        "print(tuple1)"
      ],
      "execution_count": 13,
      "outputs": [
        {
          "output_type": "stream",
          "text": [
            "('e', 'l', 'p', 'a')\n"
          ],
          "name": "stdout"
        }
      ]
    },
    {
      "cell_type": "markdown",
      "metadata": {
        "id": "P4Rdrr41GugE",
        "colab_type": "text"
      },
      "source": [
        "### 집합의 유용성 - 교집합, 합집합, 차집합\n",
        "집합 2개를 만들고 교집합, 합집합, 차집합을 만들어 봅시다."
      ]
    },
    {
      "cell_type": "markdown",
      "metadata": {
        "id": "BlI3AAVIHyga",
        "colab_type": "text"
      },
      "source": [
        "#### 교집합\n",
        " & 을 이용하면 됩니다."
      ]
    },
    {
      "cell_type": "code",
      "metadata": {
        "id": "YbiIOz73HbM5",
        "colab_type": "code",
        "colab": {}
      },
      "source": [
        "set1 = set([0,1,2,3,4,5])\n",
        "set2 = set([3,4,5,6,7,8])"
      ],
      "execution_count": 0,
      "outputs": []
    },
    {
      "cell_type": "code",
      "metadata": {
        "id": "cPswkn82H9KT",
        "colab_type": "code",
        "colab": {
          "base_uri": "https://localhost:8080/",
          "height": 35
        },
        "outputId": "73e8575e-ef5d-45c3-e3a8-112a46227453"
      },
      "source": [
        "print(set1&set2)"
      ],
      "execution_count": 15,
      "outputs": [
        {
          "output_type": "stream",
          "text": [
            "{3, 4, 5}\n"
          ],
          "name": "stdout"
        }
      ]
    },
    {
      "cell_type": "markdown",
      "metadata": {
        "id": "0dryK8aSIE0L",
        "colab_type": "text"
      },
      "source": [
        "다른 방법으로\n",
        "\n",
        "집합1명.intersection(집합2명) 함수를 이용하면 됩니다."
      ]
    },
    {
      "cell_type": "code",
      "metadata": {
        "id": "oz0NsThCLmIg",
        "colab_type": "code",
        "colab": {}
      },
      "source": [
        "set1 = set([0,1,2,3,4,5])\n",
        "set2 = set([3,4,5,6,7,8])"
      ],
      "execution_count": 0,
      "outputs": []
    },
    {
      "cell_type": "code",
      "metadata": {
        "id": "dUrg67cOIaHF",
        "colab_type": "code",
        "colab": {
          "base_uri": "https://localhost:8080/",
          "height": 35
        },
        "outputId": "e0d99a66-3aad-4c8f-d41c-8f9e4f83386e"
      },
      "source": [
        "print(set1.intersection(set2))"
      ],
      "execution_count": 17,
      "outputs": [
        {
          "output_type": "stream",
          "text": [
            "{3, 4, 5}\n"
          ],
          "name": "stdout"
        }
      ]
    },
    {
      "cell_type": "markdown",
      "metadata": {
        "id": "MGD8zEKkIkFi",
        "colab_type": "text"
      },
      "source": [
        "#### 합집합\n",
        "shift + \\ 를 하면 | 이 나옵니다."
      ]
    },
    {
      "cell_type": "code",
      "metadata": {
        "id": "QOz17d94LnFI",
        "colab_type": "code",
        "colab": {}
      },
      "source": [
        "set1 = set([0,1,2,3,4,5])\n",
        "set2 = set([3,4,5,6,7,8])"
      ],
      "execution_count": 0,
      "outputs": []
    },
    {
      "cell_type": "code",
      "metadata": {
        "id": "6wbz2sm4I5FR",
        "colab_type": "code",
        "colab": {
          "base_uri": "https://localhost:8080/",
          "height": 35
        },
        "outputId": "d1844fef-3f6e-4d2a-a75f-d201370ba2f6"
      },
      "source": [
        "print(set1 | set2)"
      ],
      "execution_count": 18,
      "outputs": [
        {
          "output_type": "stream",
          "text": [
            "{0, 1, 2, 3, 4, 5, 6, 7, 8}\n"
          ],
          "name": "stdout"
        }
      ]
    },
    {
      "cell_type": "markdown",
      "metadata": {
        "id": "eRH8EkC5I9gx",
        "colab_type": "text"
      },
      "source": [
        "다른 방법으로는\n",
        "\n",
        "집합1명.union(집합2명)을 사용합니다."
      ]
    },
    {
      "cell_type": "code",
      "metadata": {
        "id": "Qab_WjMnLnw4",
        "colab_type": "code",
        "colab": {}
      },
      "source": [
        "set1 = set([0,1,2,3,4,5])\n",
        "set2 = set([3,4,5,6,7,8])"
      ],
      "execution_count": 0,
      "outputs": []
    },
    {
      "cell_type": "code",
      "metadata": {
        "id": "aECV1CwAJFla",
        "colab_type": "code",
        "colab": {
          "base_uri": "https://localhost:8080/",
          "height": 35
        },
        "outputId": "e233c0c5-a5e9-424a-9a13-bc8ce10c0997"
      },
      "source": [
        "print(set1.union(set2))"
      ],
      "execution_count": 20,
      "outputs": [
        {
          "output_type": "stream",
          "text": [
            "{0, 1, 2, 3, 4, 5, 6, 7, 8}\n"
          ],
          "name": "stdout"
        }
      ]
    },
    {
      "cell_type": "markdown",
      "metadata": {
        "id": "GgyRlFC_JJhR",
        "colab_type": "text"
      },
      "source": [
        "#### 차집합\n",
        "빼기 (-) 를 이용하면 됩니다."
      ]
    },
    {
      "cell_type": "code",
      "metadata": {
        "id": "tZUrfgIILogw",
        "colab_type": "code",
        "colab": {}
      },
      "source": [
        "set1 = set([0,1,2,3,4,5])\n",
        "set2 = set([3,4,5,6,7,8])"
      ],
      "execution_count": 0,
      "outputs": []
    },
    {
      "cell_type": "code",
      "metadata": {
        "id": "0ePG0-ZVJXqU",
        "colab_type": "code",
        "colab": {
          "base_uri": "https://localhost:8080/",
          "height": 35
        },
        "outputId": "8fbc1d0b-d9ff-4820-b4f6-93be0b4c5176"
      },
      "source": [
        "print(set1-set2)"
      ],
      "execution_count": 22,
      "outputs": [
        {
          "output_type": "stream",
          "text": [
            "{0, 1, 2}\n"
          ],
          "name": "stdout"
        }
      ]
    },
    {
      "cell_type": "code",
      "metadata": {
        "id": "BOKfxkhPLpKo",
        "colab_type": "code",
        "colab": {}
      },
      "source": [
        "set1 = set([0,1,2,3,4,5])\n",
        "set2 = set([3,4,5,6,7,8])"
      ],
      "execution_count": 0,
      "outputs": []
    },
    {
      "cell_type": "code",
      "metadata": {
        "id": "ehIwgsHkJgz3",
        "colab_type": "code",
        "colab": {
          "base_uri": "https://localhost:8080/",
          "height": 35
        },
        "outputId": "132a6165-a673-4700-cbf8-69db85876cf2"
      },
      "source": [
        "print(set1-set2)"
      ],
      "execution_count": 24,
      "outputs": [
        {
          "output_type": "stream",
          "text": [
            "{0, 1, 2}\n"
          ],
          "name": "stdout"
        }
      ]
    },
    {
      "cell_type": "markdown",
      "metadata": {
        "id": "SVOJvGQuJip1",
        "colab_type": "text"
      },
      "source": [
        "다른 방법으로 \n",
        "\n",
        "집합1명.difference(집합2) 함수를 사용해도 됩니다."
      ]
    },
    {
      "cell_type": "code",
      "metadata": {
        "id": "R63tVm-1LqEb",
        "colab_type": "code",
        "colab": {}
      },
      "source": [
        "set1 = set([0,1,2,3,4,5])\n",
        "set2 = set([3,4,5,6,7,8])"
      ],
      "execution_count": 0,
      "outputs": []
    },
    {
      "cell_type": "code",
      "metadata": {
        "id": "C8gpH3XxJz4o",
        "colab_type": "code",
        "colab": {
          "base_uri": "https://localhost:8080/",
          "height": 35
        },
        "outputId": "d71ae889-30b5-45e5-b3e8-4756165240ea"
      },
      "source": [
        "print(set1.difference(set2))"
      ],
      "execution_count": 26,
      "outputs": [
        {
          "output_type": "stream",
          "text": [
            "{0, 1, 2}\n"
          ],
          "name": "stdout"
        }
      ]
    },
    {
      "cell_type": "code",
      "metadata": {
        "id": "41WqTlo3LqzB",
        "colab_type": "code",
        "colab": {}
      },
      "source": [
        "set1 = set([0,1,2,3,4,5])\n",
        "set2 = set([3,4,5,6,7,8])"
      ],
      "execution_count": 0,
      "outputs": []
    },
    {
      "cell_type": "code",
      "metadata": {
        "id": "paysyKsAKDJG",
        "colab_type": "code",
        "colab": {
          "base_uri": "https://localhost:8080/",
          "height": 35
        },
        "outputId": "c5fda926-9759-49f8-e5a8-1b8045fdc9ac"
      },
      "source": [
        "print(set1.difference(set2))"
      ],
      "execution_count": 28,
      "outputs": [
        {
          "output_type": "stream",
          "text": [
            "{0, 1, 2}\n"
          ],
          "name": "stdout"
        }
      ]
    },
    {
      "cell_type": "markdown",
      "metadata": {
        "id": "AhSBMTdDKFMg",
        "colab_type": "text"
      },
      "source": [
        "## 5-2.집합 자료형 관련 함수들"
      ]
    },
    {
      "cell_type": "markdown",
      "metadata": {
        "id": "NZnlvZOfKOw-",
        "colab_type": "text"
      },
      "source": [
        "### 값 1개 추가하기(add() 함수)\n",
        "이미 만들어진 집합에 1개 값만 추가하고자 하면\n",
        "\n",
        "add() 함수를 사용합니다."
      ]
    },
    {
      "cell_type": "code",
      "metadata": {
        "id": "1QYGb13zLtQA",
        "colab_type": "code",
        "colab": {}
      },
      "source": [
        "set1 = set([0,1,2,3,4,5])"
      ],
      "execution_count": 0,
      "outputs": []
    },
    {
      "cell_type": "code",
      "metadata": {
        "id": "Ux9LZeT3Kb_D",
        "colab_type": "code",
        "colab": {
          "base_uri": "https://localhost:8080/",
          "height": 35
        },
        "outputId": "7265f740-a4f1-4e60-bb7b-fa2364e43209"
      },
      "source": [
        "# 100이라는 값 하나 추가하기\n",
        "set1.add(100)\n",
        "print(set1)"
      ],
      "execution_count": 31,
      "outputs": [
        {
          "output_type": "stream",
          "text": [
            "{0, 1, 2, 3, 4, 5, 100}\n"
          ],
          "name": "stdout"
        }
      ]
    },
    {
      "cell_type": "markdown",
      "metadata": {
        "id": "QdVYmdEbKhlo",
        "colab_type": "text"
      },
      "source": [
        "### 값 여러 개 추가하기(update() 함수)\n",
        "여러 개의 값을 한꺼번에 추가할 때는\n",
        "\n",
        "update() 함수를 사용하면 됩니다."
      ]
    },
    {
      "cell_type": "code",
      "metadata": {
        "id": "NTNEvclWLvWo",
        "colab_type": "code",
        "colab": {}
      },
      "source": [
        "set1 = set([0,1,2,3,4,5])"
      ],
      "execution_count": 0,
      "outputs": []
    },
    {
      "cell_type": "code",
      "metadata": {
        "id": "1CF1BGKf83C1",
        "colab_type": "code",
        "colab": {
          "base_uri": "https://localhost:8080/",
          "height": 35
        },
        "outputId": "2a9fd2b4-0c62-4726-97ad-7d55a23cd0bb"
      },
      "source": [
        "set1.update([1000, 2000, 3000])\n",
        "print(set1)"
      ],
      "execution_count": 47,
      "outputs": [
        {
          "output_type": "stream",
          "text": [
            "{0, 1, 2, 3, 4, 5, 1000, 2000, 3000}\n"
          ],
          "name": "stdout"
        }
      ]
    },
    {
      "cell_type": "code",
      "metadata": {
        "id": "WiQjWKg9K1V6",
        "colab_type": "code",
        "colab": {
          "base_uri": "https://localhost:8080/",
          "height": 35
        },
        "outputId": "971b2193-3f64-4160-d43e-589720ea4c0f"
      },
      "source": [
        "# [1000, 2000, 3000] 리스트의 값들\n",
        "list1=1000, 2000, 3000\n",
        "set1.update(list1)\n",
        "print(set1)\n"
      ],
      "execution_count": 44,
      "outputs": [
        {
          "output_type": "stream",
          "text": [
            "{0, 1, 2, 3, 4, 1000, 2000, 3000}\n"
          ],
          "name": "stdout"
        }
      ]
    },
    {
      "cell_type": "markdown",
      "metadata": {
        "id": "AUg2Uj_kK8yx",
        "colab_type": "text"
      },
      "source": [
        "### 특정 값 제거하기(remove() 함수)\n",
        "특정 값을 제거하고 싶을 때는\n",
        "\n",
        "remove() 함수를 사용하면 됩니다."
      ]
    },
    {
      "cell_type": "code",
      "metadata": {
        "id": "h2V-koiuLx3Q",
        "colab_type": "code",
        "colab": {}
      },
      "source": [
        "set1 = set([0,1,2,3,4,5])"
      ],
      "execution_count": 0,
      "outputs": []
    },
    {
      "cell_type": "code",
      "metadata": {
        "id": "rPM7e63aLGxX",
        "colab_type": "code",
        "colab": {
          "base_uri": "https://localhost:8080/",
          "height": 35
        },
        "outputId": "1c3a161b-c6da-4cae-88da-60f24998d4ae"
      },
      "source": [
        "# 값 5 제거하기\n",
        "set1.remove(5)\n",
        "print(set1)"
      ],
      "execution_count": 42,
      "outputs": [
        {
          "output_type": "stream",
          "text": [
            "{0, 1, 2, 3, 4}\n"
          ],
          "name": "stdout"
        }
      ]
    },
    {
      "cell_type": "code",
      "metadata": {
        "id": "_ggNYCoX8BZd",
        "colab_type": "code",
        "colab": {}
      },
      "source": [
        ""
      ],
      "execution_count": 0,
      "outputs": []
    }
  ]
}