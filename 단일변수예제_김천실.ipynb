{
  "nbformat": 4,
  "nbformat_minor": 0,
  "metadata": {
    "colab": {
      "name": "단일변수예제_김천실",
      "version": "0.3.2",
      "provenance": [],
      "collapsed_sections": [],
      "include_colab_link": true
    },
    "kernelspec": {
      "name": "python3",
      "display_name": "Python 3"
    }
  },
  "cells": [
    {
      "cell_type": "markdown",
      "metadata": {
        "id": "view-in-github",
        "colab_type": "text"
      },
      "source": [
        "<a href=\"https://colab.research.google.com/github/cheonshil/python/blob/master/%EB%8B%A8%EC%9D%BC%EB%B3%80%EC%88%98%EC%98%88%EC%A0%9C_%EA%B9%80%EC%B2%9C%EC%8B%A4.ipynb\" target=\"_parent\"><img src=\"https://colab.research.google.com/assets/colab-badge.svg\" alt=\"Open In Colab\"/></a>"
      ]
    },
    {
      "cell_type": "markdown",
      "metadata": {
        "id": "j0ujfQVz2n0e",
        "colab_type": "text"
      },
      "source": [
        "### Q001. number 라는 이름의 변수에 1을 넣으세요."
      ]
    },
    {
      "cell_type": "code",
      "metadata": {
        "id": "GtkiXpxM28cy",
        "colab_type": "code",
        "colab": {}
      },
      "source": [
        "number=1"
      ],
      "execution_count": 0,
      "outputs": []
    },
    {
      "cell_type": "markdown",
      "metadata": {
        "id": "JsVUe21129T5",
        "colab_type": "text"
      },
      "source": [
        "### Q002. 변수 a와 변수 b가 주어질 때, 그 합을 c에 넣으세요.\n",
        "### 출력도 해보세요."
      ]
    },
    {
      "cell_type": "code",
      "metadata": {
        "id": "beA_vw7e3Wdq",
        "colab_type": "code",
        "colab": {}
      },
      "source": [
        "a=7\n",
        "b=4\n",
        "c=a+b"
      ],
      "execution_count": 0,
      "outputs": []
    },
    {
      "cell_type": "code",
      "metadata": {
        "id": "ZF7Ka2iyLu6B",
        "colab_type": "code",
        "colab": {
          "base_uri": "https://localhost:8080/",
          "height": 35
        },
        "outputId": "f28075be-5ef3-47d5-885d-48ad55ef4511"
      },
      "source": [
        "print(c)"
      ],
      "execution_count": 17,
      "outputs": [
        {
          "output_type": "stream",
          "text": [
            "11\n"
          ],
          "name": "stdout"
        }
      ]
    },
    {
      "cell_type": "markdown",
      "metadata": {
        "id": "4UbnX7Vg3aKJ",
        "colab_type": "text"
      },
      "source": [
        "### Q003. 3번 문제의 a를 b로 나눗셈 하여 d에 넣으세요.\n",
        "### 출력까지 해보세요."
      ]
    },
    {
      "cell_type": "code",
      "metadata": {
        "id": "67PiaAZgCNFq",
        "colab_type": "code",
        "colab": {
          "base_uri": "https://localhost:8080/",
          "height": 35
        },
        "outputId": "9e5ea590-54a3-409e-d263-71fe2652527a"
      },
      "source": [
        "d=a/b\n",
        "print(d)"
      ],
      "execution_count": 18,
      "outputs": [
        {
          "output_type": "stream",
          "text": [
            "1.75\n"
          ],
          "name": "stdout"
        }
      ]
    },
    {
      "cell_type": "markdown",
      "metadata": {
        "id": "uOyvxk2HBypO",
        "colab_type": "text"
      },
      "source": [
        "### Q004. 3번의 a를 b로 나눗셈의 몫 연산한 것을 출력하세요."
      ]
    },
    {
      "cell_type": "code",
      "metadata": {
        "id": "h8rtTT-zCLnL",
        "colab_type": "code",
        "colab": {
          "base_uri": "https://localhost:8080/",
          "height": 35
        },
        "outputId": "629d6829-a054-4375-9fd8-cd8aa7edc49f"
      },
      "source": [
        "print(a//b)"
      ],
      "execution_count": 19,
      "outputs": [
        {
          "output_type": "stream",
          "text": [
            "1\n"
          ],
          "name": "stdout"
        }
      ]
    },
    {
      "cell_type": "markdown",
      "metadata": {
        "id": "aLvNsP47CMtz",
        "colab_type": "text"
      },
      "source": [
        "### Q005. 3번의 a를 b로 나눗셈의 나머지 연산 한 것을 출력하세요."
      ]
    },
    {
      "cell_type": "code",
      "metadata": {
        "id": "ifjHs8zDCYNQ",
        "colab_type": "code",
        "colab": {
          "base_uri": "https://localhost:8080/",
          "height": 35
        },
        "outputId": "7a0308ff-b04f-4579-a5fe-21455dc7dd22"
      },
      "source": [
        "print(a%b)"
      ],
      "execution_count": 20,
      "outputs": [
        {
          "output_type": "stream",
          "text": [
            "3\n"
          ],
          "name": "stdout"
        }
      ]
    },
    {
      "cell_type": "markdown",
      "metadata": {
        "id": "cu9pxnWgDYi6",
        "colab_type": "text"
      },
      "source": [
        "### Q006. 3번의 a를 b제곱 한 결과를 출력하세요."
      ]
    },
    {
      "cell_type": "code",
      "metadata": {
        "id": "xh4ZNXOvDZbW",
        "colab_type": "code",
        "colab": {
          "base_uri": "https://localhost:8080/",
          "height": 35
        },
        "outputId": "6e4e7b04-00d7-4b0a-c9e6-d762efebceac"
      },
      "source": [
        "print(a**b)"
      ],
      "execution_count": 21,
      "outputs": [
        {
          "output_type": "stream",
          "text": [
            "2401\n"
          ],
          "name": "stdout"
        }
      ]
    },
    {
      "cell_type": "markdown",
      "metadata": {
        "id": "JGhQmOjFDliy",
        "colab_type": "text"
      },
      "source": [
        "### Q007. 자신의 이름을 출력하세요."
      ]
    },
    {
      "cell_type": "code",
      "metadata": {
        "id": "JoF7vp3XDxnP",
        "colab_type": "code",
        "colab": {
          "base_uri": "https://localhost:8080/",
          "height": 35
        },
        "outputId": "88183b09-0588-4226-bea2-0453f9b4f952"
      },
      "source": [
        "print('김천실')"
      ],
      "execution_count": 22,
      "outputs": [
        {
          "output_type": "stream",
          "text": [
            "김천실\n"
          ],
          "name": "stdout"
        }
      ]
    },
    {
      "cell_type": "markdown",
      "metadata": {
        "id": "wU4JulsPDyM6",
        "colab_type": "text"
      },
      "source": [
        "### Q008. 자신의 이름을 a라는 변수에 넣으세요."
      ]
    },
    {
      "cell_type": "code",
      "metadata": {
        "id": "0ReKLMZqD5xA",
        "colab_type": "code",
        "colab": {}
      },
      "source": [
        "a='김천실'"
      ],
      "execution_count": 0,
      "outputs": []
    },
    {
      "cell_type": "markdown",
      "metadata": {
        "id": "x1XeJ86REAhq",
        "colab_type": "text"
      },
      "source": [
        "### Q009. 아래 문장을 문자열 처리해서 b 라는 변수에 넣으세요. "
      ]
    },
    {
      "cell_type": "code",
      "metadata": {
        "id": "a2bjNri1EJ_o",
        "colab_type": "code",
        "colab": {}
      },
      "source": [
        "b='''화려한 도시를 그리며 찾아왔네.\n",
        "그곳은 춥고도 험한 곳.'''"
      ],
      "execution_count": 0,
      "outputs": []
    },
    {
      "cell_type": "markdown",
      "metadata": {
        "id": "wPGbVi55Eg7K",
        "colab_type": "text"
      },
      "source": [
        "### Q010. 아래 예시처럼 출력될 수 있도록 문자열로 만들어 보세요.\n",
        "<pre>\n",
        "내 동생은 말했다. \"걸그룹은 역시 AOA야.\""
      ]
    },
    {
      "cell_type": "code",
      "metadata": {
        "id": "D4QEGKZuFQVc",
        "colab_type": "code",
        "colab": {
          "base_uri": "https://localhost:8080/",
          "height": 35
        },
        "outputId": "195ef4d1-7c8b-4342-f9e1-8a3467e91c6c"
      },
      "source": [
        "print('내 동생은 말했다. \"걸그룹은 역시 AOA야\"')"
      ],
      "execution_count": 25,
      "outputs": [
        {
          "output_type": "stream",
          "text": [
            "내 동생은 말했다. \"걸그룹은 역시 AOA야\"\n"
          ],
          "name": "stdout"
        }
      ]
    },
    {
      "cell_type": "markdown",
      "metadata": {
        "id": "9Mni54WCFRwC",
        "colab_type": "text"
      },
      "source": [
        "### Q011. 아래 문장을 전체 주석처리 해보세요."
      ]
    },
    {
      "cell_type": "code",
      "metadata": {
        "id": "d3-khgmHFjnV",
        "colab_type": "code",
        "colab": {
          "base_uri": "https://localhost:8080/",
          "height": 35
        },
        "outputId": "42ef0606-0d98-4eab-a898-87a8524bb85a"
      },
      "source": [
        "\"\"\"\n",
        "내 모습이 보이지 않아\n",
        "앞길도 보이지 않아\n",
        "나는 상처 많은 번데기\n",
        "\"\"\""
      ],
      "execution_count": 44,
      "outputs": [
        {
          "output_type": "execute_result",
          "data": {
            "text/plain": [
              "'\\n내 모습이 보이지 않아\\n앞길도 보이지 않아\\n나는 상처 많은 번데기\\n'"
            ]
          },
          "metadata": {
            "tags": []
          },
          "execution_count": 44
        }
      ]
    },
    {
      "cell_type": "markdown",
      "metadata": {
        "id": "dCEQb3mrFtri",
        "colab_type": "text"
      },
      "source": [
        "### Q012. 아래 변수에 * 2를 해서 출력하세요."
      ]
    },
    {
      "cell_type": "code",
      "metadata": {
        "id": "v-HBVIDDGB10",
        "colab_type": "code",
        "colab": {
          "base_uri": "https://localhost:8080/",
          "height": 35
        },
        "outputId": "da377b4e-b466-4d04-9ead-515850467bad"
      },
      "source": [
        "a = '대한민국'\n",
        "print(a*2)"
      ],
      "execution_count": 27,
      "outputs": [
        {
          "output_type": "stream",
          "text": [
            "대한민국대한민국\n"
          ],
          "name": "stdout"
        }
      ]
    },
    {
      "cell_type": "markdown",
      "metadata": {
        "id": "rrsdkUScGOJy",
        "colab_type": "text"
      },
      "source": [
        "### Q013. 아래 예시와 같이 출력하세요. 횟수는 30으로 합니다.\n",
        "<pre>\n",
        "예시\n",
        "----------------------"
      ]
    },
    {
      "cell_type": "code",
      "metadata": {
        "id": "VxjsCPEyGuPw",
        "colab_type": "code",
        "colab": {
          "base_uri": "https://localhost:8080/",
          "height": 35
        },
        "outputId": "b65d7e5f-378a-4517-b8b6-091645cd22c3"
      },
      "source": [
        "print('-'*30)"
      ],
      "execution_count": 28,
      "outputs": [
        {
          "output_type": "stream",
          "text": [
            "------------------------------\n"
          ],
          "name": "stdout"
        }
      ]
    },
    {
      "cell_type": "markdown",
      "metadata": {
        "id": "FIxk7iwsGutj",
        "colab_type": "text"
      },
      "source": [
        "### Q014. 아래 변수의 길이를 구하세요."
      ]
    },
    {
      "cell_type": "code",
      "metadata": {
        "id": "QoCQBQ5EHG9P",
        "colab_type": "code",
        "colab": {
          "base_uri": "https://localhost:8080/",
          "height": 35
        },
        "outputId": "6b762865-fec5-4e2c-9a92-c6edf103ad0f"
      },
      "source": [
        "a = '오늘은 든든한 곰국을 먹어야 겠다.'\n",
        "print(len(a))"
      ],
      "execution_count": 30,
      "outputs": [
        {
          "output_type": "stream",
          "text": [
            "19\n"
          ],
          "name": "stdout"
        }
      ]
    },
    {
      "cell_type": "markdown",
      "metadata": {
        "id": "h0D7MgA_HjNj",
        "colab_type": "text"
      },
      "source": [
        "### Q015. 아래 변수에서 '장'만을 출력하세요."
      ]
    },
    {
      "cell_type": "code",
      "metadata": {
        "id": "NbkNnyeIH7UZ",
        "colab_type": "code",
        "colab": {
          "base_uri": "https://localhost:8080/",
          "height": 35
        },
        "outputId": "7a9ae472-c8c5-4a50-89bb-9b7d6c1655b0"
      },
      "source": [
        "a = '이에 표창장을 수여합니다.'\n",
        "print(a[5])"
      ],
      "execution_count": 31,
      "outputs": [
        {
          "output_type": "stream",
          "text": [
            "장\n"
          ],
          "name": "stdout"
        }
      ]
    },
    {
      "cell_type": "markdown",
      "metadata": {
        "id": "vnPpdO_pIDCE",
        "colab_type": "text"
      },
      "source": [
        "### Q016. 아래 변수에서 '사랑은' 을 출력하세요."
      ]
    },
    {
      "cell_type": "code",
      "metadata": {
        "id": "-bEOBJhPIazG",
        "colab_type": "code",
        "colab": {
          "base_uri": "https://localhost:8080/",
          "height": 53
        },
        "outputId": "ef4bc3c1-32fc-4863-8566-cfc9ab6b0005"
      },
      "source": [
        "b = '사랑은 가슴이 시킨다.'\n",
        "print(b[:3])\n",
        "print(b[0],b[1],b[2],b[3])"
      ],
      "execution_count": 46,
      "outputs": [
        {
          "output_type": "stream",
          "text": [
            "사랑은\n",
            "사 랑 은  \n"
          ],
          "name": "stdout"
        }
      ]
    },
    {
      "cell_type": "markdown",
      "metadata": {
        "id": "JWGovja9Ifwb",
        "colab_type": "text"
      },
      "source": [
        "### Q017. 아래 변수를 이용하여 예시와 같은 문자열을 출력하세요.\n",
        "<pre>\n",
        "예시:\n",
        "사람이 꽃보다 아름다워"
      ]
    },
    {
      "cell_type": "code",
      "metadata": {
        "id": "upE0f-VlIyhG",
        "colab_type": "code",
        "colab": {
          "base_uri": "https://localhost:8080/",
          "height": 35
        },
        "outputId": "96511347-27e3-4177-e16f-ae73565e9ed6"
      },
      "source": [
        "a = '사람'\n",
        "print('{}이 꽃보다 아름다워'.format(a))"
      ],
      "execution_count": 37,
      "outputs": [
        {
          "output_type": "stream",
          "text": [
            "사람이 꽃보다 아름다워\n"
          ],
          "name": "stdout"
        }
      ]
    },
    {
      "cell_type": "markdown",
      "metadata": {
        "id": "59ZqEfTVI84b",
        "colab_type": "text"
      },
      "source": [
        "### Q018. 아래 변수들을 넣어서 예시와 같은 문자열을 출력하세요.\n",
        "<pre>\n",
        "예시:\n",
        "올해는 2019년 이니까 내년은 2020년이네."
      ]
    },
    {
      "cell_type": "code",
      "metadata": {
        "id": "DZ415OPnJgFY",
        "colab_type": "code",
        "colab": {
          "base_uri": "https://localhost:8080/",
          "height": 35
        },
        "outputId": "76fb364f-2a64-4651-e07f-07bb0df336f9"
      },
      "source": [
        "a = 2019\n",
        "b = 2020\n",
        "print('올해는 {}년 이니까 내년은 {}년이네'.format(a,b))"
      ],
      "execution_count": 38,
      "outputs": [
        {
          "output_type": "stream",
          "text": [
            "올해는 2019년 이니까 내년은 2020년이네\n"
          ],
          "name": "stdout"
        }
      ]
    },
    {
      "cell_type": "markdown",
      "metadata": {
        "id": "Fm4MJlUvJkQr",
        "colab_type": "text"
      },
      "source": [
        "### Q019. 아래 변수에서 '장'의 갯수를 출력하세요."
      ]
    },
    {
      "cell_type": "code",
      "metadata": {
        "id": "r1zTI0IWJzkI",
        "colab_type": "code",
        "colab": {
          "base_uri": "https://localhost:8080/",
          "height": 35
        },
        "outputId": "878e3db1-7321-47f1-8953-6f0563c5d01d"
      },
      "source": [
        "a = '간장공장공장장은 강공장장이다.'\n",
        "print(a.count('장'))"
      ],
      "execution_count": 40,
      "outputs": [
        {
          "output_type": "stream",
          "text": [
            "6\n"
          ],
          "name": "stdout"
        }
      ]
    },
    {
      "cell_type": "markdown",
      "metadata": {
        "id": "u08dnAqyJ9rL",
        "colab_type": "text"
      },
      "source": [
        "### Q020. 아래 변수에서 '병수'를 '민수'로 바꾸어 출력하세요."
      ]
    },
    {
      "cell_type": "code",
      "metadata": {
        "id": "24FHYLLEKKtf",
        "colab_type": "code",
        "colab": {
          "base_uri": "https://localhost:8080/",
          "height": 35
        },
        "outputId": "bdd0153b-08e4-4247-9b38-af5c9b4f6264"
      },
      "source": [
        "a = '병수는 우리반 반장이야.'\n",
        "print(a.replace('병수','민수'))"
      ],
      "execution_count": 41,
      "outputs": [
        {
          "output_type": "stream",
          "text": [
            "민수는 우리반 반장이야.\n"
          ],
          "name": "stdout"
        }
      ]
    },
    {
      "cell_type": "markdown",
      "metadata": {
        "id": "Ji-p0JQJKQ4L",
        "colab_type": "text"
      },
      "source": [
        "### Q021. 아래 변수를 공백 단위로 나누어 출력해 보세요."
      ]
    },
    {
      "cell_type": "code",
      "metadata": {
        "id": "wlmi6I9tKgsk",
        "colab_type": "code",
        "colab": {
          "base_uri": "https://localhost:8080/",
          "height": 35
        },
        "outputId": "5aa00a10-b964-4442-d53c-0ef0689f8ac1"
      },
      "source": [
        "a = 'I am your father'\n",
        "print(a.split())\n"
      ],
      "execution_count": 43,
      "outputs": [
        {
          "output_type": "stream",
          "text": [
            "['I', 'am', 'your', 'father']\n"
          ],
          "name": "stdout"
        }
      ]
    },
    {
      "cell_type": "code",
      "metadata": {
        "id": "_K1nFfsxOrbQ",
        "colab_type": "code",
        "colab": {}
      },
      "source": [
        ""
      ],
      "execution_count": 0,
      "outputs": []
    }
  ]
}