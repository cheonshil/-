{
  "nbformat": 4,
  "nbformat_minor": 0,
  "metadata": {
    "colab": {
      "name": "딕셔너리예제_김천실",
      "version": "0.3.2",
      "provenance": [],
      "collapsed_sections": [],
      "include_colab_link": true
    },
    "kernelspec": {
      "name": "python3",
      "display_name": "Python 3"
    }
  },
  "cells": [
    {
      "cell_type": "markdown",
      "metadata": {
        "id": "view-in-github",
        "colab_type": "text"
      },
      "source": [
        "<a href=\"https://colab.research.google.com/github/cheonshil/python/blob/master/%EB%94%95%EC%85%94%EB%84%88%EB%A6%AC%EC%98%88%EC%A0%9C_%EA%B9%80%EC%B2%9C%EC%8B%A4.ipynb\" target=\"_parent\"><img src=\"https://colab.research.google.com/assets/colab-badge.svg\" alt=\"Open In Colab\"/></a>"
      ]
    },
    {
      "cell_type": "markdown",
      "metadata": {
        "id": "fdf_Iye-NA-q",
        "colab_type": "text"
      },
      "source": [
        "### Q001. dict1 이라는 이름으로 빈 딕셔너리를 만드세요."
      ]
    },
    {
      "cell_type": "code",
      "metadata": {
        "id": "Sgx-S7IGM8ge",
        "colab_type": "code",
        "colab": {}
      },
      "source": [
        "dict1={}"
      ],
      "execution_count": 0,
      "outputs": []
    },
    {
      "cell_type": "markdown",
      "metadata": {
        "id": "BBq9tBVXNd47",
        "colab_type": "text"
      },
      "source": [
        "### Q002. '철수':27, '민철':30, '남희':28의 key와 value들을 갖는 our_team 이라는 이름의 딕셔너리를 만드세요."
      ]
    },
    {
      "cell_type": "code",
      "metadata": {
        "id": "5tBe2P3tOCXz",
        "colab_type": "code",
        "colab": {}
      },
      "source": [
        "our_team={'철수':27, '민철':30, '남희':28}"
      ],
      "execution_count": 0,
      "outputs": []
    },
    {
      "cell_type": "markdown",
      "metadata": {
        "id": "mZZFlTPKOHak",
        "colab_type": "text"
      },
      "source": [
        "### Q003. 2번에서 만든 our_team 딕셔너리의 key값들을 이용해서 value 값들을 각각 출력해보세요."
      ]
    },
    {
      "cell_type": "code",
      "metadata": {
        "id": "RNomTmtPOl2v",
        "colab_type": "code",
        "colab": {
          "base_uri": "https://localhost:8080/",
          "height": 35
        },
        "outputId": "2181a953-21ea-452b-ec71-f3ee524a36f7"
      },
      "source": [
        "print(our_team['철수'],our_team['민철'],our_team['남희'])"
      ],
      "execution_count": 5,
      "outputs": [
        {
          "output_type": "stream",
          "text": [
            "27 30 28\n"
          ],
          "name": "stdout"
        }
      ]
    },
    {
      "cell_type": "markdown",
      "metadata": {
        "id": "7O0pqVXIOnDk",
        "colab_type": "text"
      },
      "source": [
        "### Q004. 아래 리스트를 이용해서 딕셔너리를 만들었습니다. key값들을 이용해서 value 값들을 출력해 봅시다."
      ]
    },
    {
      "cell_type": "code",
      "metadata": {
        "id": "bDwgA-jASK-G",
        "colab_type": "code",
        "colab": {
          "base_uri": "https://localhost:8080/",
          "height": 35
        },
        "outputId": "ba4014cd-ea60-416f-db5b-9b83ccfbca83"
      },
      "source": [
        "a = ['kim', 'park', 'lee']\n",
        "b = ['LA', 'Seoul', 'Pusan']\n",
        "c = [24, 52, 33]\n",
        "\n",
        "dic1 = {'name':a, 'loc':b, 'age':c}\n",
        "\n",
        "print(dic1['name'],dic1['loc'],dic1['age'])"
      ],
      "execution_count": 14,
      "outputs": [
        {
          "output_type": "stream",
          "text": [
            "['kim', 'park', 'lee'] ['LA', 'Seoul', 'Pusan'] [24, 52, 33]\n"
          ],
          "name": "stdout"
        }
      ]
    },
    {
      "cell_type": "markdown",
      "metadata": {
        "id": "YFCHTAGLSyps",
        "colab_type": "text"
      },
      "source": [
        "### Q005. 아래 딕셔너리의 key 값들만 모아서 출력해 봅시다."
      ]
    },
    {
      "cell_type": "code",
      "metadata": {
        "id": "6uL1nFs8TBYX",
        "colab_type": "code",
        "colab": {
          "base_uri": "https://localhost:8080/",
          "height": 35
        },
        "outputId": "899239d5-1889-4083-cc5d-40691a8e6e95"
      },
      "source": [
        "a = {'name':'John', 'loc':'LA', 'age':33}\n",
        "print(a.keys())"
      ],
      "execution_count": 15,
      "outputs": [
        {
          "output_type": "stream",
          "text": [
            "dict_keys(['name', 'loc', 'age'])\n"
          ],
          "name": "stdout"
        }
      ]
    },
    {
      "cell_type": "markdown",
      "metadata": {
        "id": "adUAJMS_TChd",
        "colab_type": "text"
      },
      "source": [
        "### Q006. 아래 딕셔너리의 key값들을 모아서 리스트로 만들어 봅시다."
      ]
    },
    {
      "cell_type": "code",
      "metadata": {
        "id": "IOCaGCG6TK29",
        "colab_type": "code",
        "colab": {
          "base_uri": "https://localhost:8080/",
          "height": 35
        },
        "outputId": "8967d4c6-2f72-4e62-9b2f-618941aefcca"
      },
      "source": [
        "a = {'name':'John', 'loc':'LA', 'age':33}\n",
        "list=a.keys()\n",
        "print(list)"
      ],
      "execution_count": 16,
      "outputs": [
        {
          "output_type": "stream",
          "text": [
            "dict_keys(['name', 'loc', 'age'])\n"
          ],
          "name": "stdout"
        }
      ]
    },
    {
      "cell_type": "markdown",
      "metadata": {
        "id": "ybnhOqPuT2zV",
        "colab_type": "text"
      },
      "source": [
        "### Q007. 아래 딕셔너리의 value 값들을 모아서 리스트로 만들어 봅시다."
      ]
    },
    {
      "cell_type": "code",
      "metadata": {
        "id": "veirNY4YWt2i",
        "colab_type": "code",
        "colab": {
          "base_uri": "https://localhost:8080/",
          "height": 35
        },
        "outputId": "25fe5aa5-eaa1-4c84-8f7c-2bbc7fecd216"
      },
      "source": [
        "a = {'name':'John', 'loc':'LA', 'age':33}\n",
        "list=a.values()\n",
        "print(list)"
      ],
      "execution_count": 21,
      "outputs": [
        {
          "output_type": "stream",
          "text": [
            "dict_values(['John', 'LA', 33])\n"
          ],
          "name": "stdout"
        }
      ]
    },
    {
      "cell_type": "markdown",
      "metadata": {
        "id": "PyaeE8PHW0JU",
        "colab_type": "text"
      },
      "source": [
        "### Q008. 아래 딕셔너리의 key, value 값의 쌍을 리스트로 만들어 봅시다."
      ]
    },
    {
      "cell_type": "code",
      "metadata": {
        "id": "3UoStpLPW-jC",
        "colab_type": "code",
        "colab": {
          "base_uri": "https://localhost:8080/",
          "height": 35
        },
        "outputId": "b1e4ef86-dea6-4785-b1fe-3f5e1337b1ea"
      },
      "source": [
        "a = {'name':'John', 'loc':'LA', 'age':33}\n",
        "print(a.items())"
      ],
      "execution_count": 22,
      "outputs": [
        {
          "output_type": "stream",
          "text": [
            "dict_items([('name', 'John'), ('loc', 'LA'), ('age', 33)])\n"
          ],
          "name": "stdout"
        }
      ]
    },
    {
      "cell_type": "markdown",
      "metadata": {
        "id": "4gj8kbAuXAQM",
        "colab_type": "text"
      },
      "source": [
        "### Q009. 아래 딕셔너리의 key, value 값의 쌍을 지워봅시다."
      ]
    },
    {
      "cell_type": "code",
      "metadata": {
        "id": "oLT8rwjKXREL",
        "colab_type": "code",
        "colab": {
          "base_uri": "https://localhost:8080/",
          "height": 35
        },
        "outputId": "02014a7f-9d86-4d01-faee-f73b2ef73dd0"
      },
      "source": [
        "a = {'name':'John', 'loc':'LA', 'age':33}\n",
        "print(a.clear())"
      ],
      "execution_count": 23,
      "outputs": [
        {
          "output_type": "stream",
          "text": [
            "None\n"
          ],
          "name": "stdout"
        }
      ]
    },
    {
      "cell_type": "markdown",
      "metadata": {
        "id": "mY5nntTaXS4d",
        "colab_type": "text"
      },
      "source": [
        "### Q010. 아래 딕셔너리에서 key값으로 'age'가 있는지 조사하시오."
      ]
    },
    {
      "cell_type": "code",
      "metadata": {
        "id": "50f2DvJpXmXX",
        "colab_type": "code",
        "colab": {
          "base_uri": "https://localhost:8080/",
          "height": 35
        },
        "outputId": "81a4fc4f-2668-45a6-8f81-cd2a9b3c7a05"
      },
      "source": [
        "a = {'name':'John', 'loc':'LA', 'sex':'male'}\n",
        "print('age'in a)"
      ],
      "execution_count": 24,
      "outputs": [
        {
          "output_type": "stream",
          "text": [
            "False\n"
          ],
          "name": "stdout"
        }
      ]
    },
    {
      "cell_type": "code",
      "metadata": {
        "id": "2dKuP-iU34Xz",
        "colab_type": "code",
        "colab": {}
      },
      "source": [
        ""
      ],
      "execution_count": 0,
      "outputs": []
    }
  ]
}